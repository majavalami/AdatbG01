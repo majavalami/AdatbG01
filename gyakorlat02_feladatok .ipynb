{
    "metadata": {
        "kernelspec": {
            "name": "SQL",
            "display_name": "SQL",
            "language": "sql"
        },
        "language_info": {
            "name": "sql",
            "version": ""
        },
        "extensions": {
            "azuredatastudio": {
                "version": 1,
                "views": []
            }
        }
    },
    "nbformat_minor": 2,
    "nbformat": 4,
    "cells": [
        {
            "cell_type": "markdown",
            "source": [
                "1. <span style=\"color:rgb(36, 41, 47);font-family:-apple-system, BlinkMacSystemFont, &quot;Segoe UI&quot;, Helvetica, Arial, sans-serif, &quot;Apple Color Emoji&quot;, &quot;Segoe UI Emoji&quot;;font-size:16px;\">Készítsünk lekérdezést, amely listázza, hogy mely napokon hány db kölcsönzés történt!</span>\n",
                "\n",
                "<span style=\"font-size: 16px;\">a.&nbsp;</span> Az oszlopok neve legyen 'Dátum' és 'Kölcsönzések száma'  \n",
                "b. A listát rendezzük a kölcsönzés dátuma szerint csökkenő sorrendbe!"
            ],
            "metadata": {
                "azdata_cell_guid": "77f2d5b3-38e9-41cc-893f-f5afd02b97ef"
            },
            "attachments": {}
        },
        {
            "cell_type": "code",
            "source": [
                "SELECT ki_datum AS 'Dátum',\r\n",
                "       COUNT(*) AS 'Kölcsönzések száma'\r\n",
                "FROM kolcsonzesek\r\n",
                "GROUP BY ki_datum\r\n",
                "ORDER BY ki_datum DESC"
            ],
            "metadata": {
                "azdata_cell_guid": "bd3cef1a-4e6e-4ece-9dc3-aaa9d2b5d66d",
                "language": "sql"
            },
            "outputs": [
                {
                    "output_type": "display_data",
                    "data": {
                        "text/html": "(3 rows affected)"
                    },
                    "metadata": {}
                },
                {
                    "output_type": "display_data",
                    "data": {
                        "text/html": "Total execution time: 00:00:00.013"
                    },
                    "metadata": {}
                },
                {
                    "output_type": "execute_result",
                    "execution_count": 4,
                    "data": {
                        "application/vnd.dataresource+json": {
                            "schema": {
                                "fields": [
                                    {
                                        "name": "Dátum"
                                    },
                                    {
                                        "name": "Kölcsönzések száma"
                                    }
                                ]
                            },
                            "data": [
                                {
                                    "Dátum": "2006-10-02",
                                    "Kölcsönzések száma": "1"
                                },
                                {
                                    "Dátum": "2006-10-01",
                                    "Kölcsönzések száma": "1"
                                },
                                {
                                    "Dátum": "2003-12-11",
                                    "Kölcsönzések száma": "3"
                                }
                            ]
                        },
                        "text/html": "<table><tr><th>Dátum</th><th>Kölcsönzések száma</th></tr><tr><td>2006-10-02</td><td>1</td></tr><tr><td>2006-10-01</td><td>1</td></tr><tr><td>2003-12-11</td><td>3</td></tr></table>"
                    },
                    "metadata": {}
                }
            ],
            "execution_count": 4
        },
        {
            "cell_type": "markdown",
            "source": [
                "2. <span style=\"font-weight: 600; color: rgb(36, 41, 47); font-family: -apple-system, BlinkMacSystemFont, &quot;Segoe UI&quot;, Helvetica, Arial, sans-serif, &quot;Apple Color Emoji&quot;, &quot;Segoe UI Emoji&quot;; font-size: 16px;\">Mennyi a dvd-k átlagos ára stílusonkénti bontásban?</span>\n",
                "\n",
                "1. Csak azokat a stílusokat vegyük figyelembe, ahol az átlagos ár 4500 Ft feletti!\n",
                "2. Az oszlopokat nevezzük el értelemszerűen!\n",
                "3. A listát rendezzük átlagos ár szerint csökkenő sorrendbe!"
            ],
            "metadata": {
                "azdata_cell_guid": "88f5b4bb-f4c1-4bad-a0c7-b2592687b422"
            },
            "attachments": {}
        },
        {
            "cell_type": "code",
            "source": [
                "SELECT stilus,\r\n",
                "       AVG(nettoar) AS 'Átlagos ár'\r\n",
                "FROM dvd\r\n",
                "GROUP BY stilus\r\n",
                "HAVING AVG(nettoar) > 4500\r\n",
                "ORDER BY 'Átlagos ár' DESC"
            ],
            "metadata": {
                "azdata_cell_guid": "e9de5726-f036-4fb9-8c33-a873955ed886",
                "language": "sql"
            },
            "outputs": [
                {
                    "output_type": "display_data",
                    "data": {
                        "text/html": "(30 rows affected)"
                    },
                    "metadata": {}
                },
                {
                    "output_type": "display_data",
                    "data": {
                        "text/html": "Total execution time: 00:00:00.025"
                    },
                    "metadata": {}
                },
                {
                    "output_type": "execute_result",
                    "execution_count": 8,
                    "data": {
                        "application/vnd.dataresource+json": {
                            "schema": {
                                "fields": [
                                    {
                                        "name": "stilus"
                                    },
                                    {
                                        "name": "Átlagos ár"
                                    }
                                ]
                            },
                            "data": [
                                {
                                    "stilus": "ásványtan",
                                    "Átlagos ár": "5624"
                                },
                                {
                                    "stilus": "játék (rodeó)",
                                    "Átlagos ár": "5591"
                                },
                                {
                                    "stilus": "humor",
                                    "Átlagos ár": "5573"
                                },
                                {
                                    "stilus": "környezetvédelem",
                                    "Átlagos ár": "5508"
                                },
                                {
                                    "stilus": "kresz",
                                    "Átlagos ár": "5476"
                                },
                                {
                                    "stilus": "játék (jégkorong)",
                                    "Átlagos ár": "5242"
                                },
                                {
                                    "stilus": "színház",
                                    "Átlagos ár": "5158"
                                },
                                {
                                    "stilus": "múvészet",
                                    "Átlagos ár": "5118"
                                },
                                {
                                    "stilus": "kémia",
                                    "Átlagos ár": "5094"
                                },
                                {
                                    "stilus": "fordító program",
                                    "Átlagos ár": "5036"
                                },
                                {
                                    "stilus": "kerttervező",
                                    "Átlagos ár": "4951"
                                },
                                {
                                    "stilus": "művészet",
                                    "Átlagos ár": "4939,25"
                                },
                                {
                                    "stilus": "festészet",
                                    "Átlagos ár": "4901"
                                },
                                {
                                    "stilus": "zene",
                                    "Átlagos ár": "4855,333333333333"
                                },
                                {
                                    "stilus": "játék",
                                    "Átlagos ár": "4850,466666666666"
                                },
                                {
                                    "stilus": "játék (labdarúgás)",
                                    "Átlagos ár": "4817,333333333333"
                                },
                                {
                                    "stilus": "állattan",
                                    "Átlagos ár": "4783,666666666667"
                                },
                                {
                                    "stilus": "nyelvtan",
                                    "Átlagos ár": "4770,666666666667"
                                },
                                {
                                    "stilus": "fizika",
                                    "Átlagos ár": "4769"
                                },
                                {
                                    "stilus": "nyelvtanító",
                                    "Átlagos ár": "4759,476190476191"
                                },
                                {
                                    "stilus": "csillagászat",
                                    "Átlagos ár": "4733,571428571428"
                                },
                                {
                                    "stilus": "ismeretterjesztő",
                                    "Átlagos ár": "4726,673913043478"
                                },
                                {
                                    "stilus": "irodalom, nyelv",
                                    "Átlagos ár": "4704"
                                },
                                {
                                    "stilus": "gasztronómia",
                                    "Átlagos ár": "4691"
                                },
                                {
                                    "stilus": "történelem",
                                    "Átlagos ár": "4655,731707317073"
                                },
                                {
                                    "stilus": "szótár",
                                    "Átlagos ár": "4624,428571428572"
                                },
                                {
                                    "stilus": "sport",
                                    "Átlagos ár": "4607"
                                },
                                {
                                    "stilus": "földrajz",
                                    "Átlagos ár": "4580,0625"
                                },
                                {
                                    "stilus": "matematika",
                                    "Átlagos ár": "4520,777777777777"
                                },
                                {
                                    "stilus": "felvételi",
                                    "Átlagos ár": "4501,333333333333"
                                }
                            ]
                        },
                        "text/html": "<table><tr><th>stilus</th><th>Átlagos ár</th></tr><tr><td>ásványtan</td><td>5624</td></tr><tr><td>játék (rodeó)</td><td>5591</td></tr><tr><td>humor</td><td>5573</td></tr><tr><td>környezetvédelem</td><td>5508</td></tr><tr><td>kresz</td><td>5476</td></tr><tr><td>játék (jégkorong)</td><td>5242</td></tr><tr><td>színház</td><td>5158</td></tr><tr><td>múvészet</td><td>5118</td></tr><tr><td>kémia</td><td>5094</td></tr><tr><td>fordító program</td><td>5036</td></tr><tr><td>kerttervező</td><td>4951</td></tr><tr><td>művészet</td><td>4939,25</td></tr><tr><td>festészet</td><td>4901</td></tr><tr><td>zene</td><td>4855,333333333333</td></tr><tr><td>játék</td><td>4850,466666666666</td></tr><tr><td>játék (labdarúgás)</td><td>4817,333333333333</td></tr><tr><td>állattan</td><td>4783,666666666667</td></tr><tr><td>nyelvtan</td><td>4770,666666666667</td></tr><tr><td>fizika</td><td>4769</td></tr><tr><td>nyelvtanító</td><td>4759,476190476191</td></tr><tr><td>csillagászat</td><td>4733,571428571428</td></tr><tr><td>ismeretterjesztő</td><td>4726,673913043478</td></tr><tr><td>irodalom, nyelv</td><td>4704</td></tr><tr><td>gasztronómia</td><td>4691</td></tr><tr><td>történelem</td><td>4655,731707317073</td></tr><tr><td>szótár</td><td>4624,428571428572</td></tr><tr><td>sport</td><td>4607</td></tr><tr><td>földrajz</td><td>4580,0625</td></tr><tr><td>matematika</td><td>4520,777777777777</td></tr><tr><td>felvételi</td><td>4501,333333333333</td></tr></table>"
                    },
                    "metadata": {}
                }
            ],
            "execution_count": 8
        },
        {
            "cell_type": "markdown",
            "source": [
                "3. <span style=\"color:rgb(36, 41, 47);font-family:-apple-system, BlinkMacSystemFont, &quot;Segoe UI&quot;, Helvetica, Arial, sans-serif, &quot;Apple Color Emoji&quot;, &quot;Segoe UI Emoji&quot;;font-size:16px;\">Listázzuk nyelvenkénti, azon belül stílusonkénti bontásban, hogy mennyi a dvd-k legkisebb és legnagyobb ára!&nbsp;</span> \n",
                "\n",
                "<span style=\"font-size: 16px;\">a. Az oszlopok neve legyen 'Nyelv', 'Stílus', 'MinÁr' és 'MaxÁr'!<br>b.&nbsp;</span> A listából hagyjuk ki azokat a sorokat, ahol a nyelv vagy a stílus nincs megadva!  \n",
                "c. Szintén hagyjuk ki azokat a csoportokat, ahol a csoport elemszáma 3-nál kisebb!"
            ],
            "metadata": {
                "azdata_cell_guid": "9e7249de-1b59-43d8-84b1-26fa7d81fc5a"
            },
            "attachments": {}
        },
        {
            "cell_type": "code",
            "source": [
                "SELECT lang AS 'Nyelv',\r\n",
                "       stilus AS 'Stílus',\r\n",
                "       MIN(nettoar) AS 'MinÁr',\r\n",
                "       MAX(nettoar) AS 'MaxÁr'\r\n",
                "FROM dvd\r\n",
                "GROUP BY lang, stilus\r\n",
                ""
            ],
            "metadata": {
                "azdata_cell_guid": "6405d3e8-a9b1-45d7-aa76-3b1e785ef6cc",
                "language": "sql"
            },
            "outputs": [
                {
                    "output_type": "display_data",
                    "data": {
                        "text/html": "Query was canceled by user"
                    },
                    "metadata": {}
                },
                {
                    "output_type": "display_data",
                    "data": {
                        "text/html": "Total execution time: 00:00:42.127"
                    },
                    "metadata": {}
                }
            ],
            "execution_count": 75
        },
        {
            "cell_type": "markdown",
            "source": [
                "4. <span style=\"color: rgb(36, 41, 47); font-family: -apple-system, BlinkMacSystemFont, &quot;Segoe UI&quot;, Helvetica, Arial, sans-serif, &quot;Apple Color Emoji&quot;, &quot;Segoe UI Emoji&quot;; font-size: 16px;\">Készítsünk listát, amely a csoportokat hoz létre aszerint, hogy a mai naptól számítva hány nap telt el a kölcsönzés kezdete óta. A lista jelenítse meg csoportonkénti bontásban a kikölcsönzött dvd-k számát!</span>\n",
                "\n",
                "1. Az oszlopokat nevezzük el értelemszerűen!\n",
                "2. A listát rendezzük az eltelt napok száma szerint csökkenő sorrendbe!"
            ],
            "metadata": {
                "azdata_cell_guid": "6478e469-c094-472c-a772-ccd5b5c61516"
            },
            "attachments": {}
        },
        {
            "cell_type": "code",
            "source": [
                "SELECT DATEDIFF(DAY, ki_datum, GETDATE()) AS 'Eltelt napok száma',\r\n",
                "       COUNT(*) AS 'Kikölcsönzött dvd-k száma'\r\n",
                "FROM kolcsonzesek\r\n",
                "GROUP BY DATEDIFF(DAY, ki_datum, GETDATE())\r\n",
                "ORDER BY 'Eltelt napok száma'"
            ],
            "metadata": {
                "azdata_cell_guid": "02031ea2-3838-458d-839c-228e3b362b61",
                "language": "sql"
            },
            "outputs": [
                {
                    "output_type": "display_data",
                    "data": {
                        "text/html": "(3 rows affected)"
                    },
                    "metadata": {}
                },
                {
                    "output_type": "display_data",
                    "data": {
                        "text/html": "Total execution time: 00:00:00.016"
                    },
                    "metadata": {}
                },
                {
                    "output_type": "execute_result",
                    "execution_count": 32,
                    "data": {
                        "application/vnd.dataresource+json": {
                            "schema": {
                                "fields": [
                                    {
                                        "name": "Eltelt napok száma"
                                    },
                                    {
                                        "name": "Kikölcsönzött dvd-k száma"
                                    }
                                ]
                            },
                            "data": [
                                {
                                    "Eltelt napok száma": "6721",
                                    "Kikölcsönzött dvd-k száma": "1"
                                },
                                {
                                    "Eltelt napok száma": "6722",
                                    "Kikölcsönzött dvd-k száma": "1"
                                },
                                {
                                    "Eltelt napok száma": "7747",
                                    "Kikölcsönzött dvd-k száma": "3"
                                }
                            ]
                        },
                        "text/html": "<table><tr><th>Eltelt napok száma</th><th>Kikölcsönzött dvd-k száma</th></tr><tr><td>6721</td><td>1</td></tr><tr><td>6722</td><td>1</td></tr><tr><td>7747</td><td>3</td></tr></table>"
                    },
                    "metadata": {}
                }
            ],
            "execution_count": 32
        },
        {
            "cell_type": "markdown",
            "source": [
                "5. <span style=\"color: rgb(36, 41, 47); font-family: -apple-system, BlinkMacSystemFont, &quot;Segoe UI&quot;, Helvetica, Arial, sans-serif, &quot;Apple Color Emoji&quot;, &quot;Segoe UI Emoji&quot;; font-size: 16px;\">A kölcsönző tulajdonosa elhatározza, hogy ezentúl kerekebb árakat alkalmaz. Ezért minden dvd árát 1000 Ft-ra kerekíti. Készítsünk lekérdezést, amely megmutatja, hogy melyik 1000 Ft-ra kerekített ár szerint, azon belül stílus szerint hány db dvd összesen raktáron! **</span>\n",
                "\n",
                "1. Csak olyan csoportokat listázzunk, ahol a raktárkészlet legalább 30!\n",
                "2. A listát rendezzük kerekített ár szerint, azon belül raktárkészlet szerint növekvő sorrendbe!"
            ],
            "metadata": {
                "azdata_cell_guid": "9edbbaf9-c276-4898-9a01-e1b2993c089f"
            },
            "attachments": {}
        },
        {
            "cell_type": "code",
            "source": [
                "SELECT ROUND(nettoar, -3) AS 'Ár kerekítve',\r\n",
                "       stilus,\r\n",
                "       COUNT(*) AS 'db'\r\n",
                "FROM dvd\r\n",
                "GROUP BY ROUND(nettoar, -3),\r\n",
                "         stilus\r\n",
                "HAVING COUNT(*) >= 10\r\n",
                "ORDER BY ROUND(nettoar, -3) ASC,\r\n",
                "         COUNT(*) ASC"
            ],
            "metadata": {
                "azdata_cell_guid": "5ad5fdcb-2878-4111-861a-833bcd50e935",
                "language": "sql"
            },
            "outputs": [
                {
                    "output_type": "display_data",
                    "data": {
                        "text/html": "(10 rows affected)"
                    },
                    "metadata": {}
                },
                {
                    "output_type": "display_data",
                    "data": {
                        "text/html": "Total execution time: 00:00:00.038"
                    },
                    "metadata": {}
                },
                {
                    "output_type": "execute_result",
                    "execution_count": 50,
                    "data": {
                        "application/vnd.dataresource+json": {
                            "schema": {
                                "fields": [
                                    {
                                        "name": "Ár kerekítve"
                                    },
                                    {
                                        "name": "stilus"
                                    },
                                    {
                                        "name": "db"
                                    }
                                ]
                            },
                            "data": [
                                {
                                    "Ár kerekítve": "4000",
                                    "stilus": "ismeretterjesztő",
                                    "db": "13"
                                },
                                {
                                    "Ár kerekítve": "4000",
                                    "stilus": "nyelvtanító",
                                    "db": "14"
                                },
                                {
                                    "Ár kerekítve": "4000",
                                    "stilus": "történelem",
                                    "db": "16"
                                },
                                {
                                    "Ár kerekítve": "4000",
                                    "stilus": "játék",
                                    "db": "18"
                                },
                                {
                                    "Ár kerekítve": "5000",
                                    "stilus": "történelem",
                                    "db": "12"
                                },
                                {
                                    "Ár kerekítve": "5000",
                                    "stilus": "nyelvtanító",
                                    "db": "14"
                                },
                                {
                                    "Ár kerekítve": "5000",
                                    "stilus": "ismeretterjesztő",
                                    "db": "17"
                                },
                                {
                                    "Ár kerekítve": "5000",
                                    "stilus": "játék",
                                    "db": "21"
                                },
                                {
                                    "Ár kerekítve": "6000",
                                    "stilus": "nyelvtanító",
                                    "db": "11"
                                },
                                {
                                    "Ár kerekítve": "6000",
                                    "stilus": "játék",
                                    "db": "17"
                                }
                            ]
                        },
                        "text/html": "<table><tr><th>Ár kerekítve</th><th>stilus</th><th>db</th></tr><tr><td>4000</td><td>ismeretterjesztő</td><td>13</td></tr><tr><td>4000</td><td>nyelvtanító</td><td>14</td></tr><tr><td>4000</td><td>történelem</td><td>16</td></tr><tr><td>4000</td><td>játék</td><td>18</td></tr><tr><td>5000</td><td>történelem</td><td>12</td></tr><tr><td>5000</td><td>nyelvtanító</td><td>14</td></tr><tr><td>5000</td><td>ismeretterjesztő</td><td>17</td></tr><tr><td>5000</td><td>játék</td><td>21</td></tr><tr><td>6000</td><td>nyelvtanító</td><td>11</td></tr><tr><td>6000</td><td>játék</td><td>17</td></tr></table>"
                    },
                    "metadata": {}
                }
            ],
            "execution_count": 50
        },
        {
            "cell_type": "markdown",
            "source": [
                "6. <span style=\"font-weight: 600; color: rgb(36, 41, 47); font-family: -apple-system, BlinkMacSystemFont, &quot;Segoe UI&quot;, Helvetica, Arial, sans-serif, &quot;Apple Color Emoji&quot;, &quot;Segoe UI Emoji&quot;; font-size: 16px;\">A dvd-ket csoportosíthatjuk aszerint, hogy milyen hosszú a címük. Amelyiknél a cím hosszúsága 10 karakter alatt van, az legyen Rövid, 10-20-ig Átlagos, 20 felett Hosszú. Hány Rövid, Átlagos, illetve Hosszú dvd-van összesen raktáron?</span>\n",
                "\n",
                "1. Az oszlopok neve legyen 'Cím hosszúság' és 'Darabszám"
            ],
            "metadata": {
                "azdata_cell_guid": "5fe65c1c-2479-45ac-ad03-ec99d12eae21"
            },
            "attachments": {}
        },
        {
            "cell_type": "code",
            "source": [
                "SELECT CASE LEN(cim)\r\n",
                "WHEN LEN(cim) < 10 THEN 'Rövid'\r\n",
                "WHEN LEN(cim) < 20 THEN 'Hosszú'\r\n",
                "ELSE'Átlagos'\r\n",
                "END\r\n",
                "       \r\n",
                "FROM dvd\r\n",
                "GROUP BY LEN(cim)\r\n",
                "???"
            ],
            "metadata": {
                "azdata_cell_guid": "924f2dde-f1c2-4def-a7f9-dbf4bace7735",
                "language": "sql"
            },
            "outputs": [
                {
                    "output_type": "error",
                    "ename": "",
                    "evalue": "Msg 102, Level 15, State 1, Line 2\r\nIncorrect syntax near '<'.",
                    "traceback": []
                },
                {
                    "output_type": "display_data",
                    "data": {
                        "text/html": "Total execution time: 00:00:00.004"
                    },
                    "metadata": {}
                }
            ],
            "execution_count": 54
        },
        {
            "cell_type": "markdown",
            "source": [
                "7. <span style=\"color: rgb(36, 41, 47); font-family: -apple-system, BlinkMacSystemFont, &quot;Segoe UI&quot;, Helvetica, Arial, sans-serif, &quot;Apple Color Emoji&quot;, &quot;Segoe UI Emoji&quot;; font-size: 16px;\">Készítsünk listát arról, hogy melyik teremben hány óra van!</span>\n",
                "\n",
                "1. Jelenítsük meg a termek azonosítóit és a teremben tartott órák számát!\n",
                "2. Az oszlopokat nevezzük el értelemszerűen!\n",
                "3. Szűrjünk azokra a termekre, ahol az órák száma legalább 3!"
            ],
            "metadata": {
                "azdata_cell_guid": "3aeb6bf5-b111-40d5-92b2-9712ce335696"
            },
            "attachments": {}
        },
        {
            "cell_type": "code",
            "source": [
                "SELECT t.Tkód AS 'azonosító',\r\n",
                "       COUNT(*) AS 'órák száma'\r\n",
                "FROM Orak o JOIN Termek t ON o.terem = t.Tkód\r\n",
                "GROUP BY t.Tkód\r\n",
                "HAVING COUNT(*) >= 3"
            ],
            "metadata": {
                "azdata_cell_guid": "3e89b651-f56f-4102-af52-30eb2bbe360d",
                "language": "sql"
            },
            "outputs": [
                {
                    "output_type": "display_data",
                    "data": {
                        "text/html": "(11 rows affected)"
                    },
                    "metadata": {}
                },
                {
                    "output_type": "display_data",
                    "data": {
                        "text/html": "Total execution time: 00:00:00.019"
                    },
                    "metadata": {}
                },
                {
                    "output_type": "execute_result",
                    "execution_count": 64,
                    "data": {
                        "application/vnd.dataresource+json": {
                            "schema": {
                                "fields": [
                                    {
                                        "name": "azonosító"
                                    },
                                    {
                                        "name": "órák száma"
                                    }
                                ]
                            },
                            "data": [
                                {
                                    "azonosító": "2",
                                    "órák száma": "5"
                                },
                                {
                                    "azonosító": "3",
                                    "órák száma": "11"
                                },
                                {
                                    "azonosító": "4",
                                    "órák száma": "8"
                                },
                                {
                                    "azonosító": "5",
                                    "órák száma": "5"
                                },
                                {
                                    "azonosító": "6",
                                    "órák száma": "6"
                                },
                                {
                                    "azonosító": "7",
                                    "órák száma": "6"
                                },
                                {
                                    "azonosító": "8",
                                    "órák száma": "6"
                                },
                                {
                                    "azonosító": "10",
                                    "órák száma": "3"
                                },
                                {
                                    "azonosító": "12",
                                    "órák száma": "3"
                                },
                                {
                                    "azonosító": "13",
                                    "órák száma": "5"
                                },
                                {
                                    "azonosító": "14",
                                    "órák száma": "3"
                                }
                            ]
                        },
                        "text/html": "<table><tr><th>azonosító</th><th>órák száma</th></tr><tr><td>2</td><td>5</td></tr><tr><td>3</td><td>11</td></tr><tr><td>4</td><td>8</td></tr><tr><td>5</td><td>5</td></tr><tr><td>6</td><td>6</td></tr><tr><td>7</td><td>6</td></tr><tr><td>8</td><td>6</td></tr><tr><td>10</td><td>3</td></tr><tr><td>12</td><td>3</td></tr><tr><td>13</td><td>5</td></tr><tr><td>14</td><td>3</td></tr></table>"
                    },
                    "metadata": {}
                }
            ],
            "execution_count": 64
        },
        {
            "cell_type": "markdown",
            "source": [
                "8. <span style=\"color: rgb(36, 41, 47); font-family: -apple-system, BlinkMacSystemFont, &quot;Segoe UI&quot;, Helvetica, Arial, sans-serif, &quot;Apple Color Emoji&quot;, &quot;Segoe UI Emoji&quot;; font-size: 16px;\">Készítsünk lekérdezést, amely megadja, hogy minimálian és maximálisan hány kreditet ér egy tantárgy!</span>\n",
                "\n",
                "1. Az oszlopokat nevezzük el értelemszerűen!\n",
                "2. Ne vegyük figyelembe azokat a tantárgyakat, amelyek nevében az „alapjai” szó szerepel, vagy a tantárgy neve 10 karakternél rövidebb!"
            ],
            "metadata": {
                "azdata_cell_guid": "26a504dc-ff6a-439f-94c0-4580eca3eacf"
            },
            "attachments": {}
        },
        {
            "cell_type": "code",
            "source": [
                "SELECT Tantárgynév,\r\n",
                "       MIN(Kredit) AS 'min',\r\n",
                "       MAX(Kredit) AS 'max'\r\n",
                "FROM Tantárgyak\r\n",
                "GROUP BY Tantárgynév\r\n",
                "???"
            ],
            "metadata": {
                "azdata_cell_guid": "1cbb8aeb-78b5-4350-aa45-e3202fdab85b",
                "language": "sql"
            },
            "outputs": [
                {
                    "output_type": "display_data",
                    "data": {
                        "text/html": "(13 rows affected)"
                    },
                    "metadata": {}
                },
                {
                    "output_type": "display_data",
                    "data": {
                        "text/html": "Total execution time: 00:00:00.034"
                    },
                    "metadata": {}
                },
                {
                    "output_type": "execute_result",
                    "execution_count": 67,
                    "data": {
                        "application/vnd.dataresource+json": {
                            "schema": {
                                "fields": [
                                    {
                                        "name": "Tantárgynév"
                                    },
                                    {
                                        "name": "min"
                                    },
                                    {
                                        "name": "max"
                                    }
                                ]
                            },
                            "data": [
                                {
                                    "Tantárgynév": "Az öntés elmélete",
                                    "min": "4",
                                    "max": "4"
                                },
                                {
                                    "Tantárgynév": "Az ürge anatómiája",
                                    "min": "5",
                                    "max": "5"
                                },
                                {
                                    "Tantárgynév": "Az ürgeöntés alapjai",
                                    "min": "2",
                                    "max": "2"
                                },
                                {
                                    "Tantárgynév": "Az ürgeöntés hydrológiai alapjai I.",
                                    "min": "2",
                                    "max": "2"
                                },
                                {
                                    "Tantárgynév": "Az ürgeöntés hydrológiai alapjai II.",
                                    "min": "4",
                                    "max": "4"
                                },
                                {
                                    "Tantárgynév": "Bevezetés az ürgeöntésbe",
                                    "min": "3",
                                    "max": "3"
                                },
                                {
                                    "Tantárgynév": "Fejezetek az ürgék jogaiból",
                                    "min": "3",
                                    "max": "3"
                                },
                                {
                                    "Tantárgynév": "Folyami gáttan",
                                    "min": "2",
                                    "max": "2"
                                },
                                {
                                    "Tantárgynév": "Öntési gyakorlat",
                                    "min": "1",
                                    "max": "1"
                                },
                                {
                                    "Tantárgynév": "ü-business",
                                    "min": "2",
                                    "max": "2"
                                },
                                {
                                    "Tantárgynév": "ürgefőzés",
                                    "min": "3",
                                    "max": "3"
                                },
                                {
                                    "Tantárgynév": "Ürgeöntés az EU-ban",
                                    "min": "1",
                                    "max": "1"
                                },
                                {
                                    "Tantárgynév": "Ürgevitel",
                                    "min": "6",
                                    "max": "6"
                                }
                            ]
                        },
                        "text/html": "<table><tr><th>Tantárgynév</th><th>min</th><th>max</th></tr><tr><td>Az öntés elmélete</td><td>4</td><td>4</td></tr><tr><td>Az ürge anatómiája</td><td>5</td><td>5</td></tr><tr><td>Az ürgeöntés alapjai</td><td>2</td><td>2</td></tr><tr><td>Az ürgeöntés hydrológiai alapjai I.</td><td>2</td><td>2</td></tr><tr><td>Az ürgeöntés hydrológiai alapjai II.</td><td>4</td><td>4</td></tr><tr><td>Bevezetés az ürgeöntésbe</td><td>3</td><td>3</td></tr><tr><td>Fejezetek az ürgék jogaiból</td><td>3</td><td>3</td></tr><tr><td>Folyami gáttan</td><td>2</td><td>2</td></tr><tr><td>Öntési gyakorlat</td><td>1</td><td>1</td></tr><tr><td>ü-business</td><td>2</td><td>2</td></tr><tr><td>ürgefőzés</td><td>3</td><td>3</td></tr><tr><td>Ürgeöntés az EU-ban</td><td>1</td><td>1</td></tr><tr><td>Ürgevitel</td><td>6</td><td>6</td></tr></table>"
                    },
                    "metadata": {}
                }
            ],
            "execution_count": 67
        },
        {
            "cell_type": "markdown",
            "source": [
                "9. <span style=\"color: rgb(36, 41, 47); font-family: -apple-system, BlinkMacSystemFont, &quot;Segoe UI&quot;, Helvetica, Arial, sans-serif, &quot;Apple Color Emoji&quot;, &quot;Segoe UI Emoji&quot;; font-size: 16px;\">A tapasztalat alapján a tanársegédeknek 8, az óraadóknak 10 órájuk van egy héten. A többiek annyi órát tartanak, amennyi az elvárt óraszámuk. Készítsünk lekérdezést, amely minden beosztáshoz megjeleníti, hogy hetente hány túlóra tartozik hozzá!</span>\n",
                "\n",
                "1. A lekérdezés csak a beosztások nevét és a heti túlórák számát jelenítse meg!"
            ],
            "metadata": {
                "azdata_cell_guid": "435e2860-2dd5-4877-90f4-34a43baeb53c"
            },
            "attachments": {}
        },
        {
            "cell_type": "code",
            "source": [
                ""
            ],
            "metadata": {
                "azdata_cell_guid": "ce846351-ddbe-4d8e-b8fb-2a92c73ac80b",
                "language": "sql"
            },
            "outputs": [],
            "execution_count": null
        },
        {
            "cell_type": "markdown",
            "source": [
                "10. <span style=\"font-weight: 600; color: rgb(36, 41, 47); font-family: -apple-system, BlinkMacSystemFont, &quot;Segoe UI&quot;, Helvetica, Arial, sans-serif, &quot;Apple Color Emoji&quot;, &quot;Segoe UI Emoji&quot;; font-size: 16px;\">Melyek azok az oktatók, akiknek nincs órájuk?</span>\n",
                "\n",
                "1. Csak az oktatók neve jelenjen meg!\n",
                "2. ÖTLET: használjunk LEFT JOIN-t, és szűrjünk azokra a rekordokra, ahol NULL érték van a JOIN utáni feltétel jobb oldalán!"
            ],
            "metadata": {
                "azdata_cell_guid": "217c5772-afe2-4a7c-b913-e3a3e09d6411"
            },
            "attachments": {}
        },
        {
            "cell_type": "code",
            "source": [
                ""
            ],
            "metadata": {
                "azdata_cell_guid": "a9cc0926-3dbd-4ed8-8179-1c39d64a0762",
                "language": "sql"
            },
            "outputs": [],
            "execution_count": null
        },
        {
            "cell_type": "markdown",
            "source": [
                "11. <span style=\"font-weight: 600; color: rgb(36, 41, 47); font-family: -apple-system, BlinkMacSystemFont, &quot;Segoe UI&quot;, Helvetica, Arial, sans-serif, &quot;Apple Color Emoji&quot;, &quot;Segoe UI Emoji&quot;; font-size: 16px;\">Készítsünk lekérdezést, amely részletesen megjeleníti az egyes órák fontosabb adatait, azaz</span>\n",
                "\n",
                "1. Az órák azonosítóit, a tanár nevét, a tantárgy nevét, a terem nevét és a kezdési időpontot!\n",
                "2. Az oszlopokat nevezzük el értelemszerűen!"
            ],
            "metadata": {
                "azdata_cell_guid": "d2340f5f-1614-473c-b937-85740d67f7c1"
            },
            "attachments": {}
        },
        {
            "cell_type": "code",
            "source": [
                "SELECT o.ora_id as 'azonosító',\r\n",
                "       okt.nev as 'tanár neve',\r\n",
                "       ta.Tantárgynév as 'tantárgy neve',\r\n",
                "       te.Terem as 'terem neve',\r\n",
                "       s.Időpont as 'kezdési időpont'\r\n",
                "FROM Orak o JOIN Oktatok okt ON o.tanar = okt.oktato_id\r\n",
                "            JOIN Tantárgyak ta ON o.targy = ta.Tkód\r\n",
                "            JOIN Termek te ON o.terem = te.Tkód\r\n",
                "            JOIN Savok s ON o.Sav = s.Sav_id"
            ],
            "metadata": {
                "azdata_cell_guid": "e99c2c53-898f-4787-b0e6-182d106dc16f",
                "language": "sql"
            },
            "outputs": [
                {
                    "output_type": "display_data",
                    "data": {
                        "text/html": "(67 rows affected)"
                    },
                    "metadata": {}
                },
                {
                    "output_type": "display_data",
                    "data": {
                        "text/html": "Total execution time: 00:00:00.037"
                    },
                    "metadata": {}
                },
                {
                    "output_type": "execute_result",
                    "execution_count": 69,
                    "data": {
                        "application/vnd.dataresource+json": {
                            "schema": {
                                "fields": [
                                    {
                                        "name": "azonosító"
                                    },
                                    {
                                        "name": "tanár neve"
                                    },
                                    {
                                        "name": "tantárgy neve"
                                    },
                                    {
                                        "name": "terem neve"
                                    },
                                    {
                                        "name": "kezdési időpont"
                                    }
                                ]
                            },
                            "data": [
                                {
                                    "azonosító": "159",
                                    "tanár neve": "Ujfalussi István",
                                    "tantárgy neve": "Az ürgeöntés alapjai",
                                    "terem neve": "117",
                                    "kezdési időpont": "8.00"
                                },
                                {
                                    "azonosító": "160",
                                    "tanár neve": "Pelikán József",
                                    "tantárgy neve": "Az ürgeöntés alapjai",
                                    "terem neve": "118",
                                    "kezdési időpont": "14.00"
                                },
                                {
                                    "azonosító": "161",
                                    "tanár neve": "Pelikán József",
                                    "tantárgy neve": "Az ürgeöntés alapjai",
                                    "terem neve": "118",
                                    "kezdési időpont": "9.30"
                                },
                                {
                                    "azonosító": "162",
                                    "tanár neve": "Kovács András",
                                    "tantárgy neve": "Az ürgeöntés alapjai",
                                    "terem neve": "119",
                                    "kezdési időpont": "12.30"
                                },
                                {
                                    "azonosító": "163",
                                    "tanár neve": "Szerb László",
                                    "tantárgy neve": "Az ürgeöntés alapjai",
                                    "terem neve": "120",
                                    "kezdési időpont": "9.30"
                                },
                                {
                                    "azonosító": "164",
                                    "tanár neve": "Kiss János",
                                    "tantárgy neve": "Az ürgeöntés alapjai",
                                    "terem neve": "119",
                                    "kezdési időpont": "11.00"
                                },
                                {
                                    "azonosító": "165",
                                    "tanár neve": "Szerb László",
                                    "tantárgy neve": "Az ürgeöntés alapjai",
                                    "terem neve": "119",
                                    "kezdési időpont": "11.00"
                                },
                                {
                                    "azonosító": "166",
                                    "tanár neve": "Szerb László",
                                    "tantárgy neve": "Az ürgeöntés alapjai",
                                    "terem neve": "119",
                                    "kezdési időpont": "12.30"
                                },
                                {
                                    "azonosító": "167",
                                    "tanár neve": "Szentágotai Istvás",
                                    "tantárgy neve": "Az ürgeöntés alapjai",
                                    "terem neve": "120",
                                    "kezdési időpont": "12.30"
                                },
                                {
                                    "azonosító": "168",
                                    "tanár neve": "Ujfalussi István",
                                    "tantárgy neve": "Az ürgeöntés alapjai",
                                    "terem neve": "217",
                                    "kezdési időpont": "11.00"
                                },
                                {
                                    "azonosító": "169",
                                    "tanár neve": "Kovács András",
                                    "tantárgy neve": "Az ürgeöntés alapjai",
                                    "terem neve": "218",
                                    "kezdési időpont": "9.30"
                                },
                                {
                                    "azonosító": "170",
                                    "tanár neve": "Ludas Mátyás",
                                    "tantárgy neve": "Az ürgeöntés alapjai",
                                    "terem neve": "120",
                                    "kezdési időpont": "9.30"
                                },
                                {
                                    "azonosító": "171",
                                    "tanár neve": "Szénási ászló",
                                    "tantárgy neve": "Az ürgeöntés alapjai",
                                    "terem neve": "220",
                                    "kezdési időpont": "9.30"
                                },
                                {
                                    "azonosító": "172",
                                    "tanár neve": "Kiss János",
                                    "tantárgy neve": "Az ürgeöntés alapjai",
                                    "terem neve": "119",
                                    "kezdési időpont": "9.30"
                                },
                                {
                                    "azonosító": "173",
                                    "tanár neve": "Kovács András",
                                    "tantárgy neve": "Az ürgeöntés alapjai",
                                    "terem neve": "119",
                                    "kezdési időpont": "11.00"
                                },
                                {
                                    "azonosító": "174",
                                    "tanár neve": "Ludas Mátyás",
                                    "tantárgy neve": "Az ürgeöntés alapjai",
                                    "terem neve": "219",
                                    "kezdési időpont": "11.00"
                                },
                                {
                                    "azonosító": "175",
                                    "tanár neve": "Szénási ászló",
                                    "tantárgy neve": "Az ürgeöntés alapjai",
                                    "terem neve": "120",
                                    "kezdési időpont": "12.30"
                                },
                                {
                                    "azonosító": "176",
                                    "tanár neve": "Kovács András",
                                    "tantárgy neve": "Az ürgeöntés alapjai",
                                    "terem neve": "118",
                                    "kezdési időpont": "12.30"
                                },
                                {
                                    "azonosító": "177",
                                    "tanár neve": "Szentágotai Istvás",
                                    "tantárgy neve": "Az ürgeöntés alapjai",
                                    "terem neve": "119",
                                    "kezdési időpont": "14.00"
                                },
                                {
                                    "azonosító": "178",
                                    "tanár neve": "Vitéz János",
                                    "tantárgy neve": "Az ürgeöntés alapjai",
                                    "terem neve": "220",
                                    "kezdési időpont": "14.00"
                                },
                                {
                                    "azonosító": "179",
                                    "tanár neve": "Szentágotai Istvás",
                                    "tantárgy neve": "Az ürgeöntés alapjai",
                                    "terem neve": "120",
                                    "kezdési időpont": "15.30"
                                },
                                {
                                    "azonosító": "180",
                                    "tanár neve": "Vitéz János",
                                    "tantárgy neve": "Az ürgeöntés alapjai",
                                    "terem neve": "119",
                                    "kezdési időpont": "15.30"
                                },
                                {
                                    "azonosító": "181",
                                    "tanár neve": "Szentágotai Istvás",
                                    "tantárgy neve": "Az ürgeöntés alapjai",
                                    "terem neve": "118",
                                    "kezdési időpont": "8.00"
                                },
                                {
                                    "azonosító": "182",
                                    "tanár neve": "Vitéz János",
                                    "tantárgy neve": "Az ürgeöntés alapjai",
                                    "terem neve": "219",
                                    "kezdési időpont": "8.00"
                                },
                                {
                                    "azonosító": "183",
                                    "tanár neve": "Szentágotai Istvás",
                                    "tantárgy neve": "Az ürgeöntés alapjai",
                                    "terem neve": "220",
                                    "kezdési időpont": "9.30"
                                },
                                {
                                    "azonosító": "184",
                                    "tanár neve": "Vitéz János",
                                    "tantárgy neve": "Az ürgeöntés alapjai",
                                    "terem neve": "218",
                                    "kezdési időpont": "9.30"
                                },
                                {
                                    "azonosító": "185",
                                    "tanár neve": "Szentágotai Istvás",
                                    "tantárgy neve": "Az ürgeöntés alapjai",
                                    "terem neve": "120",
                                    "kezdési időpont": "11.00"
                                },
                                {
                                    "azonosító": "186",
                                    "tanár neve": "Nógrádi Kata",
                                    "tantárgy neve": "ü-business",
                                    "terem neve": "219",
                                    "kezdési időpont": "12.30"
                                },
                                {
                                    "azonosító": "187",
                                    "tanár neve": "Balkán András",
                                    "tantárgy neve": "Bevezetés az ürgeöntésbe",
                                    "terem neve": "217",
                                    "kezdési időpont": "9.30"
                                },
                                {
                                    "azonosító": "188",
                                    "tanár neve": "Farkasos Piroska",
                                    "tantárgy neve": "Bevezetés az ürgeöntésbe",
                                    "terem neve": "VP 203.",
                                    "kezdési időpont": "15.30"
                                },
                                {
                                    "azonosító": "189",
                                    "tanár neve": "Farkasos Piroska",
                                    "tantárgy neve": "Bevezetés az ürgeöntésbe",
                                    "terem neve": "VP 203.",
                                    "kezdési időpont": "9.30"
                                },
                                {
                                    "azonosító": "190",
                                    "tanár neve": "Farkasos Piroska",
                                    "tantárgy neve": "Bevezetés az ürgeöntésbe",
                                    "terem neve": "E.2.238",
                                    "kezdési időpont": "11.00"
                                },
                                {
                                    "azonosító": "191",
                                    "tanár neve": "Varga Kata",
                                    "tantárgy neve": "Az ürgeöntés hydrológiai alapjai II.",
                                    "terem neve": "220",
                                    "kezdési időpont": "14.00"
                                },
                                {
                                    "azonosító": "192",
                                    "tanár neve": "Varga Kata",
                                    "tantárgy neve": "Az ürgeöntés hydrológiai alapjai II.",
                                    "terem neve": "119",
                                    "kezdési időpont": "15.30"
                                },
                                {
                                    "azonosító": "193",
                                    "tanár neve": "Farkasos Piroska",
                                    "tantárgy neve": "Az ürgeöntés hydrológiai alapjai II.",
                                    "terem neve": "217",
                                    "kezdési időpont": "14.00"
                                },
                                {
                                    "azonosító": "194",
                                    "tanár neve": "Farkasos Piroska",
                                    "tantárgy neve": "Az ürgeöntés hydrológiai alapjai II.",
                                    "terem neve": "E.fsz.I",
                                    "kezdési időpont": "15.30"
                                },
                                {
                                    "azonosító": "195",
                                    "tanár neve": "Balkán András",
                                    "tantárgy neve": "Az ürgeöntés hydrológiai alapjai II.",
                                    "terem neve": "116",
                                    "kezdési időpont": "14.00"
                                },
                                {
                                    "azonosító": "196",
                                    "tanár neve": "Balkán András",
                                    "tantárgy neve": "Az ürgeöntés hydrológiai alapjai II.",
                                    "terem neve": "218",
                                    "kezdési időpont": "15.30"
                                },
                                {
                                    "azonosító": "197",
                                    "tanár neve": "Farkasos Piroska",
                                    "tantárgy neve": "Az ürgeöntés hydrológiai alapjai II.",
                                    "terem neve": "116",
                                    "kezdési időpont": "8.00"
                                },
                                {
                                    "azonosító": "198",
                                    "tanár neve": "Farkasos Piroska",
                                    "tantárgy neve": "Az ürgeöntés hydrológiai alapjai II.",
                                    "terem neve": "119",
                                    "kezdési időpont": "9.30"
                                },
                                {
                                    "azonosító": "199",
                                    "tanár neve": "Szabó Andrera",
                                    "tantárgy neve": "Az ürgeöntés hydrológiai alapjai II.",
                                    "terem neve": "218",
                                    "kezdési időpont": "8.00"
                                },
                                {
                                    "azonosító": "200",
                                    "tanár neve": "Szabó Andrera",
                                    "tantárgy neve": "Az ürgeöntés hydrológiai alapjai II.",
                                    "terem neve": "220",
                                    "kezdési időpont": "9.30"
                                },
                                {
                                    "azonosító": "201",
                                    "tanár neve": "Juhász András",
                                    "tantárgy neve": "Öntési gyakorlat",
                                    "terem neve": "E.2.238",
                                    "kezdési időpont": "12.30"
                                },
                                {
                                    "azonosító": "202",
                                    "tanár neve": "Juhász András",
                                    "tantárgy neve": "Öntési gyakorlat",
                                    "terem neve": "E.3.332",
                                    "kezdési időpont": "14.00"
                                },
                                {
                                    "azonosító": "203",
                                    "tanár neve": "Aranyi Mária",
                                    "tantárgy neve": "Az ürgeöntés hydrológiai alapjai I.",
                                    "terem neve": "S.Asor.S3",
                                    "kezdési időpont": "12.30"
                                },
                                {
                                    "azonosító": "204",
                                    "tanár neve": "Róbert Gida",
                                    "tantárgy neve": "Az ürgeöntés hydrológiai alapjai I.",
                                    "terem neve": "120",
                                    "kezdési időpont": "14.00"
                                },
                                {
                                    "azonosító": "205",
                                    "tanár neve": "Ujfalussi István",
                                    "tantárgy neve": "Az öntés elmélete",
                                    "terem neve": "220",
                                    "kezdési időpont": "12.30"
                                },
                                {
                                    "azonosító": "206",
                                    "tanár neve": "Varga Kata",
                                    "tantárgy neve": "Az öntés elmélete",
                                    "terem neve": "S.Asor.S3",
                                    "kezdési időpont": "8.00"
                                },
                                {
                                    "azonosító": "207",
                                    "tanár neve": "Varga Kata",
                                    "tantárgy neve": "Az öntés elmélete",
                                    "terem neve": "219",
                                    "kezdési időpont": "12.30"
                                },
                                {
                                    "azonosító": "208",
                                    "tanár neve": "Jogrerős Pál",
                                    "tantárgy neve": "Ürgevitel",
                                    "terem neve": "VP 203.",
                                    "kezdési időpont": "8.00"
                                },
                                {
                                    "azonosító": "209",
                                    "tanár neve": "Jogrerős Pál",
                                    "tantárgy neve": "Ürgevitel",
                                    "terem neve": "VP 203.",
                                    "kezdési időpont": "9.30"
                                },
                                {
                                    "azonosító": "210",
                                    "tanár neve": "Szép llonka",
                                    "tantárgy neve": "Ürgeöntés az EU-ban",
                                    "terem neve": "E.2.238",
                                    "kezdési időpont": "15.30"
                                },
                                {
                                    "azonosító": "211",
                                    "tanár neve": "Szép llonka",
                                    "tantárgy neve": "Ürgeöntés az EU-ban",
                                    "terem neve": "217",
                                    "kezdési időpont": "17.00"
                                },
                                {
                                    "azonosító": "212",
                                    "tanár neve": "Kiss János",
                                    "tantárgy neve": "Ürgeöntés az EU-ban",
                                    "terem neve": "120",
                                    "kezdési időpont": "18.30"
                                },
                                {
                                    "azonosító": "213",
                                    "tanár neve": "Kiss János",
                                    "tantárgy neve": "Ürgeöntés az EU-ban",
                                    "terem neve": "218",
                                    "kezdési időpont": "20.00"
                                },
                                {
                                    "azonosító": "214",
                                    "tanár neve": "Pelikán József",
                                    "tantárgy neve": "Az ürge anatómiája",
                                    "terem neve": "219",
                                    "kezdési időpont": "11.00"
                                },
                                {
                                    "azonosító": "215",
                                    "tanár neve": "Pelikán József",
                                    "tantárgy neve": "Az ürge anatómiája",
                                    "terem neve": "E.fsz.IV.",
                                    "kezdési időpont": "12.30"
                                },
                                {
                                    "azonosító": "216",
                                    "tanár neve": "Szép llonka",
                                    "tantárgy neve": "Az ürge anatómiája",
                                    "terem neve": "218",
                                    "kezdési időpont": "11.00"
                                },
                                {
                                    "azonosító": "217",
                                    "tanár neve": "Szép llonka",
                                    "tantárgy neve": "Az ürge anatómiája",
                                    "terem neve": "217",
                                    "kezdési időpont": "12.30"
                                },
                                {
                                    "azonosító": "218",
                                    "tanár neve": "Pelikán József",
                                    "tantárgy neve": "Az ürge anatómiája",
                                    "terem neve": "118",
                                    "kezdési időpont": "15.30"
                                },
                                {
                                    "azonosító": "219",
                                    "tanár neve": "Pelikán József",
                                    "tantárgy neve": "Az ürge anatómiája",
                                    "terem neve": "219",
                                    "kezdési időpont": "17.00"
                                },
                                {
                                    "azonosító": "220",
                                    "tanár neve": "Kovács László",
                                    "tantárgy neve": "Fejezetek az ürgék jogaiból",
                                    "terem neve": "119",
                                    "kezdési időpont": "11.00"
                                },
                                {
                                    "azonosító": "221",
                                    "tanár neve": "Kovács László",
                                    "tantárgy neve": "Fejezetek az ürgék jogaiból",
                                    "terem neve": "VP 203.",
                                    "kezdési időpont": "11.00"
                                },
                                {
                                    "azonosító": "222",
                                    "tanár neve": "Kovács László",
                                    "tantárgy neve": "Fejezetek az ürgék jogaiból",
                                    "terem neve": "116",
                                    "kezdési időpont": "14.00"
                                },
                                {
                                    "azonosító": "223",
                                    "tanár neve": "Kovács László",
                                    "tantárgy neve": "Fejezetek az ürgék jogaiból",
                                    "terem neve": "S.Asor.S3",
                                    "kezdési időpont": "8.00"
                                },
                                {
                                    "azonosító": "226",
                                    "tanár neve": "Szentágotai Istvás",
                                    "tantárgy neve": "ürgefőzés",
                                    "terem neve": "117",
                                    "kezdési időpont": "11.00"
                                },
                                {
                                    "azonosító": "227",
                                    "tanár neve": "Szentágotai Istvás",
                                    "tantárgy neve": "Az ürgeöntés hydrológiai alapjai I.",
                                    "terem neve": "116",
                                    "kezdési időpont": "14.00"
                                }
                            ]
                        },
                        "text/html": "<table><tr><th>azonosító</th><th>tanár neve</th><th>tantárgy neve</th><th>terem neve</th><th>kezdési időpont</th></tr><tr><td>159</td><td>Ujfalussi István</td><td>Az ürgeöntés alapjai</td><td>117</td><td>8.00</td></tr><tr><td>160</td><td>Pelikán József</td><td>Az ürgeöntés alapjai</td><td>118</td><td>14.00</td></tr><tr><td>161</td><td>Pelikán József</td><td>Az ürgeöntés alapjai</td><td>118</td><td>9.30</td></tr><tr><td>162</td><td>Kovács András</td><td>Az ürgeöntés alapjai</td><td>119</td><td>12.30</td></tr><tr><td>163</td><td>Szerb László</td><td>Az ürgeöntés alapjai</td><td>120</td><td>9.30</td></tr><tr><td>164</td><td>Kiss János</td><td>Az ürgeöntés alapjai</td><td>119</td><td>11.00</td></tr><tr><td>165</td><td>Szerb László</td><td>Az ürgeöntés alapjai</td><td>119</td><td>11.00</td></tr><tr><td>166</td><td>Szerb László</td><td>Az ürgeöntés alapjai</td><td>119</td><td>12.30</td></tr><tr><td>167</td><td>Szentágotai Istvás</td><td>Az ürgeöntés alapjai</td><td>120</td><td>12.30</td></tr><tr><td>168</td><td>Ujfalussi István</td><td>Az ürgeöntés alapjai</td><td>217</td><td>11.00</td></tr><tr><td>169</td><td>Kovács András</td><td>Az ürgeöntés alapjai</td><td>218</td><td>9.30</td></tr><tr><td>170</td><td>Ludas Mátyás</td><td>Az ürgeöntés alapjai</td><td>120</td><td>9.30</td></tr><tr><td>171</td><td>Szénási ászló</td><td>Az ürgeöntés alapjai</td><td>220</td><td>9.30</td></tr><tr><td>172</td><td>Kiss János</td><td>Az ürgeöntés alapjai</td><td>119</td><td>9.30</td></tr><tr><td>173</td><td>Kovács András</td><td>Az ürgeöntés alapjai</td><td>119</td><td>11.00</td></tr><tr><td>174</td><td>Ludas Mátyás</td><td>Az ürgeöntés alapjai</td><td>219</td><td>11.00</td></tr><tr><td>175</td><td>Szénási ászló</td><td>Az ürgeöntés alapjai</td><td>120</td><td>12.30</td></tr><tr><td>176</td><td>Kovács András</td><td>Az ürgeöntés alapjai</td><td>118</td><td>12.30</td></tr><tr><td>177</td><td>Szentágotai Istvás</td><td>Az ürgeöntés alapjai</td><td>119</td><td>14.00</td></tr><tr><td>178</td><td>Vitéz János</td><td>Az ürgeöntés alapjai</td><td>220</td><td>14.00</td></tr><tr><td>179</td><td>Szentágotai Istvás</td><td>Az ürgeöntés alapjai</td><td>120</td><td>15.30</td></tr><tr><td>180</td><td>Vitéz János</td><td>Az ürgeöntés alapjai</td><td>119</td><td>15.30</td></tr><tr><td>181</td><td>Szentágotai Istvás</td><td>Az ürgeöntés alapjai</td><td>118</td><td>8.00</td></tr><tr><td>182</td><td>Vitéz János</td><td>Az ürgeöntés alapjai</td><td>219</td><td>8.00</td></tr><tr><td>183</td><td>Szentágotai Istvás</td><td>Az ürgeöntés alapjai</td><td>220</td><td>9.30</td></tr><tr><td>184</td><td>Vitéz János</td><td>Az ürgeöntés alapjai</td><td>218</td><td>9.30</td></tr><tr><td>185</td><td>Szentágotai Istvás</td><td>Az ürgeöntés alapjai</td><td>120</td><td>11.00</td></tr><tr><td>186</td><td>Nógrádi Kata</td><td>ü-business</td><td>219</td><td>12.30</td></tr><tr><td>187</td><td>Balkán András</td><td>Bevezetés az ürgeöntésbe</td><td>217</td><td>9.30</td></tr><tr><td>188</td><td>Farkasos Piroska</td><td>Bevezetés az ürgeöntésbe</td><td>VP 203.</td><td>15.30</td></tr><tr><td>189</td><td>Farkasos Piroska</td><td>Bevezetés az ürgeöntésbe</td><td>VP 203.</td><td>9.30</td></tr><tr><td>190</td><td>Farkasos Piroska</td><td>Bevezetés az ürgeöntésbe</td><td>E.2.238</td><td>11.00</td></tr><tr><td>191</td><td>Varga Kata</td><td>Az ürgeöntés hydrológiai alapjai II.</td><td>220</td><td>14.00</td></tr><tr><td>192</td><td>Varga Kata</td><td>Az ürgeöntés hydrológiai alapjai II.</td><td>119</td><td>15.30</td></tr><tr><td>193</td><td>Farkasos Piroska</td><td>Az ürgeöntés hydrológiai alapjai II.</td><td>217</td><td>14.00</td></tr><tr><td>194</td><td>Farkasos Piroska</td><td>Az ürgeöntés hydrológiai alapjai II.</td><td>E.fsz.I</td><td>15.30</td></tr><tr><td>195</td><td>Balkán András</td><td>Az ürgeöntés hydrológiai alapjai II.</td><td>116</td><td>14.00</td></tr><tr><td>196</td><td>Balkán András</td><td>Az ürgeöntés hydrológiai alapjai II.</td><td>218</td><td>15.30</td></tr><tr><td>197</td><td>Farkasos Piroska</td><td>Az ürgeöntés hydrológiai alapjai II.</td><td>116</td><td>8.00</td></tr><tr><td>198</td><td>Farkasos Piroska</td><td>Az ürgeöntés hydrológiai alapjai II.</td><td>119</td><td>9.30</td></tr><tr><td>199</td><td>Szabó Andrera</td><td>Az ürgeöntés hydrológiai alapjai II.</td><td>218</td><td>8.00</td></tr><tr><td>200</td><td>Szabó Andrera</td><td>Az ürgeöntés hydrológiai alapjai II.</td><td>220</td><td>9.30</td></tr><tr><td>201</td><td>Juhász András</td><td>Öntési gyakorlat</td><td>E.2.238</td><td>12.30</td></tr><tr><td>202</td><td>Juhász András</td><td>Öntési gyakorlat</td><td>E.3.332</td><td>14.00</td></tr><tr><td>203</td><td>Aranyi Mária</td><td>Az ürgeöntés hydrológiai alapjai I.</td><td>S.Asor.S3</td><td>12.30</td></tr><tr><td>204</td><td>Róbert Gida</td><td>Az ürgeöntés hydrológiai alapjai I.</td><td>120</td><td>14.00</td></tr><tr><td>205</td><td>Ujfalussi István</td><td>Az öntés elmélete</td><td>220</td><td>12.30</td></tr><tr><td>206</td><td>Varga Kata</td><td>Az öntés elmélete</td><td>S.Asor.S3</td><td>8.00</td></tr><tr><td>207</td><td>Varga Kata</td><td>Az öntés elmélete</td><td>219</td><td>12.30</td></tr><tr><td>208</td><td>Jogrerős Pál</td><td>Ürgevitel</td><td>VP 203.</td><td>8.00</td></tr><tr><td>209</td><td>Jogrerős Pál</td><td>Ürgevitel</td><td>VP 203.</td><td>9.30</td></tr><tr><td>210</td><td>Szép llonka</td><td>Ürgeöntés az EU-ban</td><td>E.2.238</td><td>15.30</td></tr><tr><td>211</td><td>Szép llonka</td><td>Ürgeöntés az EU-ban</td><td>217</td><td>17.00</td></tr><tr><td>212</td><td>Kiss János</td><td>Ürgeöntés az EU-ban</td><td>120</td><td>18.30</td></tr><tr><td>213</td><td>Kiss János</td><td>Ürgeöntés az EU-ban</td><td>218</td><td>20.00</td></tr><tr><td>214</td><td>Pelikán József</td><td>Az ürge anatómiája</td><td>219</td><td>11.00</td></tr><tr><td>215</td><td>Pelikán József</td><td>Az ürge anatómiája</td><td>E.fsz.IV.</td><td>12.30</td></tr><tr><td>216</td><td>Szép llonka</td><td>Az ürge anatómiája</td><td>218</td><td>11.00</td></tr><tr><td>217</td><td>Szép llonka</td><td>Az ürge anatómiája</td><td>217</td><td>12.30</td></tr><tr><td>218</td><td>Pelikán József</td><td>Az ürge anatómiája</td><td>118</td><td>15.30</td></tr><tr><td>219</td><td>Pelikán József</td><td>Az ürge anatómiája</td><td>219</td><td>17.00</td></tr><tr><td>220</td><td>Kovács László</td><td>Fejezetek az ürgék jogaiból</td><td>119</td><td>11.00</td></tr><tr><td>221</td><td>Kovács László</td><td>Fejezetek az ürgék jogaiból</td><td>VP 203.</td><td>11.00</td></tr><tr><td>222</td><td>Kovács László</td><td>Fejezetek az ürgék jogaiból</td><td>116</td><td>14.00</td></tr><tr><td>223</td><td>Kovács László</td><td>Fejezetek az ürgék jogaiból</td><td>S.Asor.S3</td><td>8.00</td></tr><tr><td>226</td><td>Szentágotai Istvás</td><td>ürgefőzés</td><td>117</td><td>11.00</td></tr><tr><td>227</td><td>Szentágotai Istvás</td><td>Az ürgeöntés hydrológiai alapjai I.</td><td>116</td><td>14.00</td></tr></table>"
                    },
                    "metadata": {}
                }
            ],
            "execution_count": 69
        },
        {
            "cell_type": "markdown",
            "source": [
                "12. <span style=\"color: rgb(36, 41, 47); font-family: -apple-system, BlinkMacSystemFont, &quot;Segoe UI&quot;, Helvetica, Arial, sans-serif, &quot;Apple Color Emoji&quot;, &quot;Segoe UI Emoji&quot;; font-size: 16px;\">Készítsünk listát, amely tartalmazza az egyes órák azonosítóit, és az órán oktatott tantárgy felelősének nevét!</span>\n",
                "\n",
                "1. Rendezzük a listát a tantárgyfelelős neve szerint csökkenő sorrendbe!"
            ],
            "metadata": {
                "azdata_cell_guid": "a765e9d6-58b3-4171-872a-78f3118fd6e3"
            },
            "attachments": {}
        },
        {
            "cell_type": "code",
            "source": [
                "SELECT o.ora_id as 'azonosító',\r\n",
                "       t.Tantárgyfelelős as 'tantárgyfelelős'\r\n",
                "FROM Orak o JOIN Tantárgyak t ON o.targy = t.Tkód\r\n",
                "ORDER BY t.Tantárgyfelelős DESC"
            ],
            "metadata": {
                "azdata_cell_guid": "422e8127-b652-4d3a-bfd7-9b1637b5781e",
                "language": "sql"
            },
            "outputs": [
                {
                    "output_type": "display_data",
                    "data": {
                        "text/html": "(67 rows affected)"
                    },
                    "metadata": {}
                },
                {
                    "output_type": "display_data",
                    "data": {
                        "text/html": "Total execution time: 00:00:00.023"
                    },
                    "metadata": {}
                },
                {
                    "output_type": "execute_result",
                    "execution_count": 74,
                    "data": {
                        "application/vnd.dataresource+json": {
                            "schema": {
                                "fields": [
                                    {
                                        "name": "azonosító"
                                    },
                                    {
                                        "name": "tantárgyfelelős"
                                    }
                                ]
                            },
                            "data": [
                                {
                                    "azonosító": "208",
                                    "tantárgyfelelős": "10"
                                },
                                {
                                    "azonosító": "209",
                                    "tantárgyfelelős": "10"
                                },
                                {
                                    "azonosító": "210",
                                    "tantárgyfelelős": "8"
                                },
                                {
                                    "azonosító": "211",
                                    "tantárgyfelelős": "8"
                                },
                                {
                                    "azonosító": "212",
                                    "tantárgyfelelős": "8"
                                },
                                {
                                    "azonosító": "213",
                                    "tantárgyfelelős": "8"
                                },
                                {
                                    "azonosító": "214",
                                    "tantárgyfelelős": "8"
                                },
                                {
                                    "azonosító": "215",
                                    "tantárgyfelelős": "8"
                                },
                                {
                                    "azonosító": "216",
                                    "tantárgyfelelős": "8"
                                },
                                {
                                    "azonosító": "217",
                                    "tantárgyfelelős": "8"
                                },
                                {
                                    "azonosító": "218",
                                    "tantárgyfelelős": "8"
                                },
                                {
                                    "azonosító": "219",
                                    "tantárgyfelelős": "8"
                                },
                                {
                                    "azonosító": "201",
                                    "tantárgyfelelős": "8"
                                },
                                {
                                    "azonosító": "202",
                                    "tantárgyfelelős": "8"
                                },
                                {
                                    "azonosító": "191",
                                    "tantárgyfelelős": "5"
                                },
                                {
                                    "azonosító": "192",
                                    "tantárgyfelelős": "5"
                                },
                                {
                                    "azonosító": "193",
                                    "tantárgyfelelős": "5"
                                },
                                {
                                    "azonosító": "194",
                                    "tantárgyfelelős": "5"
                                },
                                {
                                    "azonosító": "195",
                                    "tantárgyfelelős": "5"
                                },
                                {
                                    "azonosító": "196",
                                    "tantárgyfelelős": "5"
                                },
                                {
                                    "azonosító": "197",
                                    "tantárgyfelelős": "5"
                                },
                                {
                                    "azonosító": "198",
                                    "tantárgyfelelős": "5"
                                },
                                {
                                    "azonosító": "199",
                                    "tantárgyfelelős": "5"
                                },
                                {
                                    "azonosító": "200",
                                    "tantárgyfelelős": "5"
                                },
                                {
                                    "azonosító": "159",
                                    "tantárgyfelelős": "5"
                                },
                                {
                                    "azonosító": "160",
                                    "tantárgyfelelős": "5"
                                },
                                {
                                    "azonosító": "161",
                                    "tantárgyfelelős": "5"
                                },
                                {
                                    "azonosító": "162",
                                    "tantárgyfelelős": "5"
                                },
                                {
                                    "azonosító": "163",
                                    "tantárgyfelelős": "5"
                                },
                                {
                                    "azonosító": "164",
                                    "tantárgyfelelős": "5"
                                },
                                {
                                    "azonosító": "165",
                                    "tantárgyfelelős": "5"
                                },
                                {
                                    "azonosító": "166",
                                    "tantárgyfelelős": "5"
                                },
                                {
                                    "azonosító": "167",
                                    "tantárgyfelelős": "5"
                                },
                                {
                                    "azonosító": "168",
                                    "tantárgyfelelős": "5"
                                },
                                {
                                    "azonosító": "169",
                                    "tantárgyfelelős": "5"
                                },
                                {
                                    "azonosító": "170",
                                    "tantárgyfelelős": "5"
                                },
                                {
                                    "azonosító": "171",
                                    "tantárgyfelelős": "5"
                                },
                                {
                                    "azonosító": "172",
                                    "tantárgyfelelős": "5"
                                },
                                {
                                    "azonosító": "173",
                                    "tantárgyfelelős": "5"
                                },
                                {
                                    "azonosító": "174",
                                    "tantárgyfelelős": "5"
                                },
                                {
                                    "azonosító": "175",
                                    "tantárgyfelelős": "5"
                                },
                                {
                                    "azonosító": "176",
                                    "tantárgyfelelős": "5"
                                },
                                {
                                    "azonosító": "177",
                                    "tantárgyfelelős": "5"
                                },
                                {
                                    "azonosító": "178",
                                    "tantárgyfelelős": "5"
                                },
                                {
                                    "azonosító": "179",
                                    "tantárgyfelelős": "5"
                                },
                                {
                                    "azonosító": "180",
                                    "tantárgyfelelős": "5"
                                },
                                {
                                    "azonosító": "181",
                                    "tantárgyfelelős": "5"
                                },
                                {
                                    "azonosító": "182",
                                    "tantárgyfelelős": "5"
                                },
                                {
                                    "azonosító": "183",
                                    "tantárgyfelelős": "5"
                                },
                                {
                                    "azonosító": "184",
                                    "tantárgyfelelős": "5"
                                },
                                {
                                    "azonosító": "185",
                                    "tantárgyfelelős": "5"
                                },
                                {
                                    "azonosító": "187",
                                    "tantárgyfelelős": "5"
                                },
                                {
                                    "azonosító": "188",
                                    "tantárgyfelelős": "5"
                                },
                                {
                                    "azonosító": "189",
                                    "tantárgyfelelős": "5"
                                },
                                {
                                    "azonosító": "190",
                                    "tantárgyfelelős": "5"
                                },
                                {
                                    "azonosító": "203",
                                    "tantárgyfelelős": "4"
                                },
                                {
                                    "azonosító": "204",
                                    "tantárgyfelelős": "4"
                                },
                                {
                                    "azonosító": "227",
                                    "tantárgyfelelős": "4"
                                },
                                {
                                    "azonosító": "220",
                                    "tantárgyfelelős": "1"
                                },
                                {
                                    "azonosító": "221",
                                    "tantárgyfelelős": "1"
                                },
                                {
                                    "azonosító": "222",
                                    "tantárgyfelelős": "1"
                                },
                                {
                                    "azonosító": "223",
                                    "tantárgyfelelős": "1"
                                },
                                {
                                    "azonosító": "186",
                                    "tantárgyfelelős": "1"
                                },
                                {
                                    "azonosító": "205",
                                    "tantárgyfelelős": "1"
                                },
                                {
                                    "azonosító": "206",
                                    "tantárgyfelelős": "1"
                                },
                                {
                                    "azonosító": "207",
                                    "tantárgyfelelős": "1"
                                },
                                {
                                    "azonosító": "226",
                                    "tantárgyfelelős": "1"
                                }
                            ]
                        },
                        "text/html": "<table><tr><th>azonosító</th><th>tantárgyfelelős</th></tr><tr><td>208</td><td>10</td></tr><tr><td>209</td><td>10</td></tr><tr><td>210</td><td>8</td></tr><tr><td>211</td><td>8</td></tr><tr><td>212</td><td>8</td></tr><tr><td>213</td><td>8</td></tr><tr><td>214</td><td>8</td></tr><tr><td>215</td><td>8</td></tr><tr><td>216</td><td>8</td></tr><tr><td>217</td><td>8</td></tr><tr><td>218</td><td>8</td></tr><tr><td>219</td><td>8</td></tr><tr><td>201</td><td>8</td></tr><tr><td>202</td><td>8</td></tr><tr><td>191</td><td>5</td></tr><tr><td>192</td><td>5</td></tr><tr><td>193</td><td>5</td></tr><tr><td>194</td><td>5</td></tr><tr><td>195</td><td>5</td></tr><tr><td>196</td><td>5</td></tr><tr><td>197</td><td>5</td></tr><tr><td>198</td><td>5</td></tr><tr><td>199</td><td>5</td></tr><tr><td>200</td><td>5</td></tr><tr><td>159</td><td>5</td></tr><tr><td>160</td><td>5</td></tr><tr><td>161</td><td>5</td></tr><tr><td>162</td><td>5</td></tr><tr><td>163</td><td>5</td></tr><tr><td>164</td><td>5</td></tr><tr><td>165</td><td>5</td></tr><tr><td>166</td><td>5</td></tr><tr><td>167</td><td>5</td></tr><tr><td>168</td><td>5</td></tr><tr><td>169</td><td>5</td></tr><tr><td>170</td><td>5</td></tr><tr><td>171</td><td>5</td></tr><tr><td>172</td><td>5</td></tr><tr><td>173</td><td>5</td></tr><tr><td>174</td><td>5</td></tr><tr><td>175</td><td>5</td></tr><tr><td>176</td><td>5</td></tr><tr><td>177</td><td>5</td></tr><tr><td>178</td><td>5</td></tr><tr><td>179</td><td>5</td></tr><tr><td>180</td><td>5</td></tr><tr><td>181</td><td>5</td></tr><tr><td>182</td><td>5</td></tr><tr><td>183</td><td>5</td></tr><tr><td>184</td><td>5</td></tr><tr><td>185</td><td>5</td></tr><tr><td>187</td><td>5</td></tr><tr><td>188</td><td>5</td></tr><tr><td>189</td><td>5</td></tr><tr><td>190</td><td>5</td></tr><tr><td>203</td><td>4</td></tr><tr><td>204</td><td>4</td></tr><tr><td>227</td><td>4</td></tr><tr><td>220</td><td>1</td></tr><tr><td>221</td><td>1</td></tr><tr><td>222</td><td>1</td></tr><tr><td>223</td><td>1</td></tr><tr><td>186</td><td>1</td></tr><tr><td>205</td><td>1</td></tr><tr><td>206</td><td>1</td></tr><tr><td>207</td><td>1</td></tr><tr><td>226</td><td>1</td></tr></table>"
                    },
                    "metadata": {}
                }
            ],
            "execution_count": 74
        },
        {
            "cell_type": "markdown",
            "source": [
                "13. <span style=\"color: rgb(36, 41, 47); font-family: -apple-system, BlinkMacSystemFont, &quot;Segoe UI&quot;, Helvetica, Arial, sans-serif, &quot;Apple Color Emoji&quot;, &quot;Segoe UI Emoji&quot;; font-size: 16px;\">Készítsünk listát, amely megjeleníti, hogy az Orak táblában lévő órák közül hányat tart Dr., illetve nem Dr. titulusú tanár!</span>\n",
                "\n",
                "1. Az oszlopokat nevezzük el értelemszerűen!"
            ],
            "metadata": {
                "azdata_cell_guid": "3f9237ae-f109-401c-acb9-31d75e73331b"
            },
            "attachments": {}
        },
        {
            "cell_type": "code",
            "source": [
                ""
            ],
            "metadata": {
                "azdata_cell_guid": "4b31bb89-cfbc-46b1-8639-85c462877786",
                "language": "sql"
            },
            "outputs": [],
            "execution_count": null
        },
        {
            "cell_type": "markdown",
            "source": [
                "14. <span style=\"color: rgb(36, 41, 47); font-family: -apple-system, BlinkMacSystemFont, &quot;Segoe UI&quot;, Helvetica, Arial, sans-serif, &quot;Apple Color Emoji&quot;, &quot;Segoe UI Emoji&quot;; font-size: 16px;\">Készítsünk listát arról, hogy beosztásonként hány óra szerepel az Orak táblában!</span>\n",
                "\n",
                "1. Jelenítsük meg a beosztások nevét és az órák számát!\n",
                "2. A listát szűrjük azokra a beosztásokra, ahol ez az óraszám 10 feletti!"
            ],
            "metadata": {
                "azdata_cell_guid": "f634e09a-85ef-4e70-8ec6-ef355dfddaa7"
            },
            "attachments": {}
        },
        {
            "cell_type": "code",
            "source": [
                ""
            ],
            "metadata": {
                "azdata_cell_guid": "88abc55b-2c78-495b-a72f-3f8f4eb5fe70",
                "language": "sql"
            },
            "outputs": [],
            "execution_count": null
        },
        {
            "cell_type": "markdown",
            "source": [
                "15. <span style=\"color: rgb(36, 41, 47); font-family: -apple-system, BlinkMacSystemFont, &quot;Segoe UI&quot;, Helvetica, Arial, sans-serif, &quot;Apple Color Emoji&quot;, &quot;Segoe UI Emoji&quot;; font-size: 16px;\">Melyek azok az órák, amelyek kezdési időpontja olyan sávba esik, amely a mostani időpont (óra:perc) után van?</span>\n",
                "\n",
                "1. Listázzuk az órák azonosítóit, valamint az órakezdés napját és időpontját!\n",
                "2. A listát rendezzük az időpont szerint növekvő sorrendbe!"
            ],
            "metadata": {
                "azdata_cell_guid": "4cbf2f0d-a65d-480a-8186-ccdb24498443"
            },
            "attachments": {}
        },
        {
            "cell_type": "code",
            "source": [
                ""
            ],
            "metadata": {
                "azdata_cell_guid": "c148aee8-bc85-40bf-b80a-a4898a6c05cb",
                "language": "sql"
            },
            "outputs": [],
            "execution_count": null
        }
    ]
}