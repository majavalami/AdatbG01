{
    "metadata": {
        "kernelspec": {
            "name": "SQL",
            "display_name": "SQL",
            "language": "sql"
        },
        "language_info": {
            "name": "sql",
            "version": ""
        }
    },
    "nbformat_minor": 2,
    "nbformat": 4,
    "cells": [
        {
            "cell_type": "markdown",
            "source": [
                "Hiányos leírású termékek"
            ],
            "metadata": {
                "azdata_cell_guid": "49f61e02-e4de-433f-967e-af149b9e29f5"
            },
            "attachments": {}
        },
        {
            "cell_type": "code",
            "source": [
                "SELECT TERMEKKOD AS 'Termékkód',\r\n",
                "       MEGNEVEZES AS 'Megnevezés',\r\n",
                "       LEIRAS AS 'Leírás'\r\n",
                "FROM Termek\r\n",
                "WHERE LEIRAS IS NULL"
            ],
            "metadata": {
                "azdata_cell_guid": "b1487ae6-b91a-4591-9c8e-6139d7d90ad6",
                "language": "sql"
            },
            "outputs": [
                {
                    "output_type": "display_data",
                    "data": {
                        "text/html": "(527 rows affected)"
                    },
                    "metadata": {}
                },
                {
                    "output_type": "display_data",
                    "data": {
                        "text/html": "Total execution time: 00:00:00.081"
                    },
                    "metadata": {}
                },
                {
                    "output_type": "execute_result",
                    "metadata": {},
                    "execution_count": 2,
                    "data": {
                        "application/vnd.dataresource+json": {
                            "schema": {
                                "fields": [
                                    {
                                        "name": "Termékkód"
                                    },
                                    {
                                        "name": "Megnevezés"
                                    },
                                    {
                                        "name": "Leírás"
                                    }
                                ]
                            },
                            "data": [
                                {
                                    "Termékkód": "01010001T",
                                    "Megnevezés": "félfamentes rajzlap A4 (10 lap)",
                                    "Leírás": "NULL"
                                },
                                {
                                    "Termékkód": "01010110T",
                                    "Megnevezés": "Fotópapír A/4 fényes",
                                    "Leírás": "NULL"
                                },
                                {
                                    "Termékkód": "01010304T",
                                    "Megnevezés": "Öntapadós hologramos papír A/4",
                                    "Leírás": "NULL"
                                },
                                {
                                    "Termékkód": "01020299T",
                                    "Megnevezés": "Oklevél A/4 egyszínű",
                                    "Leírás": "NULL"
                                },
                                {
                                    "Termékkód": "01020300T",
                                    "Megnevezés": "Oklevél A/4 színes",
                                    "Leírás": "NULL"
                                },
                                {
                                    "Termékkód": "01030091T",
                                    "Megnevezés": "Emléklap A/5",
                                    "Leírás": "NULL"
                                },
                                {
                                    "Termékkód": "01030092T",
                                    "Megnevezés": "Esküvői meghívó",
                                    "Leírás": "NULL"
                                },
                                {
                                    "Termékkód": "01040307T",
                                    "Megnevezés": "Pausz papír A/4",
                                    "Leírás": "NULL"
                                },
                                {
                                    "Termékkód": "01040502T",
                                    "Megnevezés": "Előlap spirálhoz",
                                    "Leírás": "NULL"
                                },
                                {
                                    "Termékkód": "01080093T",
                                    "Megnevezés": "Fax papír 15 m",
                                    "Leírás": "NULL"
                                },
                                {
                                    "Termékkód": "01080512T",
                                    "Megnevezés": "Öntapadó A/4",
                                    "Leírás": "NULL"
                                },
                                {
                                    "Termékkód": "01080513T",
                                    "Megnevezés": "Selyemfényű karton A/4",
                                    "Leírás": "NULL"
                                },
                                {
                                    "Termékkód": "01090498T",
                                    "Megnevezés": "Műnyomó 300g 17,5*20",
                                    "Leírás": "NULL"
                                },
                                {
                                    "Termékkód": "01090499T",
                                    "Megnevezés": "Color Copy A/4 250 g",
                                    "Leírás": "NULL"
                                },
                                {
                                    "Termékkód": "01090500T",
                                    "Megnevezés": "Color Copy A4 200 g",
                                    "Leírás": "NULL"
                                },
                                {
                                    "Termékkód": "01090501T",
                                    "Megnevezés": "Kreatív A/4 300g ",
                                    "Leírás": "NULL"
                                },
                                {
                                    "Termékkód": "01090515T",
                                    "Megnevezés": "Színes A/3 160 gr IQ",
                                    "Leírás": "NULL"
                                },
                                {
                                    "Termékkód": "01090516T",
                                    "Megnevezés": "Színes karton A4",
                                    "Leírás": "NULL"
                                },
                                {
                                    "Termékkód": "01090517T",
                                    "Megnevezés": "Színes ofszet B/4",
                                    "Leírás": "NULL"
                                },
                                {
                                    "Termékkód": "01100070T",
                                    "Megnevezés": "Dekorációs karton",
                                    "Leírás": "NULL"
                                },
                                {
                                    "Termékkód": "01100071T",
                                    "Megnevezés": "Dekorációs karton arany, ezüst",
                                    "Leírás": "NULL"
                                },
                                {
                                    "Termékkód": "01100072T",
                                    "Megnevezés": "Dipa A/4 keretezett",
                                    "Leírás": "NULL"
                                },
                                {
                                    "Termékkód": "01100094T",
                                    "Megnevezés": "Fénymásoló papír DataCopy",
                                    "Leírás": "NULL"
                                },
                                {
                                    "Termékkód": "01100095T",
                                    "Megnevezés": "Fénymásoló papír GetCopy",
                                    "Leírás": "NULL"
                                },
                                {
                                    "Termékkód": "01100096T",
                                    "Megnevezés": "Fénymásoló papír Qconnect",
                                    "Leírás": "NULL"
                                },
                                {
                                    "Termékkód": "01100496T",
                                    "Megnevezés": "Színes másoló a/4 80g",
                                    "Leírás": "NULL"
                                },
                                {
                                    "Termékkód": "01100497T",
                                    "Megnevezés": "Color Copy 160 g-os ",
                                    "Leírás": "NULL"
                                },
                                {
                                    "Termékkód": "01100503T",
                                    "Megnevezés": "Color Copy A4 120 g",
                                    "Leírás": "NULL"
                                },
                                {
                                    "Termékkód": "01100504T",
                                    "Megnevezés": "Fehér másoló A/3",
                                    "Leírás": "NULL"
                                },
                                {
                                    "Termékkód": "01100505T",
                                    "Megnevezés": "Fehér másoló A/4",
                                    "Leírás": "NULL"
                                },
                                {
                                    "Termékkód": "01100509T",
                                    "Megnevezés": "Márványos A/4",
                                    "Leírás": "NULL"
                                },
                                {
                                    "Termékkód": "01100510T",
                                    "Megnevezés": "Kreatív A/4 120g ",
                                    "Leírás": "NULL"
                                },
                                {
                                    "Termékkód": "02010028T",
                                    "Megnevezés": "Árazószalag ",
                                    "Leírás": "NULL"
                                },
                                {
                                    "Termékkód": "02020029T",
                                    "Megnevezés": "Átírótömb A/6",
                                    "Leírás": "NULL"
                                },
                                {
                                    "Termékkód": "02020032T",
                                    "Megnevezés": "Beírókönyv A5 ",
                                    "Leírás": "NULL"
                                },
                                {
                                    "Termékkód": "02020033T",
                                    "Megnevezés": "Beírókönyv A4",
                                    "Leírás": "NULL"
                                },
                                {
                                    "Termékkód": "02020037T",
                                    "Megnevezés": "Bevételi pénztárbizonylat 3×25",
                                    "Leírás": "NULL"
                                },
                                {
                                    "Termékkód": "02020245T",
                                    "Megnevezés": "Kiadási pénztárbizonylat 2×25",
                                    "Leírás": "NULL"
                                },
                                {
                                    "Termékkód": "02020444T",
                                    "Megnevezés": "Határidő napló A/6",
                                    "Leírás": "NULL"
                                },
                                {
                                    "Termékkód": "02030040T",
                                    "Megnevezés": "Boríték LA 4 francia",
                                    "Leírás": "NULL"
                                },
                                {
                                    "Termékkód": "02030041T",
                                    "Megnevezés": "Boríték LC 5",
                                    "Leírás": "NULL"
                                },
                                {
                                    "Termékkód": "02030042T",
                                    "Megnevezés": "Boríték LC 6",
                                    "Leírás": "NULL"
                                },
                                {
                                    "Termékkód": "02030043T",
                                    "Megnevezés": "Boríték légp. kicsi",
                                    "Leírás": "NULL"
                                },
                                {
                                    "Termékkód": "02030044T",
                                    "Megnevezés": "Boríték mintás",
                                    "Leírás": "NULL"
                                },
                                {
                                    "Termékkód": "02040002T",
                                    "Megnevezés": "irodai tűzőgép",
                                    "Leírás": "NULL"
                                },
                                {
                                    "Termékkód": "02040025T",
                                    "Megnevezés": "Álló irattartó karton",
                                    "Leírás": "NULL"
                                },
                                {
                                    "Termékkód": "02040145T",
                                    "Megnevezés": "Gemkapocs 28 mm",
                                    "Leírás": "NULL"
                                },
                                {
                                    "Termékkód": "02040146T",
                                    "Megnevezés": "Gemkapocs ICO",
                                    "Leírás": "NULL"
                                },
                                {
                                    "Termékkód": "02040147T",
                                    "Megnevezés": "Genotherm lefűzhető A/5",
                                    "Leírás": "NULL"
                                },
                                {
                                    "Termékkód": "02040148T",
                                    "Megnevezés": "Genotherm lefűzhető A4 10db-os",
                                    "Leírás": "NULL"
                                },
                                {
                                    "Termékkód": "02040149T",
                                    "Megnevezés": "Genotherm A4 10db-os",
                                    "Leírás": "NULL"
                                },
                                {
                                    "Termékkód": "02040176T",
                                    "Megnevezés": "Gyorsfűző dosszié fehér",
                                    "Leírás": "NULL"
                                },
                                {
                                    "Termékkód": "02040177T",
                                    "Megnevezés": "Gyorsfűző műa.",
                                    "Leírás": "NULL"
                                },
                                {
                                    "Termékkód": "02040178T",
                                    "Megnevezés": "Gyorsfűző műa.",
                                    "Leírás": "NULL"
                                },
                                {
                                    "Termékkód": "02040194T",
                                    "Megnevezés": "Hibajav.roll.Pritt 4,2mm",
                                    "Leírás": "NULL"
                                },
                                {
                                    "Termékkód": "02040195T",
                                    "Megnevezés": "Hibajavító ecsetes Aqua",
                                    "Leírás": "NULL"
                                },
                                {
                                    "Termékkód": "02040196T",
                                    "Megnevezés": "Hibajavító készlet Blanco",
                                    "Leírás": "NULL"
                                },
                                {
                                    "Termékkód": "02040197T",
                                    "Megnevezés": "Hibajavító lap ",
                                    "Leírás": "NULL"
                                },
                                {
                                    "Termékkód": "02040198T",
                                    "Megnevezés": "Hibajavító roller 5 mm",
                                    "Leírás": "NULL"
                                },
                                {
                                    "Termékkód": "02040199T",
                                    "Megnevezés": "Hibajavító roller Pax",
                                    "Leírás": "NULL"
                                },
                                {
                                    "Termékkód": "02040200T",
                                    "Megnevezés": "Hibajavító Kores mini pen",
                                    "Leírás": "NULL"
                                },
                                {
                                    "Termékkód": "02040206T",
                                    "Megnevezés": "Írásvetítő fólia",
                                    "Leírás": "NULL"
                                },
                                {
                                    "Termékkód": "02040207T",
                                    "Megnevezés": "Iratgyűjtő ESSELTE ablakos",
                                    "Leírás": "NULL"
                                },
                                {
                                    "Termékkód": "02040208T",
                                    "Megnevezés": "Iratgyűjtő fehér",
                                    "Leírás": "NULL"
                                },
                                {
                                    "Termékkód": "02040209T",
                                    "Megnevezés": "Iratsín fehér",
                                    "Leírás": "NULL"
                                },
                                {
                                    "Termékkód": "02040210T",
                                    "Megnevezés": "Iratsín kék",
                                    "Leírás": "NULL"
                                },
                                {
                                    "Termékkód": "02040211T",
                                    "Megnevezés": "Iratrendező ESSELTE",
                                    "Leírás": "NULL"
                                },
                                {
                                    "Termékkód": "02040214T",
                                    "Megnevezés": "Iromány fedél feles",
                                    "Leírás": "NULL"
                                },
                                {
                                    "Termékkód": "02040290T",
                                    "Megnevezés": "Naptár 24-es",
                                    "Leírás": "NULL"
                                },
                                {
                                    "Termékkód": "02040291T",
                                    "Megnevezés": "Naptárhát kicsi",
                                    "Leírás": "NULL"
                                },
                                {
                                    "Termékkód": "02040292T",
                                    "Megnevezés": "Naptárhát nagy",
                                    "Leírás": "NULL"
                                },
                                {
                                    "Termékkód": "02040293T",
                                    "Megnevezés": "Névjegytartó kicsi",
                                    "Leírás": "NULL"
                                },
                                {
                                    "Termékkód": "02040294T",
                                    "Megnevezés": "Notesz A/5 sima",
                                    "Leírás": "NULL"
                                },
                                {
                                    "Termékkód": "02040295T",
                                    "Megnevezés": "Notesz A/5 sima spirál",
                                    "Leírás": "NULL"
                                },
                                {
                                    "Termékkód": "02040296T",
                                    "Megnevezés": "Notesz A/6 College",
                                    "Leírás": "NULL"
                                },
                                {
                                    "Termékkód": "02040297T",
                                    "Megnevezés": "Notesz sima spirál College",
                                    "Leírás": "NULL"
                                },
                                {
                                    "Termékkód": "02040298T",
                                    "Megnevezés": "Notesz mintás",
                                    "Leírás": "NULL"
                                },
                                {
                                    "Termékkód": "02040308T",
                                    "Megnevezés": "Pénztárgépsz. 2 pl. nem öníró",
                                    "Leírás": "NULL"
                                },
                                {
                                    "Termékkód": "02040309T",
                                    "Megnevezés": "Pénztárgépszalag 2pl SC 57.5/60",
                                    "Leírás": "NULL"
                                },
                                {
                                    "Termékkód": "02040401T",
                                    "Megnevezés": "Tűzőgép Boxer 10",
                                    "Leírás": "NULL"
                                },
                                {
                                    "Termékkód": "02040402T",
                                    "Megnevezés": "Tűzőgép Boxer ",
                                    "Leírás": "NULL"
                                },
                                {
                                    "Termékkód": "02040403T",
                                    "Megnevezés": "Tűzőgép SAX 239",
                                    "Leírás": "NULL"
                                },
                                {
                                    "Termékkód": "02040404T",
                                    "Megnevezés": "Tűzőgép EAGLE",
                                    "Leírás": "NULL"
                                },
                                {
                                    "Termékkód": "02040405T",
                                    "Megnevezés": "Tűzőkapocs 10-es",
                                    "Leírás": "NULL"
                                },
                                {
                                    "Termékkód": "02040406T",
                                    "Megnevezés": "Tűzőkapocs 24/6",
                                    "Leírás": "NULL"
                                },
                                {
                                    "Termékkód": "02040506T",
                                    "Megnevezés": "Fólia tasakos A4 125 mik.",
                                    "Leírás": "NULL"
                                },
                                {
                                    "Termékkód": "02040507T",
                                    "Megnevezés": "Fólia tasakos A4 80 mik.",
                                    "Leírás": "NULL"
                                },
                                {
                                    "Termékkód": "02040508T",
                                    "Megnevezés": "Fólia tasakos A4100 mik.",
                                    "Leírás": "NULL"
                                },
                                {
                                    "Termékkód": "02050460T",
                                    "Megnevezés": "Boríték C/4-es",
                                    "Leírás": "NULL"
                                },
                                {
                                    "Termékkód": "02050461T",
                                    "Megnevezés": "Boríték B/4-es",
                                    "Leírás": "NULL"
                                },
                                {
                                    "Termékkód": "02060034T",
                                    "Megnevezés": "Bélyegzőfesték ",
                                    "Leírás": "NULL"
                                },
                                {
                                    "Termékkód": "02060038T",
                                    "Megnevezés": "Bélyegző IDEAL 50",
                                    "Leírás": "NULL"
                                },
                                {
                                    "Termékkód": "02060039T",
                                    "Megnevezés": "Bélyegző párna",
                                    "Leírás": "NULL"
                                },
                                {
                                    "Termékkód": "02060447T",
                                    "Megnevezés": "Bélyegző pocket",
                                    "Leírás": "NULL"
                                },
                                {
                                    "Termékkód": "02060448T",
                                    "Megnevezés": "Bélyegző RP 18-47",
                                    "Leírás": "NULL"
                                },
                                {
                                    "Termékkód": "02080069T",
                                    "Megnevezés": "CD tartó tok",
                                    "Leírás": "NULL"
                                },
                                {
                                    "Termékkód": "02080081T",
                                    "Megnevezés": "Dvd",
                                    "Leírás": "NULL"
                                },
                                {
                                    "Termékkód": "02080109T",
                                    "Megnevezés": "Floppy lemez",
                                    "Leírás": "NULL"
                                },
                                {
                                    "Termékkód": "02080226T",
                                    "Megnevezés": "Kapocskiszedő",
                                    "Leírás": "NULL"
                                },
                                {
                                    "Termékkód": "02080431T",
                                    "Megnevezés": "Álló irattartó",
                                    "Leírás": "NULL"
                                },
                                {
                                    "Termékkód": "02080432T",
                                    "Megnevezés": "Tokos iratrendező",
                                    "Leírás": "NULL"
                                },
                                {
                                    "Termékkód": "02080433T",
                                    "Megnevezés": "Ragasztószalag 19 mm-es",
                                    "Leírás": "NULL"
                                },
                                {
                                    "Termékkód": "02080434T",
                                    "Megnevezés": "Mappa müa A/4",
                                    "Leírás": "NULL"
                                },
                                {
                                    "Termékkód": "02080435T",
                                    "Megnevezés": "Mappa bemutató",
                                    "Leírás": "NULL"
                                },
                                {
                                    "Termékkód": "02080436T",
                                    "Megnevezés": "Irattartó müa. boríték A/4",
                                    "Leírás": "NULL"
                                },
                                {
                                    "Termékkód": "02080449T",
                                    "Megnevezés": "Térképtű színes",
                                    "Leírás": "NULL"
                                },
                                {
                                    "Termékkód": "02080450T",
                                    "Megnevezés": "Gémkapocs 28-as színes",
                                    "Leírás": "NULL"
                                },
                                {
                                    "Termékkód": "02080451T",
                                    "Megnevezés": "Gémkapocs 50-es",
                                    "Leírás": "NULL"
                                },
                                {
                                    "Termékkód": "02080452T",
                                    "Megnevezés": "Tűzőgép mini",
                                    "Leírás": "NULL"
                                },
                                {
                                    "Termékkód": "02080453T",
                                    "Megnevezés": "Lyukasztó EAGLE",
                                    "Leírás": "NULL"
                                },
                                {
                                    "Termékkód": "02080454T",
                                    "Megnevezés": "Lyukasztó BOXER",
                                    "Leírás": "NULL"
                                },
                                {
                                    "Termékkód": "02080455T",
                                    "Megnevezés": "Festékpatron BCI-3BK",
                                    "Leírás": "NULL"
                                },
                                {
                                    "Termékkód": "02080456T",
                                    "Megnevezés": "Genoterm HERLITZ 10-es",
                                    "Leírás": "NULL"
                                },
                                {
                                    "Termékkód": "02080511T",
                                    "Megnevezés": "Oki toner C",
                                    "Leírás": "NULL"
                                },
                                {
                                    "Termékkód": "02080514T",
                                    "Megnevezés": "Spirál 1/4 ",
                                    "Leírás": "NULL"
                                },
                                {
                                    "Termékkód": "03010342T",
                                    "Megnevezés": "Ragasztószalag  TIXO",
                                    "Leírás": "NULL"
                                },
                                {
                                    "Termékkód": "03010344T",
                                    "Megnevezés": "Ragasztószalag nagy 12 mm",
                                    "Leírás": "NULL"
                                },
                                {
                                    "Termékkód": "03010345T",
                                    "Megnevezés": "Ragasztószalag széles barna",
                                    "Leírás": "NULL"
                                },
                                {
                                    "Termékkód": "03050076T",
                                    "Megnevezés": "Díszkötöző szalag metál nagy",
                                    "Leírás": "NULL"
                                },
                                {
                                    "Termékkód": "03050077T",
                                    "Megnevezés": "Diszkötöző szalag arany",
                                    "Leírás": "NULL"
                                },
                                {
                                    "Termékkód": "03050078T",
                                    "Megnevezés": "Díszkötöző szalag metál kicsi",
                                    "Leírás": "NULL"
                                },
                                {
                                    "Termékkód": "03050079T",
                                    "Megnevezés": "Díszkötöző szalag vékony",
                                    "Leírás": "NULL"
                                },
                                {
                                    "Termékkód": "03050080T",
                                    "Megnevezés": "Diszkötöző széles szalag",
                                    "Leírás": "NULL"
                                },
                                {
                                    "Termékkód": "03050457T",
                                    "Megnevezés": "Ajándék cs. tasak kicsi",
                                    "Leírás": "NULL"
                                },
                                {
                                    "Termékkód": "03050458T",
                                    "Megnevezés": "Ajándék cs. 2×100×70",
                                    "Leírás": "NULL"
                                },
                                {
                                    "Termékkód": "03050459T",
                                    "Megnevezés": "Talpas tasak",
                                    "Leírás": "NULL"
                                },
                                {
                                    "Termékkód": "03080003T",
                                    "Megnevezés": "Ajándék cs. tasak italos",
                                    "Leírás": "NULL"
                                },
                                {
                                    "Termékkód": "03080004T",
                                    "Megnevezés": "Ajándék cs. tasak italos, fólia",
                                    "Leírás": "NULL"
                                },
                                {
                                    "Termékkód": "03080005T",
                                    "Megnevezés": "Ajándék cs. tasak virágos nagy",
                                    "Leírás": "NULL"
                                },
                                {
                                    "Termékkód": "03080006T",
                                    "Megnevezés": "Ajándék cs. tasak mintás kicsi",
                                    "Leírás": "NULL"
                                },
                                {
                                    "Termékkód": "03080007T",
                                    "Megnevezés": "Ajándék cs. tasak mintás nagy",
                                    "Leírás": "NULL"
                                },
                                {
                                    "Termékkód": "03080008T",
                                    "Megnevezés": "Ajándék cs. tasak kicsi",
                                    "Leírás": "NULL"
                                },
                                {
                                    "Termékkód": "03080009T",
                                    "Megnevezés": "Ajándék csom. 100x70 metál",
                                    "Leírás": "NULL"
                                },
                                {
                                    "Termékkód": "03080010T",
                                    "Megnevezés": "Ajándék csom. 150x70",
                                    "Leírás": "NULL"
                                },
                                {
                                    "Termékkód": "03080011T",
                                    "Megnevezés": "Ajándék cs. tasak közepes",
                                    "Leírás": "NULL"
                                },
                                {
                                    "Termékkód": "03080012T",
                                    "Megnevezés": "Ajándék csom. 200x70",
                                    "Leírás": "NULL"
                                },
                                {
                                    "Termékkód": "03080013T",
                                    "Megnevezés": "Ajándék csom. 50x70 húsvéti",
                                    "Leírás": "NULL"
                                },
                                {
                                    "Termékkód": "03080014T",
                                    "Megnevezés": "Ajándék csom. 70x50 metál",
                                    "Leírás": "NULL"
                                },
                                {
                                    "Termékkód": "03080015T",
                                    "Megnevezés": "Ajándék csom. gyűrt",
                                    "Leírás": "NULL"
                                },
                                {
                                    "Termékkód": "03080016T",
                                    "Megnevezés": "házt.csom.  5 ív",
                                    "Leírás": "NULL"
                                },
                                {
                                    "Termékkód": "03080017T",
                                    "Megnevezés": "iskolai csomagoló papír",
                                    "Leírás": "NULL"
                                },
                                {
                                    "Termékkód": "03080018T",
                                    "Megnevezés": "Ajándék csom. gyűrt 50x70 ",
                                    "Leírás": "NULL"
                                },
                                {
                                    "Termékkód": "03080019T",
                                    "Megnevezés": "Ajándék csom. Krepp",
                                    "Leírás": "NULL"
                                },
                                {
                                    "Termékkód": "03080020T",
                                    "Megnevezés": "Ajándék csom. nagy  ",
                                    "Leírás": "NULL"
                                },
                                {
                                    "Termékkód": "03080021T",
                                    "Megnevezés": "Ajándék csom. vékony",
                                    "Leírás": "NULL"
                                },
                                {
                                    "Termékkód": "03080030T",
                                    "Megnevezés": "Ajándék cs. húsvéti 200x70",
                                    "Leírás": "NULL"
                                },
                                {
                                    "Termékkód": "03080031T",
                                    "Megnevezés": "Ajándék cs. húsvéti",
                                    "Leírás": "NULL"
                                },
                                {
                                    "Termékkód": "03080437T",
                                    "Megnevezés": "Ajándék csomagoló tasak",
                                    "Leírás": "NULL"
                                },
                                {
                                    "Termékkód": "03080438T",
                                    "Megnevezés": "Ajándék csomagoló tasak lézeres",
                                    "Leírás": "NULL"
                                },
                                {
                                    "Termékkód": "03080439T",
                                    "Megnevezés": "Italtartó doboz",
                                    "Leírás": "NULL"
                                },
                                {
                                    "Termékkód": "04020445T",
                                    "Megnevezés": "Határidő napló 2010-s",
                                    "Leírás": "NULL"
                                },
                                {
                                    "Termékkód": "04030234T",
                                    "Megnevezés": "Képeslap karácsonyi",
                                    "Leírás": "NULL"
                                },
                                {
                                    "Termékkód": "04030235T",
                                    "Megnevezés": "Képeslap karácsonyi borítékos",
                                    "Leírás": "NULL"
                                },
                                {
                                    "Termékkód": "04030236T",
                                    "Megnevezés": "Képeslap karácsonyi WD",
                                    "Leírás": "NULL"
                                },
                                {
                                    "Termékkód": "04030237T",
                                    "Megnevezés": "Képeslap kerek",
                                    "Leírás": "NULL"
                                },
                                {
                                    "Termékkód": "04030238T",
                                    "Megnevezés": "Képeslap stancolt",
                                    "Leírás": "NULL"
                                },
                                {
                                    "Termékkód": "04030239T",
                                    "Megnevezés": "Képeslap stancolt szív",
                                    "Leírás": "NULL"
                                },
                                {
                                    "Termékkód": "04030240T",
                                    "Megnevezés": "Képeslap virágos",
                                    "Leírás": "NULL"
                                },
                                {
                                    "Termékkód": "04030241T",
                                    "Megnevezés": "Képeslap virágos +boríték",
                                    "Leírás": "NULL"
                                },
                                {
                                    "Termékkód": "04030242T",
                                    "Megnevezés": "Képeslap WD +boríték",
                                    "Leírás": "NULL"
                                },
                                {
                                    "Termékkód": "04030243T",
                                    "Megnevezés": "Képkirakó Dirib-darab",
                                    "Leírás": "NULL"
                                },
                                {
                                    "Termékkód": "04030260T",
                                    "Megnevezés": "Levélpapír A/4",
                                    "Leírás": "NULL"
                                },
                                {
                                    "Termékkód": "04030261T",
                                    "Megnevezés": "Levélpapír állatos",
                                    "Leírás": "NULL"
                                },
                                {
                                    "Termékkód": "04030262T",
                                    "Megnevezés": "Levélpapír sima",
                                    "Leírás": "NULL"
                                },
                                {
                                    "Termékkód": "04030263T",
                                    "Megnevezés": "Levélpapír szett",
                                    "Leírás": "NULL"
                                },
                                {
                                    "Termékkód": "04030264T",
                                    "Megnevezés": "Levélpapír szett ",
                                    "Leírás": "NULL"
                                },
                                {
                                    "Termékkód": "04030265T",
                                    "Megnevezés": "Levélpapír szett natur, mintás",
                                    "Leírás": "NULL"
                                },
                                {
                                    "Termékkód": "04030266T",
                                    "Megnevezés": "Levélpapír szett virágos",
                                    "Leírás": "NULL"
                                },
                                {
                                    "Termékkód": "04030285T",
                                    "Megnevezés": "Mikulás zacskó",
                                    "Leírás": "NULL"
                                },
                                {
                                    "Termékkód": "04030286T",
                                    "Megnevezés": "Műanyag állatok",
                                    "Leírás": "NULL"
                                },
                                {
                                    "Termékkód": "04030287T",
                                    "Megnevezés": "Műanyag foszforeszkáló állat",
                                    "Leírás": "NULL"
                                },
                                {
                                    "Termékkód": "04030288T",
                                    "Megnevezés": "Műanyag pohár 1 dl-es",
                                    "Leírás": "NULL"
                                },
                                {
                                    "Termékkód": "04030289T",
                                    "Megnevezés": "Műanyag pohár 5 cl-es",
                                    "Leírás": "NULL"
                                },
                                {
                                    "Termékkód": "04040090T",
                                    "Megnevezés": "Emlékkönyv",
                                    "Leírás": "NULL"
                                },
                                {
                                    "Termékkód": "04040387T",
                                    "Megnevezés": "Tenisz labda",
                                    "Leírás": "NULL"
                                },
                                {
                                    "Termékkód": "04050022T",
                                    "Megnevezés": "Álarc",
                                    "Leírás": "NULL"
                                },
                                {
                                    "Termékkód": "04050023T",
                                    "Megnevezés": "Álarc fejdísz",
                                    "Leírás": "NULL"
                                },
                                {
                                    "Termékkód": "04050024T",
                                    "Megnevezés": "Álarc szemüveg",
                                    "Leírás": "NULL"
                                },
                                {
                                    "Termékkód": "04050035T",
                                    "Megnevezés": "Bérlet tok",
                                    "Leírás": "NULL"
                                },
                                {
                                    "Termékkód": "04050073T",
                                    "Megnevezés": "Díszdoboz kar.",
                                    "Leírás": "NULL"
                                },
                                {
                                    "Termékkód": "04050074T",
                                    "Megnevezés": "Díszdoboz tollnak 2 db-os",
                                    "Leírás": "NULL"
                                },
                                {
                                    "Termékkód": "04050075T",
                                    "Megnevezés": "Díszdoboz tollnak 2 db-os keskeny",
                                    "Leírás": "NULL"
                                },
                                {
                                    "Termékkód": "04050171T",
                                    "Megnevezés": "Gumilabda közepes",
                                    "Leírás": "NULL"
                                },
                                {
                                    "Termékkód": "04050187T",
                                    "Megnevezés": "Hajgumi macis",
                                    "Leírás": "NULL"
                                },
                                {
                                    "Termékkód": "04050203T",
                                    "Megnevezés": "Hűtőmágnes",
                                    "Leírás": "NULL"
                                },
                                {
                                    "Termékkód": "04050204T",
                                    "Megnevezés": "Hűtőmágnes WD",
                                    "Leírás": "NULL"
                                },
                                {
                                    "Termékkód": "04050220T",
                                    "Megnevezés": "Játék autó",
                                    "Leírás": "NULL"
                                },
                                {
                                    "Termékkód": "04050221T",
                                    "Megnevezés": "Játékautó Blisteres",
                                    "Leírás": "NULL"
                                },
                                {
                                    "Termékkód": "04050222T",
                                    "Megnevezés": "Játékautó elemes",
                                    "Leírás": "NULL"
                                },
                                {
                                    "Termékkód": "04050223T",
                                    "Megnevezés": "Játékautó mini",
                                    "Leírás": "NULL"
                                },
                                {
                                    "Termékkód": "04050224T",
                                    "Megnevezés": "Jelzőkréta",
                                    "Leírás": "NULL"
                                },
                                {
                                    "Termékkód": "04050225T",
                                    "Megnevezés": "Kártya mini Magyar",
                                    "Leírás": "NULL"
                                },
                                {
                                    "Termékkód": "04050250T",
                                    "Megnevezés": "Kulcstartó autós",
                                    "Leírás": "NULL"
                                },
                                {
                                    "Termékkód": "04050251T",
                                    "Megnevezés": "Kulcstartó billiárd golyós",
                                    "Leírás": "NULL"
                                },
                                {
                                    "Termékkód": "04050252T",
                                    "Megnevezés": "Kulcstartó Csőrikés",
                                    "Leírás": "NULL"
                                },
                                {
                                    "Termékkód": "04050253T",
                                    "Megnevezés": "Kulcstartó figurás",
                                    "Leírás": "NULL"
                                },
                                {
                                    "Termékkód": "04050254T",
                                    "Megnevezés": "Kulcstartó intarziás állatos",
                                    "Leírás": "NULL"
                                },
                                {
                                    "Termékkód": "04050255T",
                                    "Megnevezés": "Kulcstartó mesefigurás",
                                    "Leírás": "NULL"
                                },
                                {
                                    "Termékkód": "04050256T",
                                    "Megnevezés": "Kulcstartó nagyítós",
                                    "Leírás": "NULL"
                                },
                                {
                                    "Termékkód": "04050267T",
                                    "Megnevezés": "Logikai készlet",
                                    "Leírás": "NULL"
                                },
                                {
                                    "Termékkód": "04050268T",
                                    "Megnevezés": "Lufi formázható",
                                    "Leírás": "NULL"
                                },
                                {
                                    "Termékkód": "04050269T",
                                    "Megnevezés": "Lufi hullámos",
                                    "Leírás": "NULL"
                                },
                                {
                                    "Termékkód": "04050320T",
                                    "Megnevezés": "Plüss  QX állatok",
                                    "Leírás": "NULL"
                                },
                                {
                                    "Termékkód": "04050321T",
                                    "Megnevezés": "Plüss kicsi",
                                    "Leírás": "NULL"
                                },
                                {
                                    "Termékkód": "04050322T",
                                    "Megnevezés": "Plüss sárkány",
                                    "Leírás": "NULL"
                                },
                                {
                                    "Termékkód": "04050358T",
                                    "Megnevezés": "Strandlabda ",
                                    "Leírás": "NULL"
                                },
                                {
                                    "Termékkód": "04080270T",
                                    "Megnevezés": "Mappa bőr A5",
                                    "Leírás": "NULL"
                                },
                                {
                                    "Termékkód": "04080271T",
                                    "Megnevezés": "Mappa PVC villámzáras",
                                    "Leírás": "NULL"
                                },
                                {
                                    "Termékkód": "04080272T",
                                    "Megnevezés": "Mappa PVC villámzáras  képes",
                                    "Leírás": "NULL"
                                },
                                {
                                    "Termékkód": "04080442T",
                                    "Megnevezés": "Emlékkönyv",
                                    "Leírás": "NULL"
                                },
                                {
                                    "Termékkód": "04080443T",
                                    "Megnevezés": "Emlékkönyv lakatos",
                                    "Leírás": "NULL"
                                },
                                {
                                    "Termékkód": "04110066T",
                                    "Megnevezés": "Címke 8 db-os",
                                    "Leírás": "NULL"
                                },
                                {
                                    "Termékkód": "04110067T",
                                    "Megnevezés": "Címke WD. állat",
                                    "Leírás": "NULL"
                                },
                                {
                                    "Termékkód": "04110068T",
                                    "Megnevezés": "Címke egyszínű",
                                    "Leírás": "NULL"
                                },
                                {
                                    "Termékkód": "04110227T",
                                    "Megnevezés": "Képeslap  borítékos",
                                    "Leírás": "NULL"
                                },
                                {
                                    "Termékkód": "04110228T",
                                    "Megnevezés": "Képeslap \"Nászajándék\"",
                                    "Leírás": "NULL"
                                },
                                {
                                    "Termékkód": "04110229T",
                                    "Megnevezés": "Képeslap \"Részvét\"",
                                    "Leírás": "NULL"
                                },
                                {
                                    "Termékkód": "04110230T",
                                    "Megnevezés": "Képeslap humoros ",
                                    "Leírás": "NULL"
                                },
                                {
                                    "Termékkód": "04110231T",
                                    "Megnevezés": "Képeslap humoros borítékos",
                                    "Leírás": "NULL"
                                },
                                {
                                    "Termékkód": "04110232T",
                                    "Megnevezés": "Képeslap humoros kaparós",
                                    "Leírás": "NULL"
                                },
                                {
                                    "Termékkód": "04110233T",
                                    "Megnevezés": "Képeslap humoros",
                                    "Leírás": "NULL"
                                },
                                {
                                    "Termékkód": "04110258T",
                                    "Megnevezés": "Lampion",
                                    "Leírás": "NULL"
                                },
                                {
                                    "Termékkód": "04110273T",
                                    "Megnevezés": "Matrica állatos",
                                    "Leírás": "NULL"
                                },
                                {
                                    "Termékkód": "04110274T",
                                    "Megnevezés": "Matrica autóra H",
                                    "Leírás": "NULL"
                                },
                                {
                                    "Termékkód": "04110275T",
                                    "Megnevezés": "Matrica motoros kicsi",
                                    "Leírás": "NULL"
                                },
                                {
                                    "Termékkód": "04110276T",
                                    "Megnevezés": "Matrica Stickers nagy állatos",
                                    "Leírás": "NULL"
                                },
                                {
                                    "Termékkód": "04110277T",
                                    "Megnevezés": "Matrica Stickers szíves",
                                    "Leírás": "NULL"
                                },
                                {
                                    "Termékkód": "04110278T",
                                    "Megnevezés": "Matrica Test ékszer tattoo",
                                    "Leírás": "NULL"
                                },
                                {
                                    "Termékkód": "04110279T",
                                    "Megnevezés": "Matrica tetoválás",
                                    "Leírás": "NULL"
                                },
                                {
                                    "Termékkód": "04110280T",
                                    "Megnevezés": "Matrica tetoválós kicsi",
                                    "Leírás": "NULL"
                                },
                                {
                                    "Termékkód": "04110281T",
                                    "Megnevezés": "Matrica világítós ",
                                    "Leírás": "NULL"
                                },
                                {
                                    "Termékkód": "04110282T",
                                    "Megnevezés": "Matrica WD kicsi",
                                    "Leírás": "NULL"
                                },
                                {
                                    "Termékkód": "04110283T",
                                    "Megnevezés": "Meghívó állatos",
                                    "Leírás": "NULL"
                                },
                                {
                                    "Termékkód": "04110284T",
                                    "Megnevezés": "Meghívó borítékos",
                                    "Leírás": "NULL"
                                },
                                {
                                    "Termékkód": "04110362T",
                                    "Megnevezés": "Szalvéta gyűjtőknek",
                                    "Leírás": "NULL"
                                },
                                {
                                    "Termékkód": "05010026T",
                                    "Megnevezés": "Alufólia 10 m-es",
                                    "Leírás": "NULL"
                                },
                                {
                                    "Termékkód": "05010027T",
                                    "Megnevezés": "Alufólia 20 m-es",
                                    "Leírás": "NULL"
                                },
                                {
                                    "Termékkód": "05010306T",
                                    "Megnevezés": "Papízsebkendő,10db Szindy",
                                    "Leírás": "NULL"
                                },
                                {
                                    "Termékkód": "05010369T",
                                    "Megnevezés": "Szemetes zsák 60 literes",
                                    "Leírás": "NULL"
                                },
                                {
                                    "Termékkód": "05010370T",
                                    "Megnevezés": "Szilvia csomagoló",
                                    "Leírás": "NULL"
                                },
                                {
                                    "Termékkód": "05040310T",
                                    "Megnevezés": "Pill.ragasztó",
                                    "Leírás": "NULL"
                                },
                                {
                                    "Termékkód": "05040348T",
                                    "Megnevezés": "Rajzszeg színes",
                                    "Leírás": "NULL"
                                },
                                {
                                    "Termékkód": "05040349T",
                                    "Megnevezés": "Rajzszeg",
                                    "Leírás": "NULL"
                                },
                                {
                                    "Termékkód": "05050045T",
                                    "Megnevezés": "Celofán",
                                    "Leírás": "NULL"
                                },
                                {
                                    "Termékkód": "05050046T",
                                    "Megnevezés": "Celofán 50 db-os",
                                    "Leírás": "NULL"
                                },
                                {
                                    "Termékkód": "05050170T",
                                    "Megnevezés": "Gumigyűrű",
                                    "Leírás": "NULL"
                                },
                                {
                                    "Termékkód": "05050346T",
                                    "Megnevezés": "Rágógumi Orbit",
                                    "Leírás": "NULL"
                                },
                                {
                                    "Termékkód": "05050465T",
                                    "Megnevezés": "Tapétavágó kés",
                                    "Leírás": "NULL"
                                },
                                {
                                    "Termékkód": "05080340T",
                                    "Megnevezés": "Ragasztó, Technokol 35g kék",
                                    "Leírás": "NULL"
                                },
                                {
                                    "Termékkód": "05080341T",
                                    "Megnevezés": "Ragasztó, Technokol 35g piros",
                                    "Leírás": "NULL"
                                },
                                {
                                    "Termékkód": "05110359T",
                                    "Megnevezés": "Szalvéta ",
                                    "Leírás": "NULL"
                                },
                                {
                                    "Termékkód": "05110360T",
                                    "Megnevezés": "Szalvéta egyszínű",
                                    "Leírás": "NULL"
                                },
                                {
                                    "Termékkód": "05110361T",
                                    "Megnevezés": "Szalvéta Goma húsvéti",
                                    "Leírás": "NULL"
                                },
                                {
                                    "Termékkód": "05110363T",
                                    "Megnevezés": "Szalvéta dekor",
                                    "Leírás": "NULL"
                                },
                                {
                                    "Termékkód": "05110364T",
                                    "Megnevezés": "Szalvéta kicsi virágos",
                                    "Leírás": "NULL"
                                },
                                {
                                    "Termékkód": "06010036T",
                                    "Megnevezés": "Betűtartó sin",
                                    "Leírás": "NULL"
                                },
                                {
                                    "Termékkód": "06010082T",
                                    "Megnevezés": "Ecset Centrum 10,11,12",
                                    "Leírás": "NULL"
                                },
                                {
                                    "Termékkód": "06010083T",
                                    "Megnevezés": "Ecset Centrum 7,8,9",
                                    "Leírás": "NULL"
                                },
                                {
                                    "Termékkód": "06010084T",
                                    "Megnevezés": "Ecset Deák 2-es",
                                    "Leírás": "NULL"
                                },
                                {
                                    "Termékkód": "06010085T",
                                    "Megnevezés": "Ecset Lizzy 10-es",
                                    "Leírás": "NULL"
                                },
                                {
                                    "Termékkód": "06010086T",
                                    "Megnevezés": "Ecset Nebulo 4-es",
                                    "Leírás": "NULL"
                                },
                                {
                                    "Termékkód": "06010111T",
                                    "Megnevezés": "Füzet  A/4 ",
                                    "Leírás": "NULL"
                                },
                                {
                                    "Termékkód": "06010112T",
                                    "Megnevezés": "Füzet  A4 mintás",
                                    "Leírás": "NULL"
                                },
                                {
                                    "Termékkód": "06010113T",
                                    "Megnevezés": "Füzet 31-32 szótár",
                                    "Leírás": "NULL"
                                },
                                {
                                    "Termékkód": "06010114T",
                                    "Megnevezés": "Füzet A/5 hangjegy 36/16",
                                    "Leírás": "NULL"
                                },
                                {
                                    "Termékkód": "06010115T",
                                    "Megnevezés": "Füzet A/5, mintás",
                                    "Leírás": "NULL"
                                },
                                {
                                    "Termékkód": "06010201T",
                                    "Megnevezés": "Hőmérő, műa.",
                                    "Leírás": "NULL"
                                },
                                {
                                    "Termékkód": "06010202T",
                                    "Megnevezés": "Hurkapálca 10 db-os",
                                    "Leírás": "NULL"
                                },
                                {
                                    "Termékkód": "06010305T",
                                    "Megnevezés": "Papírcenti 100 cm-es",
                                    "Leírás": "NULL"
                                },
                                {
                                    "Termékkód": "06010343T",
                                    "Megnevezés": "Ragasztószalag 19 mm-es SCOTCH+ tépő",
                                    "Leírás": "NULL"
                                },
                                {
                                    "Termékkód": "06010365T",
                                    "Megnevezés": "Számegyenes",
                                    "Leírás": "NULL"
                                },
                                {
                                    "Termékkód": "06010366T",
                                    "Megnevezés": "Számológép Roxin",
                                    "Leírás": "NULL"
                                },
                                {
                                    "Termékkód": "06010367T",
                                    "Megnevezés": "Számolókorong",
                                    "Leírás": "NULL"
                                },
                                {
                                    "Termékkód": "06010368T",
                                    "Megnevezés": "Számolópálca",
                                    "Leírás": "NULL"
                                },
                                {
                                    "Termékkód": "06010373T",
                                    "Megnevezés": "Színes papír I.II-IV.V-VIII-ig",
                                    "Leírás": "NULL"
                                },
                                {
                                    "Termékkód": "06010374T",
                                    "Megnevezés": "Szorzótábla műanyag",
                                    "Leírás": "NULL"
                                },
                                {
                                    "Termékkód": "06010375T",
                                    "Megnevezés": "Szögmérő 180 fokos műa.",
                                    "Leírás": "NULL"
                                },
                                {
                                    "Termékkód": "06010376T",
                                    "Megnevezés": "Szögmérő papír",
                                    "Leírás": "NULL"
                                },
                                {
                                    "Termékkód": "06010377T",
                                    "Megnevezés": "Szögmérő színes",
                                    "Leírás": "NULL"
                                },
                                {
                                    "Termékkód": "06040087T",
                                    "Megnevezés": "Ecset Nebuló 10-es",
                                    "Leírás": "NULL"
                                },
                                {
                                    "Termékkód": "06040088T",
                                    "Megnevezés": "Egészségügyi könyv",
                                    "Leírás": "NULL"
                                },
                                {
                                    "Termékkód": "06040089T",
                                    "Megnevezés": "Ellenőrzőborító",
                                    "Leírás": "NULL"
                                },
                                {
                                    "Termékkód": "06040172T",
                                    "Megnevezés": "Gumis mappa csomagolt",
                                    "Leírás": "NULL"
                                },
                                {
                                    "Termékkód": "06040173T",
                                    "Megnevezés": "Gumis mappa fóliázott állatos",
                                    "Leírás": "NULL"
                                },
                                {
                                    "Termékkód": "06040174T",
                                    "Megnevezés": "Gumis mappa ",
                                    "Leírás": "NULL"
                                },
                                {
                                    "Termékkód": "06040175T",
                                    "Megnevezés": "Gumis mappa Köbüki",
                                    "Leírás": "NULL"
                                },
                                {
                                    "Termékkód": "06040179T",
                                    "Megnevezés": "Gyurma színes 200 g-os",
                                    "Leírás": "NULL"
                                },
                                {
                                    "Termékkód": "06040180T",
                                    "Megnevezés": "Gyurma színes natúr",
                                    "Leírás": "NULL"
                                },
                                {
                                    "Termékkód": "06040181T",
                                    "Megnevezés": "Gyűjtőlap A/4",
                                    "Leírás": "NULL"
                                },
                                {
                                    "Termékkód": "06040182T",
                                    "Megnevezés": "Gyűrűskönyv bet. A/4",
                                    "Leírás": "NULL"
                                },
                                {
                                    "Termékkód": "06040183T",
                                    "Megnevezés": "Gyűrűskönyv bet. A/5",
                                    "Leírás": "NULL"
                                },
                                {
                                    "Termékkód": "06040184T",
                                    "Megnevezés": "Gyűrűskönyv betét A/5",
                                    "Leírás": "NULL"
                                },
                                {
                                    "Termékkód": "06040185T",
                                    "Megnevezés": "Gyűrűskönyv",
                                    "Leírás": "NULL"
                                },
                                {
                                    "Termékkód": "06040186T",
                                    "Megnevezés": "Gyűrűskönyv színes",
                                    "Leírás": "NULL"
                                },
                                {
                                    "Termékkód": "06040205T",
                                    "Megnevezés": "Indigó Pelikán",
                                    "Leírás": "NULL"
                                },
                                {
                                    "Termékkód": "06040206T",
                                    "Megnevezés": "kék indigó",
                                    "Leírás": "NULL"
                                },
                                {
                                    "Termékkód": "06040212T",
                                    "Megnevezés": "Írólap 10-50 ffam.",
                                    "Leírás": "NULL"
                                },
                                {
                                    "Termékkód": "06040213T",
                                    "Megnevezés": "Írólap 20-50 ",
                                    "Leírás": "NULL"
                                },
                                {
                                    "Termékkód": "06040246T",
                                    "Megnevezés": "Körző",
                                    "Leírás": "NULL"
                                },
                                {
                                    "Termékkód": "06040247T",
                                    "Megnevezés": "Körzőhegy grafit",
                                    "Leírás": "NULL"
                                },
                                {
                                    "Termékkód": "06040248T",
                                    "Megnevezés": "Körző maped",
                                    "Leírás": "NULL"
                                },
                                {
                                    "Termékkód": "06040323T",
                                    "Megnevezés": "Post-it 51×38 100 lapos",
                                    "Leírás": "NULL"
                                },
                                {
                                    "Termékkód": "06040324T",
                                    "Megnevezés": "Post-it 75×75 100 lapos",
                                    "Leírás": "NULL"
                                },
                                {
                                    "Termékkód": "06040325T",
                                    "Megnevezés": "Radír gyümölcsös",
                                    "Leírás": "NULL"
                                },
                                {
                                    "Termékkód": "06040326T",
                                    "Megnevezés": "Radír KOH-I-NOR 80",
                                    "Leírás": "NULL"
                                },
                                {
                                    "Termékkód": "06040327T",
                                    "Megnevezés": "Radír Koh-i-nor 40",
                                    "Leírás": "NULL"
                                },
                                {
                                    "Termékkód": "06040328T",
                                    "Megnevezés": "Radír Maped",
                                    "Leírás": "NULL"
                                },
                                {
                                    "Termékkód": "06040329T",
                                    "Megnevezés": "Radír stabilo",
                                    "Leírás": "NULL"
                                },
                                {
                                    "Termékkód": "06040330T",
                                    "Megnevezés": "Radír Tikky 30 ",
                                    "Leírás": "NULL"
                                },
                                {
                                    "Termékkód": "06040331T",
                                    "Megnevezés": "Radír Tikky 40 ",
                                    "Leírás": "NULL"
                                },
                                {
                                    "Termékkód": "06040347T",
                                    "Megnevezés": "Rajzlap A/4 10db ffam.",
                                    "Leírás": "NULL"
                                },
                                {
                                    "Termékkód": "06040350T",
                                    "Megnevezés": "Regiszteres füzet A4",
                                    "Leírás": "NULL"
                                },
                                {
                                    "Termékkód": "06040351T",
                                    "Megnevezés": "Regiszteres füzet A5 Hightech",
                                    "Leírás": "NULL"
                                },
                                {
                                    "Termékkód": "06040352T",
                                    "Megnevezés": "Rovatolt papír 20 íves",
                                    "Leírás": "NULL"
                                },
                                {
                                    "Termékkód": "06040353T",
                                    "Megnevezés": "Sorvezető",
                                    "Leírás": "NULL"
                                },
                                {
                                    "Termékkód": "06040354T",
                                    "Megnevezés": "Sp.Füzet A/4  perforált, lyuk.",
                                    "Leírás": "NULL"
                                },
                                {
                                    "Termékkód": "06040355T",
                                    "Megnevezés": "Sp.Füzet A/4 70-as",
                                    "Leírás": "NULL"
                                },
                                {
                                    "Termékkód": "06040356T",
                                    "Megnevezés": "Sp.Füzet A/4  70es",
                                    "Leírás": "NULL"
                                },
                                {
                                    "Termékkód": "06040357T",
                                    "Megnevezés": "Sp.Füzet A/5 70-es",
                                    "Leírás": "NULL"
                                },
                                {
                                    "Termékkód": "06040378T",
                                    "Megnevezés": "Szövegkiemelő vékony",
                                    "Leírás": "NULL"
                                },
                                {
                                    "Termékkód": "06040379T",
                                    "Megnevezés": "Szövegkiemelő ",
                                    "Leírás": "NULL"
                                },
                                {
                                    "Termékkód": "06040380T",
                                    "Megnevezés": "Szövegkiemelő",
                                    "Leírás": "NULL"
                                },
                                {
                                    "Termékkód": "06040381T",
                                    "Megnevezés": "Szövegkiemelő Videotip",
                                    "Leírás": "NULL"
                                },
                                {
                                    "Termékkód": "06040382T",
                                    "Megnevezés": "Táblafilc",
                                    "Leírás": "NULL"
                                },
                                {
                                    "Termékkód": "06040383T",
                                    "Megnevezés": "Taffet papír",
                                    "Leírás": "NULL"
                                },
                                {
                                    "Termékkód": "06040384T",
                                    "Megnevezés": "Technika cs. I-II-III-IV",
                                    "Leírás": "NULL"
                                },
                                {
                                    "Termékkód": "06040385T",
                                    "Megnevezés": "Tempera szóló ezüst",
                                    "Leírás": "NULL"
                                },
                                {
                                    "Termékkód": "06040386T",
                                    "Megnevezés": "Tempera szóló színes",
                                    "Leírás": "NULL"
                                },
                                {
                                    "Termékkód": "06040392T",
                                    "Megnevezés": "Tolltartó 1 zipzáros",
                                    "Leírás": "NULL"
                                },
                                {
                                    "Termékkód": "06040393T",
                                    "Megnevezés": "Tolltartó 2 részes NG.",
                                    "Leírás": "NULL"
                                },
                                {
                                    "Termékkód": "06040394T",
                                    "Megnevezés": "Tolltartó zipzáras",
                                    "Leírás": "NULL"
                                },
                                {
                                    "Termékkód": "06040395T",
                                    "Megnevezés": "Tolltartó 2 zipzáros töltött",
                                    "Leírás": "NULL"
                                },
                                {
                                    "Termékkód": "06040396T",
                                    "Megnevezés": "Tolltartó Garfield",
                                    "Leírás": "NULL"
                                },
                                {
                                    "Termékkód": "06040397T",
                                    "Megnevezés": "Tolltartó asztali",
                                    "Leírás": "NULL"
                                },
                                {
                                    "Termékkód": "06040398T",
                                    "Megnevezés": "Tolltartó hengeres ",
                                    "Leírás": "NULL"
                                },
                                {
                                    "Termékkód": "06040399T",
                                    "Megnevezés": "Tombola tömb",
                                    "Leírás": "NULL"
                                },
                                {
                                    "Termékkód": "06040400T",
                                    "Megnevezés": "Tornazsák",
                                    "Leírás": "NULL"
                                },
                                {
                                    "Termékkód": "06040446T",
                                    "Megnevezés": "Számológép tudományos",
                                    "Leírás": "NULL"
                                },
                                {
                                    "Termékkód": "06050249T",
                                    "Megnevezés": "Krepp papír",
                                    "Leírás": "NULL"
                                },
                                {
                                    "Termékkód": "06050301T",
                                    "Megnevezés": "Olló gyerek ",
                                    "Leírás": "NULL"
                                },
                                {
                                    "Termékkód": "06050302T",
                                    "Megnevezés": "Olló Tagit 18 cm-es",
                                    "Leírás": "NULL"
                                },
                                {
                                    "Termékkód": "06050303T",
                                    "Megnevezés": "Olló, iskolai",
                                    "Leírás": "NULL"
                                },
                                {
                                    "Termékkód": "06080116T",
                                    "Megnevezés": "Füzet A5 1-8 osz.-ig",
                                    "Leírás": "NULL"
                                },
                                {
                                    "Termékkód": "06080117T",
                                    "Megnevezés": "Füzetborító A/4 átlátszó",
                                    "Leírás": "NULL"
                                },
                                {
                                    "Termékkód": "06080118T",
                                    "Megnevezés": "Füzetborító átlátszó A5",
                                    "Leírás": "NULL"
                                },
                                {
                                    "Termékkód": "06080119T",
                                    "Megnevezés": "Füzetborító mesefig.",
                                    "Leírás": "NULL"
                                },
                                {
                                    "Termékkód": "06080120T",
                                    "Megnevezés": "Füzetborító öntapadó kicsi",
                                    "Leírás": "NULL"
                                },
                                {
                                    "Termékkód": "06080121T",
                                    "Megnevezés": "Füzetborító öntapadó tekercses",
                                    "Leírás": "NULL"
                                },
                                {
                                    "Termékkód": "06080122T",
                                    "Megnevezés": "Füzetborító öntapadós nagy",
                                    "Leírás": "NULL"
                                },
                                {
                                    "Termékkód": "06080123T",
                                    "Megnevezés": "Füzettartó A/4 keménytáblás",
                                    "Leírás": "NULL"
                                },
                                {
                                    "Termékkód": "06080124T",
                                    "Megnevezés": "Füzettartó A/4 keménytáblás",
                                    "Leírás": "NULL"
                                },
                                {
                                    "Termékkód": "06080125T",
                                    "Megnevezés": "Füzettartó A/5 vastag",
                                    "Leírás": "NULL"
                                },
                                {
                                    "Termékkód": "06080126T",
                                    "Megnevezés": "Füzettartó A/5  ",
                                    "Leírás": "NULL"
                                },
                                {
                                    "Termékkód": "06080188T",
                                    "Megnevezés": "Hegyező gép",
                                    "Leírás": "NULL"
                                },
                                {
                                    "Termékkód": "06080189T",
                                    "Megnevezés": "Hegyező műanyag dupla",
                                    "Leírás": "NULL"
                                },
                                {
                                    "Termékkód": "06080190T",
                                    "Megnevezés": "Hegyező műanyag egyes",
                                    "Leírás": "NULL"
                                },
                                {
                                    "Termékkód": "06080191T",
                                    "Megnevezés": "Hegyező tartályos egyes",
                                    "Leírás": "NULL"
                                },
                                {
                                    "Termékkód": "06080192T",
                                    "Megnevezés": "Hegyző fém 1 lyukú",
                                    "Leírás": "NULL"
                                },
                                {
                                    "Termékkód": "06080193T",
                                    "Megnevezés": "Hegyző fém 2 lyukú",
                                    "Leírás": "NULL"
                                },
                                {
                                    "Termékkód": "06080259T",
                                    "Megnevezés": "Leckefüzet",
                                    "Leírás": "NULL"
                                },
                                {
                                    "Termékkód": "06080332T",
                                    "Megnevezés": "Radírtoll betét ER100",
                                    "Leírás": "NULL"
                                },
                                {
                                    "Termékkód": "06080333T",
                                    "Megnevezés": "Radírtoll betét vastag",
                                    "Leírás": "NULL"
                                },
                                {
                                    "Termékkód": "06080334T",
                                    "Megnevezés": "Ragasztó szalag KORES ",
                                    "Leírás": "NULL"
                                },
                                {
                                    "Termékkód": "06080335T",
                                    "Megnevezés": "Ragasztó 9 g Pax",
                                    "Leírás": "NULL"
                                },
                                {
                                    "Termékkód": "06080336T",
                                    "Megnevezés": "Ragasztó 8 g Pritt",
                                    "Leírás": "NULL"
                                },
                                {
                                    "Termékkód": "06080337T",
                                    "Megnevezés": "Ragasztó Gyurma",
                                    "Leírás": "NULL"
                                },
                                {
                                    "Termékkód": "06080338T",
                                    "Megnevezés": "Ragasztó kenőfejes Nebuló",
                                    "Leírás": "NULL"
                                },
                                {
                                    "Termékkód": "06080339T",
                                    "Megnevezés": "Ragasztó kores",
                                    "Leírás": "NULL"
                                },
                                {
                                    "Termékkód": "06080407T",
                                    "Megnevezés": "Vízfesték  12 színű nagy",
                                    "Leírás": "NULL"
                                },
                                {
                                    "Termékkód": "06080408T",
                                    "Megnevezés": "Vízfesték 12 db-os ",
                                    "Leírás": "NULL"
                                },
                                {
                                    "Termékkód": "06080409T",
                                    "Megnevezés": "Vízfesték 12 színű kerek",
                                    "Leírás": "NULL"
                                },
                                {
                                    "Termékkód": "06080410T",
                                    "Megnevezés": "Vízfesték 12db-os kínai",
                                    "Leírás": "NULL"
                                },
                                {
                                    "Termékkód": "06080411T",
                                    "Megnevezés": "Vonalzó 15 cm-es ESSELTE",
                                    "Leírás": "NULL"
                                },
                                {
                                    "Termékkód": "06080412T",
                                    "Megnevezés": "Vonalzó 16 cm-es LIZZY",
                                    "Leírás": "NULL"
                                },
                                {
                                    "Termékkód": "06080413T",
                                    "Megnevezés": "Vonalzó 30 cm",
                                    "Leírás": "NULL"
                                },
                                {
                                    "Termékkód": "06080414T",
                                    "Megnevezés": "Vonalzó 20 cm-es ",
                                    "Leírás": "NULL"
                                },
                                {
                                    "Termékkód": "06080415T",
                                    "Megnevezés": "Vonalzó 45 fokos",
                                    "Leírás": "NULL"
                                },
                                {
                                    "Termékkód": "06080416T",
                                    "Megnevezés": "Vonalzó 60 fokos",
                                    "Leírás": "NULL"
                                },
                                {
                                    "Termékkód": "06080417T",
                                    "Megnevezés": "Zászló papír",
                                    "Leírás": "NULL"
                                },
                                {
                                    "Termékkód": "06080422T",
                                    "Megnevezés": "Füzettartó A/4",
                                    "Leírás": "NULL"
                                },
                                {
                                    "Termékkód": "06080423T",
                                    "Megnevezés": "Beíró A/5 kockás",
                                    "Leírás": "NULL"
                                },
                                {
                                    "Termékkód": "06080424T",
                                    "Megnevezés": "Füzetborító A/4 mintás",
                                    "Leírás": "NULL"
                                },
                                {
                                    "Termékkód": "06080425T",
                                    "Megnevezés": "Miliméterpapír",
                                    "Leírás": "NULL"
                                },
                                {
                                    "Termékkód": "06080426T",
                                    "Megnevezés": "Szótárfüzet Lizzy",
                                    "Leírás": "NULL"
                                },
                                {
                                    "Termékkód": "06080427T",
                                    "Megnevezés": "Ablakkréta",
                                    "Leírás": "NULL"
                                },
                                {
                                    "Termékkód": "06080428T",
                                    "Megnevezés": "Ecsetkészlet",
                                    "Leírás": "NULL"
                                },
                                {
                                    "Termékkód": "06080429T",
                                    "Megnevezés": "Meghívó ballagási",
                                    "Leírás": "NULL"
                                },
                                {
                                    "Termékkód": "06080430T",
                                    "Megnevezés": "Öntapadős betűk",
                                    "Leírás": "NULL"
                                },
                                {
                                    "Termékkód": "06080440T",
                                    "Megnevezés": "Gyurma 12 szinű",
                                    "Leírás": "NULL"
                                },
                                {
                                    "Termékkód": "06080441T",
                                    "Megnevezés": "Gyurmakés",
                                    "Leírás": "NULL"
                                },
                                {
                                    "Termékkód": "07010136T",
                                    "Megnevezés": "G.toll betét PAX",
                                    "Leírás": "NULL"
                                },
                                {
                                    "Termékkód": "07010137T",
                                    "Megnevezés": "G.toll betét PAX tip.",
                                    "Leírás": "NULL"
                                },
                                {
                                    "Termékkód": "07010138T",
                                    "Megnevezés": "G.toll betét jumbo",
                                    "Leírás": "NULL"
                                },
                                {
                                    "Termékkód": "07010139T",
                                    "Megnevezés": "G.toll betét S7L ",
                                    "Leírás": "NULL"
                                },
                                {
                                    "Termékkód": "07010140T",
                                    "Megnevezés": "G.toll betét Stabilo",
                                    "Leírás": "NULL"
                                },
                                {
                                    "Termékkód": "07010141T",
                                    "Megnevezés": "G.toll betét X20",
                                    "Leírás": "NULL"
                                },
                                {
                                    "Termékkód": "07010142T",
                                    "Megnevezés": "G.toll betét Zebra F-0.7",
                                    "Leírás": "NULL"
                                },
                                {
                                    "Termékkód": "07010143T",
                                    "Megnevezés": "G.toll betét Zebra H-0,7",
                                    "Leírás": "NULL"
                                },
                                {
                                    "Termékkód": "07010144T",
                                    "Megnevezés": "G.toll betét Zebra K-0,7",
                                    "Leírás": "NULL"
                                },
                                {
                                    "Termékkód": "07010244T",
                                    "Megnevezés": "Kerámiatoll",
                                    "Leírás": "NULL"
                                },
                                {
                                    "Termékkód": "07010371T",
                                    "Megnevezés": "Színes ceruza 6-os",
                                    "Leírás": "NULL"
                                },
                                {
                                    "Termékkód": "07010372T",
                                    "Megnevezés": "Színes ceruza 12 szín",
                                    "Leírás": "NULL"
                                },
                                {
                                    "Termékkód": "07030103T",
                                    "Megnevezés": "Filctoll TINTEN PEN",
                                    "Leírás": "NULL"
                                },
                                {
                                    "Termékkód": "07030104T",
                                    "Megnevezés": "Filctoll vastag ARTIP",
                                    "Leírás": "NULL"
                                },
                                {
                                    "Termékkód": "07030105T",
                                    "Megnevezés": "Filctoll, alkoholos Centropen",
                                    "Leírás": "NULL"
                                },
                                {
                                    "Termékkód": "07030106T",
                                    "Megnevezés": "Filctoll, alkoholosOHP F-M-C",
                                    "Leírás": "NULL"
                                },
                                {
                                    "Termékkód": "07030107T",
                                    "Megnevezés": "Filctoll, textil Edding 4500",
                                    "Leírás": "NULL"
                                },
                                {
                                    "Termékkód": "07030108T",
                                    "Megnevezés": "Filctoll CD író",
                                    "Leírás": "NULL"
                                },
                                {
                                    "Termékkód": "07040047T",
                                    "Megnevezés": "Ceruza 2H-4B",
                                    "Leírás": "NULL"
                                },
                                {
                                    "Termékkód": "07040048T",
                                    "Megnevezés": "Ceruza arany, ezüst",
                                    "Leírás": "NULL"
                                },
                                {
                                    "Termékkód": "07040049T",
                                    "Megnevezés": "Ceruza Conté zöld",
                                    "Leírás": "NULL"
                                },
                                {
                                    "Termékkód": "07040050T",
                                    "Megnevezés": "Ceruza Cseh",
                                    "Leírás": "NULL"
                                },
                                {
                                    "Termékkód": "07040051T",
                                    "Megnevezés": "Ceruza háromszög ",
                                    "Leírás": "NULL"
                                },
                                {
                                    "Termékkód": "07040052T",
                                    "Megnevezés": "Ceruza 2H-3B Koh-i-nor",
                                    "Leírás": "NULL"
                                },
                                {
                                    "Termékkód": "07040053T",
                                    "Megnevezés": "Ceruza HB radiros",
                                    "Leírás": "NULL"
                                },
                                {
                                    "Termékkód": "07040054T",
                                    "Megnevezés": "Ceruza kártyás",
                                    "Leírás": "NULL"
                                },
                                {
                                    "Termékkód": "07040055T",
                                    "Megnevezés": "Ceruza piros-kék",
                                    "Leírás": "NULL"
                                },
                                {
                                    "Termékkód": "07040056T",
                                    "Megnevezés": "Ceruza piros-kék vékony",
                                    "Leírás": "NULL"
                                },
                                {
                                    "Termékkód": "07040057T",
                                    "Megnevezés": "Ceruza Progresso",
                                    "Leírás": "NULL"
                                },
                                {
                                    "Termékkód": "07040058T",
                                    "Megnevezés": "Ceruza radíros kínai",
                                    "Leírás": "NULL"
                                },
                                {
                                    "Termékkód": "07040059T",
                                    "Megnevezés": "Ceruza smaragd",
                                    "Leírás": "NULL"
                                },
                                {
                                    "Termékkód": "07040060T",
                                    "Megnevezés": "Ceruza stabilo swano",
                                    "Leírás": "NULL"
                                },
                                {
                                    "Termékkód": "07040061T",
                                    "Megnevezés": "Ceruza stabilo opera",
                                    "Leírás": "NULL"
                                },
                                {
                                    "Termékkód": "07040097T",
                                    "Megnevezés": "Filctoll ",
                                    "Leírás": "NULL"
                                },
                                {
                                    "Termékkód": "07040098T",
                                    "Megnevezés": "Filctoll document pen",
                                    "Leírás": "NULL"
                                },
                                {
                                    "Termékkód": "07040099T",
                                    "Megnevezés": "Filctoll Edding 750",
                                    "Leírás": "NULL"
                                },
                                {
                                    "Termékkód": "07040100T",
                                    "Megnevezés": "Filctoll Marvy alkoholos",
                                    "Leírás": "NULL"
                                },
                                {
                                    "Termékkód": "07040101T",
                                    "Megnevezés": "Filctoll permanent vastag",
                                    "Leírás": "NULL"
                                },
                                {
                                    "Termékkód": "07040102T",
                                    "Megnevezés": "Filctoll supra fine",
                                    "Leírás": "NULL"
                                },
                                {
                                    "Termékkód": "07040127T",
                                    "Megnevezés": "G. toll betét mini",
                                    "Leírás": "NULL"
                                },
                                {
                                    "Termékkód": "07040128T",
                                    "Megnevezés": "G. toll betét mini fém",
                                    "Leírás": "NULL"
                                },
                                {
                                    "Termékkód": "07040129T",
                                    "Megnevezés": "G. toll betét réz",
                                    "Leírás": "NULL"
                                },
                                {
                                    "Termékkód": "07040130T",
                                    "Megnevezés": "G. toll betét S7S",
                                    "Leírás": "NULL"
                                },
                                {
                                    "Termékkód": "07040131T",
                                    "Megnevezés": "G. toll betét UNI lachnok Fine SA-7C",
                                    "Leírás": "NULL"
                                },
                                {
                                    "Termékkód": "07040132T",
                                    "Megnevezés": "G.toll betét csavaros",
                                    "Leírás": "NULL"
                                },
                                {
                                    "Termékkód": "07040133T",
                                    "Megnevezés": "G.toll betét görbe hegyű",
                                    "Leírás": "NULL"
                                },
                                {
                                    "Termékkód": "07040134T",
                                    "Megnevezés": "G.toll betét illatos",
                                    "Leírás": "NULL"
                                },
                                {
                                    "Termékkód": "07040135T",
                                    "Megnevezés": "G.toll betét Parker ",
                                    "Leírás": "NULL"
                                },
                                {
                                    "Termékkód": "07040165T",
                                    "Megnevezés": "Golyóstoll UNI laknock",
                                    "Leírás": "NULL"
                                },
                                {
                                    "Termékkód": "07040166T",
                                    "Megnevezés": "Golyóstoll Zebra 301",
                                    "Leírás": "NULL"
                                },
                                {
                                    "Termékkód": "07040167T",
                                    "Megnevezés": "Golyóstoll Zebra mini",
                                    "Leírás": "NULL"
                                },
                                {
                                    "Termékkód": "07040168T",
                                    "Megnevezés": "Golyóstoll Zebra new hard",
                                    "Leírás": "NULL"
                                },
                                {
                                    "Termékkód": "07040169T",
                                    "Megnevezés": "Golyóstoll Zodiák",
                                    "Leírás": "NULL"
                                },
                                {
                                    "Termékkód": "07040215T",
                                    "Megnevezés": "Ironbél  2B ICO",
                                    "Leírás": "NULL"
                                },
                                {
                                    "Termékkód": "07040216T",
                                    "Megnevezés": "Ironbél B 0,5",
                                    "Leírás": "NULL"
                                },
                                {
                                    "Termékkód": "07040217T",
                                    "Megnevezés": "Ironbél H 0,5",
                                    "Leírás": "NULL"
                                },
                                {
                                    "Termékkód": "07040218T",
                                    "Megnevezés": "Ironbél HB 0,5",
                                    "Leírás": "NULL"
                                },
                                {
                                    "Termékkód": "07040219T",
                                    "Megnevezés": "Ironbél HI-POLIMER HB 0,7",
                                    "Leírás": "NULL"
                                },
                                {
                                    "Termékkód": "07040257T",
                                    "Megnevezés": "Lakk filc Edding 750",
                                    "Leírás": "NULL"
                                },
                                {
                                    "Termékkód": "07040388T",
                                    "Megnevezés": "Tintapatron /kék/",
                                    "Leírás": "NULL"
                                },
                                {
                                    "Termékkód": "07040389T",
                                    "Megnevezés": "Tintapatron 30 db-os kék",
                                    "Leírás": "NULL"
                                },
                                {
                                    "Termékkód": "07040390T",
                                    "Megnevezés": "Tintapatron színes",
                                    "Leírás": "NULL"
                                },
                                {
                                    "Termékkód": "07040391T",
                                    "Megnevezés": "Toll Centropen roller",
                                    "Leírás": "NULL"
                                },
                                {
                                    "Termékkód": "07050462T",
                                    "Megnevezés": "Töltőtoll tinta ",
                                    "Leírás": "NULL"
                                },
                                {
                                    "Termékkód": "07050463T",
                                    "Megnevezés": "Ceruzafogó",
                                    "Leírás": "NULL"
                                },
                                {
                                    "Termékkód": "07050464T",
                                    "Megnevezés": "Szövegkiemelő Staedtler",
                                    "Leírás": "NULL"
                                },
                                {
                                    "Termékkód": "07080062T",
                                    "Megnevezés": "Ceruza szén",
                                    "Leírás": "NULL"
                                },
                                {
                                    "Termékkód": "07080063T",
                                    "Megnevezés": "Ceruza szorzótáblás",
                                    "Leírás": "NULL"
                                },
                                {
                                    "Termékkód": "07080064T",
                                    "Megnevezés": "Ceruza zöld színű",
                                    "Leírás": "NULL"
                                },
                                {
                                    "Termékkód": "07080065T",
                                    "Megnevezés": "Ceruza kínai",
                                    "Leírás": "NULL"
                                },
                                {
                                    "Termékkód": "07080150T",
                                    "Megnevezés": "Golyóstoll",
                                    "Leírás": "NULL"
                                },
                                {
                                    "Termékkód": "07080151T",
                                    "Megnevezés": "Golyóstoll + ceruza Twister 2in1",
                                    "Leírás": "NULL"
                                },
                                {
                                    "Termékkód": "07080152T",
                                    "Megnevezés": "Golyóstoll 3 funkciós ",
                                    "Leírás": "NULL"
                                },
                                {
                                    "Termékkód": "07080153T",
                                    "Megnevezés": "Golyóstoll illatos ICO",
                                    "Leírás": "NULL"
                                },
                                {
                                    "Termékkód": "07080154T",
                                    "Megnevezés": "Golyóstoll INOXCROM",
                                    "Leírás": "NULL"
                                },
                                {
                                    "Termékkód": "07080155T",
                                    "Megnevezés": "Golyóstoll",
                                    "Leírás": "NULL"
                                },
                                {
                                    "Termékkód": "07080156T",
                                    "Megnevezés": "Golyóstoll kupakos piros",
                                    "Leírás": "NULL"
                                },
                                {
                                    "Termékkód": "07080157T",
                                    "Megnevezés": "Golyóstoll Montex Hytone",
                                    "Leírás": "NULL"
                                },
                                {
                                    "Termékkód": "07080158T",
                                    "Megnevezés": "Golyóstoll Parker tokban",
                                    "Leírás": "NULL"
                                },
                                {
                                    "Termékkód": "07080159T",
                                    "Megnevezés": "Golyóstoll Pax tip.",
                                    "Leírás": "NULL"
                                },
                                {
                                    "Termékkód": "07080160T",
                                    "Megnevezés": "Golyóstoll penac",
                                    "Leírás": "NULL"
                                },
                                {
                                    "Termékkód": "07080161T",
                                    "Megnevezés": "Golyóstoll kétszínű",
                                    "Leírás": "NULL"
                                },
                                {
                                    "Termékkód": "07080162T",
                                    "Megnevezés": "Golyóstoll Stabilo piros",
                                    "Leírás": "NULL"
                                },
                                {
                                    "Termékkód": "07080163T",
                                    "Megnevezés": "Golyóstoll UNI átlátszó",
                                    "Leírás": "NULL"
                                },
                                {
                                    "Termékkód": "07080164T",
                                    "Megnevezés": "Golyóstoll UNI gumis",
                                    "Leírás": "NULL"
                                },
                                {
                                    "Termékkód": "07080311T",
                                    "Megnevezés": "Pixiron  UNI",
                                    "Leírás": "NULL"
                                },
                                {
                                    "Termékkód": "07080312T",
                                    "Megnevezés": "Pixiron 0,7 Handy",
                                    "Leírás": "NULL"
                                },
                                {
                                    "Termékkód": "07080313T",
                                    "Megnevezés": "Pixiron Centrum",
                                    "Leírás": "NULL"
                                },
                                {
                                    "Termékkód": "07080314T",
                                    "Megnevezés": "Pixiron Handy fém",
                                    "Leírás": "NULL"
                                },
                                {
                                    "Termékkód": "07080315T",
                                    "Megnevezés": "Pixiron Handy műanyag",
                                    "Leírás": "NULL"
                                },
                                {
                                    "Termékkód": "07080316T",
                                    "Megnevezés": "Pixiron KOH-I-NOOR",
                                    "Leírás": "NULL"
                                },
                                {
                                    "Termékkód": "07080317T",
                                    "Megnevezés": "Pixiron mini ",
                                    "Leírás": "NULL"
                                },
                                {
                                    "Termékkód": "07080318T",
                                    "Megnevezés": "Pixiron Penac",
                                    "Leírás": "NULL"
                                },
                                {
                                    "Termékkód": "07080319T",
                                    "Megnevezés": "Pixiron Pentel színes",
                                    "Leírás": "NULL"
                                },
                                {
                                    "Termékkód": "07080418T",
                                    "Megnevezés": "Zselés toll ",
                                    "Leírás": "NULL"
                                },
                                {
                                    "Termékkód": "07080419T",
                                    "Megnevezés": "Zselés toll MICRO",
                                    "Leírás": "NULL"
                                },
                                {
                                    "Termékkód": "07080420T",
                                    "Megnevezés": "Zselés toll Muhnwa",
                                    "Leírás": "NULL"
                                },
                                {
                                    "Termékkód": "07080421T",
                                    "Megnevezés": "Zseléstoll Lizzy Card",
                                    "Leírás": "NULL"
                                },
                                {
                                    "Termékkód": "07080466T",
                                    "Megnevezés": "Golyóstoll Stabiló 308",
                                    "Leírás": "NULL"
                                },
                                {
                                    "Termékkód": "07080467T",
                                    "Megnevezés": "Golyóstoll kétfunkciós ICO",
                                    "Leírás": "NULL"
                                },
                                {
                                    "Termékkód": "07080468T",
                                    "Megnevezés": "Golyóstoll háromfunkciós",
                                    "Leírás": "NULL"
                                },
                                {
                                    "Termékkód": "07080469T",
                                    "Megnevezés": "Golyóstoll UNIBALL 07",
                                    "Leírás": "NULL"
                                },
                                {
                                    "Termékkód": "07080470T",
                                    "Megnevezés": "Golyóstoll háromszög",
                                    "Leírás": "NULL"
                                },
                                {
                                    "Termékkód": "07080471T",
                                    "Megnevezés": "Golyóstoll levélbontós",
                                    "Leírás": "NULL"
                                },
                                {
                                    "Termékkód": "08070472T",
                                    "Megnevezés": "A föld amelyen élünk - Európa földrajza",
                                    "Leírás": "NULL"
                                },
                                {
                                    "Termékkód": "08070473T",
                                    "Megnevezés": "A föld amelyen élünk - Távoli földrészek",
                                    "Leírás": "NULL"
                                },
                                {
                                    "Termékkód": "08070474T",
                                    "Megnevezés": "A föld amelyen élünk - Hazánk földrajza",
                                    "Leírás": "NULL"
                                },
                                {
                                    "Termékkód": "08070475T",
                                    "Megnevezés": "A föld amelyen élünk - munkafüzet",
                                    "Leírás": "NULL"
                                },
                                {
                                    "Termékkód": "08070476T",
                                    "Megnevezés": "Anyanyelvi gyakorló 2",
                                    "Leírás": "NULL"
                                },
                                {
                                    "Termékkód": "08070477T",
                                    "Megnevezés": "Anyanyelvi gyakorló 3",
                                    "Leírás": "NULL"
                                },
                                {
                                    "Termékkód": "08070478T",
                                    "Megnevezés": "Összefoglaló feladatgyüjtemény számtech.",
                                    "Leírás": "NULL"
                                },
                                {
                                    "Termékkód": "08070479T",
                                    "Megnevezés": "Fizika",
                                    "Leírás": "NULL"
                                },
                                {
                                    "Termékkód": "08070480T",
                                    "Megnevezés": "Fizika 13 éveseknek",
                                    "Leírás": "NULL"
                                },
                                {
                                    "Termékkód": "08070481T",
                                    "Megnevezés": "Fizika munkafüzet 13 év.",
                                    "Leírás": "NULL"
                                },
                                {
                                    "Termékkód": "08070482T",
                                    "Megnevezés": "Fizika munkafüzet 14 év.",
                                    "Leírás": "NULL"
                                },
                                {
                                    "Termékkód": "08070483T",
                                    "Megnevezés": "Fizikai feladatok és tévedések",
                                    "Leírás": "NULL"
                                },
                                {
                                    "Termékkód": "08070484T",
                                    "Megnevezés": "Fogalmazás lépésről lépésre",
                                    "Leírás": "NULL"
                                },
                                {
                                    "Termékkód": "08070485T",
                                    "Megnevezés": "Jól felkészültem-e - Fizika",
                                    "Leírás": "NULL"
                                },
                                {
                                    "Termékkód": "08070486T",
                                    "Megnevezés": "Matematika gyakorló 2",
                                    "Leírás": "NULL"
                                },
                                {
                                    "Termékkód": "08070487T",
                                    "Megnevezés": "Matematika gyakorló 3",
                                    "Leírás": "NULL"
                                },
                                {
                                    "Termékkód": "08070488T",
                                    "Megnevezés": "Matematika gyakorló 4",
                                    "Leírás": "NULL"
                                },
                                {
                                    "Termékkód": "08070489T",
                                    "Megnevezés": "RAMba zárt világ",
                                    "Leírás": "NULL"
                                },
                                {
                                    "Termékkód": "08070490T",
                                    "Megnevezés": "Szövegszerkesztés",
                                    "Leírás": "NULL"
                                },
                                {
                                    "Termékkód": "08070491T",
                                    "Megnevezés": "Szám.tech. kicsiknek",
                                    "Leírás": "NULL"
                                },
                                {
                                    "Termékkód": "08070492T",
                                    "Megnevezés": "Informatika",
                                    "Leírás": "NULL"
                                },
                                {
                                    "Termékkód": "08070493T",
                                    "Megnevezés": "Érettségi felv. fel. Matematika",
                                    "Leírás": "NULL"
                                },
                                {
                                    "Termékkód": "08070494T",
                                    "Megnevezés": "Érettségi felv. fel. Fizika",
                                    "Leírás": "NULL"
                                },
                                {
                                    "Termékkód": "08070495T",
                                    "Megnevezés": "Érettségi felv. fel. Biológia",
                                    "Leírás": "NULL"
                                },
                                {
                                    "Termékkód": "G001-KB101",
                                    "Megnevezés": "gyermek kabát (fiú)",
                                    "Leírás": "NULL"
                                },
                                {
                                    "Termékkód": "G041-AL211",
                                    "Megnevezés": "fiú ünneplős ruha",
                                    "Leírás": "NULL"
                                },
                                {
                                    "Termékkód": "G064-CI401",
                                    "Megnevezés": "gyermek szandál (fiú)",
                                    "Leírás": "NULL"
                                },
                                {
                                    "Termékkód": "G073-CI410",
                                    "Megnevezés": "gyermek cipő (fiú)",
                                    "Leírás": "NULL"
                                },
                                {
                                    "Termékkód": "G082-CI419",
                                    "Megnevezés": "gyermek csizma (fiú)",
                                    "Leírás": "NULL"
                                },
                                {
                                    "Termékkód": "L041-AL211",
                                    "Megnevezés": "lány ünneplős ruha",
                                    "Leírás": "NULL"
                                },
                                {
                                    "Termékkód": "L064-CI401",
                                    "Megnevezés": "gyermek szandál (lány)",
                                    "Leírás": "NULL"
                                },
                                {
                                    "Termékkód": "L073-CI410",
                                    "Megnevezés": "gyermek cipő (lány)",
                                    "Leírás": "NULL"
                                },
                                {
                                    "Termékkód": "L082-CI419",
                                    "Megnevezés": "gyermek csizma (lány)",
                                    "Leírás": "NULL"
                                }
                            ]
                        },
                        "text/html": [
                            "<table>",
                            "<tr><th>Termékkód</th><th>Megnevezés</th><th>Leírás</th></tr>",
                            "<tr><td>01010001T</td><td>félfamentes rajzlap A4 (10 lap)</td><td>NULL</td></tr>",
                            "<tr><td>01010110T</td><td>Fotópapír A/4 fényes</td><td>NULL</td></tr>",
                            "<tr><td>01010304T</td><td>Öntapadós hologramos papír A/4</td><td>NULL</td></tr>",
                            "<tr><td>01020299T</td><td>Oklevél A/4 egyszínű</td><td>NULL</td></tr>",
                            "<tr><td>01020300T</td><td>Oklevél A/4 színes</td><td>NULL</td></tr>",
                            "<tr><td>01030091T</td><td>Emléklap A/5</td><td>NULL</td></tr>",
                            "<tr><td>01030092T</td><td>Esküvői meghívó</td><td>NULL</td></tr>",
                            "<tr><td>01040307T</td><td>Pausz papír A/4</td><td>NULL</td></tr>",
                            "<tr><td>01040502T</td><td>Előlap spirálhoz</td><td>NULL</td></tr>",
                            "<tr><td>01080093T</td><td>Fax papír 15 m</td><td>NULL</td></tr>",
                            "<tr><td>01080512T</td><td>Öntapadó A/4</td><td>NULL</td></tr>",
                            "<tr><td>01080513T</td><td>Selyemfényű karton A/4</td><td>NULL</td></tr>",
                            "<tr><td>01090498T</td><td>Műnyomó 300g 17,5*20</td><td>NULL</td></tr>",
                            "<tr><td>01090499T</td><td>Color Copy A/4 250 g</td><td>NULL</td></tr>",
                            "<tr><td>01090500T</td><td>Color Copy A4 200 g</td><td>NULL</td></tr>",
                            "<tr><td>01090501T</td><td>Kreatív A/4 300g </td><td>NULL</td></tr>",
                            "<tr><td>01090515T</td><td>Színes A/3 160 gr IQ</td><td>NULL</td></tr>",
                            "<tr><td>01090516T</td><td>Színes karton A4</td><td>NULL</td></tr>",
                            "<tr><td>01090517T</td><td>Színes ofszet B/4</td><td>NULL</td></tr>",
                            "<tr><td>01100070T</td><td>Dekorációs karton</td><td>NULL</td></tr>",
                            "<tr><td>01100071T</td><td>Dekorációs karton arany, ezüst</td><td>NULL</td></tr>",
                            "<tr><td>01100072T</td><td>Dipa A/4 keretezett</td><td>NULL</td></tr>",
                            "<tr><td>01100094T</td><td>Fénymásoló papír DataCopy</td><td>NULL</td></tr>",
                            "<tr><td>01100095T</td><td>Fénymásoló papír GetCopy</td><td>NULL</td></tr>",
                            "<tr><td>01100096T</td><td>Fénymásoló papír Qconnect</td><td>NULL</td></tr>",
                            "<tr><td>01100496T</td><td>Színes másoló a/4 80g</td><td>NULL</td></tr>",
                            "<tr><td>01100497T</td><td>Color Copy 160 g-os </td><td>NULL</td></tr>",
                            "<tr><td>01100503T</td><td>Color Copy A4 120 g</td><td>NULL</td></tr>",
                            "<tr><td>01100504T</td><td>Fehér másoló A/3</td><td>NULL</td></tr>",
                            "<tr><td>01100505T</td><td>Fehér másoló A/4</td><td>NULL</td></tr>",
                            "<tr><td>01100509T</td><td>Márványos A/4</td><td>NULL</td></tr>",
                            "<tr><td>01100510T</td><td>Kreatív A/4 120g </td><td>NULL</td></tr>",
                            "<tr><td>02010028T</td><td>Árazószalag </td><td>NULL</td></tr>",
                            "<tr><td>02020029T</td><td>Átírótömb A/6</td><td>NULL</td></tr>",
                            "<tr><td>02020032T</td><td>Beírókönyv A5 </td><td>NULL</td></tr>",
                            "<tr><td>02020033T</td><td>Beírókönyv A4</td><td>NULL</td></tr>",
                            "<tr><td>02020037T</td><td>Bevételi pénztárbizonylat 3×25</td><td>NULL</td></tr>",
                            "<tr><td>02020245T</td><td>Kiadási pénztárbizonylat 2×25</td><td>NULL</td></tr>",
                            "<tr><td>02020444T</td><td>Határidő napló A/6</td><td>NULL</td></tr>",
                            "<tr><td>02030040T</td><td>Boríték LA 4 francia</td><td>NULL</td></tr>",
                            "<tr><td>02030041T</td><td>Boríték LC 5</td><td>NULL</td></tr>",
                            "<tr><td>02030042T</td><td>Boríték LC 6</td><td>NULL</td></tr>",
                            "<tr><td>02030043T</td><td>Boríték légp. kicsi</td><td>NULL</td></tr>",
                            "<tr><td>02030044T</td><td>Boríték mintás</td><td>NULL</td></tr>",
                            "<tr><td>02040002T</td><td>irodai tűzőgép</td><td>NULL</td></tr>",
                            "<tr><td>02040025T</td><td>Álló irattartó karton</td><td>NULL</td></tr>",
                            "<tr><td>02040145T</td><td>Gemkapocs 28 mm</td><td>NULL</td></tr>",
                            "<tr><td>02040146T</td><td>Gemkapocs ICO</td><td>NULL</td></tr>",
                            "<tr><td>02040147T</td><td>Genotherm lefűzhető A/5</td><td>NULL</td></tr>",
                            "<tr><td>02040148T</td><td>Genotherm lefűzhető A4 10db-os</td><td>NULL</td></tr>",
                            "<tr><td>02040149T</td><td>Genotherm A4 10db-os</td><td>NULL</td></tr>",
                            "<tr><td>02040176T</td><td>Gyorsfűző dosszié fehér</td><td>NULL</td></tr>",
                            "<tr><td>02040177T</td><td>Gyorsfűző műa.</td><td>NULL</td></tr>",
                            "<tr><td>02040178T</td><td>Gyorsfűző műa.</td><td>NULL</td></tr>",
                            "<tr><td>02040194T</td><td>Hibajav.roll.Pritt 4,2mm</td><td>NULL</td></tr>",
                            "<tr><td>02040195T</td><td>Hibajavító ecsetes Aqua</td><td>NULL</td></tr>",
                            "<tr><td>02040196T</td><td>Hibajavító készlet Blanco</td><td>NULL</td></tr>",
                            "<tr><td>02040197T</td><td>Hibajavító lap </td><td>NULL</td></tr>",
                            "<tr><td>02040198T</td><td>Hibajavító roller 5 mm</td><td>NULL</td></tr>",
                            "<tr><td>02040199T</td><td>Hibajavító roller Pax</td><td>NULL</td></tr>",
                            "<tr><td>02040200T</td><td>Hibajavító Kores mini pen</td><td>NULL</td></tr>",
                            "<tr><td>02040206T</td><td>Írásvetítő fólia</td><td>NULL</td></tr>",
                            "<tr><td>02040207T</td><td>Iratgyűjtő ESSELTE ablakos</td><td>NULL</td></tr>",
                            "<tr><td>02040208T</td><td>Iratgyűjtő fehér</td><td>NULL</td></tr>",
                            "<tr><td>02040209T</td><td>Iratsín fehér</td><td>NULL</td></tr>",
                            "<tr><td>02040210T</td><td>Iratsín kék</td><td>NULL</td></tr>",
                            "<tr><td>02040211T</td><td>Iratrendező ESSELTE</td><td>NULL</td></tr>",
                            "<tr><td>02040214T</td><td>Iromány fedél feles</td><td>NULL</td></tr>",
                            "<tr><td>02040290T</td><td>Naptár 24-es</td><td>NULL</td></tr>",
                            "<tr><td>02040291T</td><td>Naptárhát kicsi</td><td>NULL</td></tr>",
                            "<tr><td>02040292T</td><td>Naptárhát nagy</td><td>NULL</td></tr>",
                            "<tr><td>02040293T</td><td>Névjegytartó kicsi</td><td>NULL</td></tr>",
                            "<tr><td>02040294T</td><td>Notesz A/5 sima</td><td>NULL</td></tr>",
                            "<tr><td>02040295T</td><td>Notesz A/5 sima spirál</td><td>NULL</td></tr>",
                            "<tr><td>02040296T</td><td>Notesz A/6 College</td><td>NULL</td></tr>",
                            "<tr><td>02040297T</td><td>Notesz sima spirál College</td><td>NULL</td></tr>",
                            "<tr><td>02040298T</td><td>Notesz mintás</td><td>NULL</td></tr>",
                            "<tr><td>02040308T</td><td>Pénztárgépsz. 2 pl. nem öníró</td><td>NULL</td></tr>",
                            "<tr><td>02040309T</td><td>Pénztárgépszalag 2pl SC 57.5/60</td><td>NULL</td></tr>",
                            "<tr><td>02040401T</td><td>Tűzőgép Boxer 10</td><td>NULL</td></tr>",
                            "<tr><td>02040402T</td><td>Tűzőgép Boxer </td><td>NULL</td></tr>",
                            "<tr><td>02040403T</td><td>Tűzőgép SAX 239</td><td>NULL</td></tr>",
                            "<tr><td>02040404T</td><td>Tűzőgép EAGLE</td><td>NULL</td></tr>",
                            "<tr><td>02040405T</td><td>Tűzőkapocs 10-es</td><td>NULL</td></tr>",
                            "<tr><td>02040406T</td><td>Tűzőkapocs 24/6</td><td>NULL</td></tr>",
                            "<tr><td>02040506T</td><td>Fólia tasakos A4 125 mik.</td><td>NULL</td></tr>",
                            "<tr><td>02040507T</td><td>Fólia tasakos A4 80 mik.</td><td>NULL</td></tr>",
                            "<tr><td>02040508T</td><td>Fólia tasakos A4100 mik.</td><td>NULL</td></tr>",
                            "<tr><td>02050460T</td><td>Boríték C/4-es</td><td>NULL</td></tr>",
                            "<tr><td>02050461T</td><td>Boríték B/4-es</td><td>NULL</td></tr>",
                            "<tr><td>02060034T</td><td>Bélyegzőfesték </td><td>NULL</td></tr>",
                            "<tr><td>02060038T</td><td>Bélyegző IDEAL 50</td><td>NULL</td></tr>",
                            "<tr><td>02060039T</td><td>Bélyegző párna</td><td>NULL</td></tr>",
                            "<tr><td>02060447T</td><td>Bélyegző pocket</td><td>NULL</td></tr>",
                            "<tr><td>02060448T</td><td>Bélyegző RP 18-47</td><td>NULL</td></tr>",
                            "<tr><td>02080069T</td><td>CD tartó tok</td><td>NULL</td></tr>",
                            "<tr><td>02080081T</td><td>Dvd</td><td>NULL</td></tr>",
                            "<tr><td>02080109T</td><td>Floppy lemez</td><td>NULL</td></tr>",
                            "<tr><td>02080226T</td><td>Kapocskiszedő</td><td>NULL</td></tr>",
                            "<tr><td>02080431T</td><td>Álló irattartó</td><td>NULL</td></tr>",
                            "<tr><td>02080432T</td><td>Tokos iratrendező</td><td>NULL</td></tr>",
                            "<tr><td>02080433T</td><td>Ragasztószalag 19 mm-es</td><td>NULL</td></tr>",
                            "<tr><td>02080434T</td><td>Mappa müa A/4</td><td>NULL</td></tr>",
                            "<tr><td>02080435T</td><td>Mappa bemutató</td><td>NULL</td></tr>",
                            "<tr><td>02080436T</td><td>Irattartó müa. boríték A/4</td><td>NULL</td></tr>",
                            "<tr><td>02080449T</td><td>Térképtű színes</td><td>NULL</td></tr>",
                            "<tr><td>02080450T</td><td>Gémkapocs 28-as színes</td><td>NULL</td></tr>",
                            "<tr><td>02080451T</td><td>Gémkapocs 50-es</td><td>NULL</td></tr>",
                            "<tr><td>02080452T</td><td>Tűzőgép mini</td><td>NULL</td></tr>",
                            "<tr><td>02080453T</td><td>Lyukasztó EAGLE</td><td>NULL</td></tr>",
                            "<tr><td>02080454T</td><td>Lyukasztó BOXER</td><td>NULL</td></tr>",
                            "<tr><td>02080455T</td><td>Festékpatron BCI-3BK</td><td>NULL</td></tr>",
                            "<tr><td>02080456T</td><td>Genoterm HERLITZ 10-es</td><td>NULL</td></tr>",
                            "<tr><td>02080511T</td><td>Oki toner C</td><td>NULL</td></tr>",
                            "<tr><td>02080514T</td><td>Spirál 1/4 </td><td>NULL</td></tr>",
                            "<tr><td>03010342T</td><td>Ragasztószalag  TIXO</td><td>NULL</td></tr>",
                            "<tr><td>03010344T</td><td>Ragasztószalag nagy 12 mm</td><td>NULL</td></tr>",
                            "<tr><td>03010345T</td><td>Ragasztószalag széles barna</td><td>NULL</td></tr>",
                            "<tr><td>03050076T</td><td>Díszkötöző szalag metál nagy</td><td>NULL</td></tr>",
                            "<tr><td>03050077T</td><td>Diszkötöző szalag arany</td><td>NULL</td></tr>",
                            "<tr><td>03050078T</td><td>Díszkötöző szalag metál kicsi</td><td>NULL</td></tr>",
                            "<tr><td>03050079T</td><td>Díszkötöző szalag vékony</td><td>NULL</td></tr>",
                            "<tr><td>03050080T</td><td>Diszkötöző széles szalag</td><td>NULL</td></tr>",
                            "<tr><td>03050457T</td><td>Ajándék cs. tasak kicsi</td><td>NULL</td></tr>",
                            "<tr><td>03050458T</td><td>Ajándék cs. 2×100×70</td><td>NULL</td></tr>",
                            "<tr><td>03050459T</td><td>Talpas tasak</td><td>NULL</td></tr>",
                            "<tr><td>03080003T</td><td>Ajándék cs. tasak italos</td><td>NULL</td></tr>",
                            "<tr><td>03080004T</td><td>Ajándék cs. tasak italos, fólia</td><td>NULL</td></tr>",
                            "<tr><td>03080005T</td><td>Ajándék cs. tasak virágos nagy</td><td>NULL</td></tr>",
                            "<tr><td>03080006T</td><td>Ajándék cs. tasak mintás kicsi</td><td>NULL</td></tr>",
                            "<tr><td>03080007T</td><td>Ajándék cs. tasak mintás nagy</td><td>NULL</td></tr>",
                            "<tr><td>03080008T</td><td>Ajándék cs. tasak kicsi</td><td>NULL</td></tr>",
                            "<tr><td>03080009T</td><td>Ajándék csom. 100x70 metál</td><td>NULL</td></tr>",
                            "<tr><td>03080010T</td><td>Ajándék csom. 150x70</td><td>NULL</td></tr>",
                            "<tr><td>03080011T</td><td>Ajándék cs. tasak közepes</td><td>NULL</td></tr>",
                            "<tr><td>03080012T</td><td>Ajándék csom. 200x70</td><td>NULL</td></tr>",
                            "<tr><td>03080013T</td><td>Ajándék csom. 50x70 húsvéti</td><td>NULL</td></tr>",
                            "<tr><td>03080014T</td><td>Ajándék csom. 70x50 metál</td><td>NULL</td></tr>",
                            "<tr><td>03080015T</td><td>Ajándék csom. gyűrt</td><td>NULL</td></tr>",
                            "<tr><td>03080016T</td><td>házt.csom.  5 ív</td><td>NULL</td></tr>",
                            "<tr><td>03080017T</td><td>iskolai csomagoló papír</td><td>NULL</td></tr>",
                            "<tr><td>03080018T</td><td>Ajándék csom. gyűrt 50x70 </td><td>NULL</td></tr>",
                            "<tr><td>03080019T</td><td>Ajándék csom. Krepp</td><td>NULL</td></tr>",
                            "<tr><td>03080020T</td><td>Ajándék csom. nagy  </td><td>NULL</td></tr>",
                            "<tr><td>03080021T</td><td>Ajándék csom. vékony</td><td>NULL</td></tr>",
                            "<tr><td>03080030T</td><td>Ajándék cs. húsvéti 200x70</td><td>NULL</td></tr>",
                            "<tr><td>03080031T</td><td>Ajándék cs. húsvéti</td><td>NULL</td></tr>",
                            "<tr><td>03080437T</td><td>Ajándék csomagoló tasak</td><td>NULL</td></tr>",
                            "<tr><td>03080438T</td><td>Ajándék csomagoló tasak lézeres</td><td>NULL</td></tr>",
                            "<tr><td>03080439T</td><td>Italtartó doboz</td><td>NULL</td></tr>",
                            "<tr><td>04020445T</td><td>Határidő napló 2010-s</td><td>NULL</td></tr>",
                            "<tr><td>04030234T</td><td>Képeslap karácsonyi</td><td>NULL</td></tr>",
                            "<tr><td>04030235T</td><td>Képeslap karácsonyi borítékos</td><td>NULL</td></tr>",
                            "<tr><td>04030236T</td><td>Képeslap karácsonyi WD</td><td>NULL</td></tr>",
                            "<tr><td>04030237T</td><td>Képeslap kerek</td><td>NULL</td></tr>",
                            "<tr><td>04030238T</td><td>Képeslap stancolt</td><td>NULL</td></tr>",
                            "<tr><td>04030239T</td><td>Képeslap stancolt szív</td><td>NULL</td></tr>",
                            "<tr><td>04030240T</td><td>Képeslap virágos</td><td>NULL</td></tr>",
                            "<tr><td>04030241T</td><td>Képeslap virágos +boríték</td><td>NULL</td></tr>",
                            "<tr><td>04030242T</td><td>Képeslap WD +boríték</td><td>NULL</td></tr>",
                            "<tr><td>04030243T</td><td>Képkirakó Dirib-darab</td><td>NULL</td></tr>",
                            "<tr><td>04030260T</td><td>Levélpapír A/4</td><td>NULL</td></tr>",
                            "<tr><td>04030261T</td><td>Levélpapír állatos</td><td>NULL</td></tr>",
                            "<tr><td>04030262T</td><td>Levélpapír sima</td><td>NULL</td></tr>",
                            "<tr><td>04030263T</td><td>Levélpapír szett</td><td>NULL</td></tr>",
                            "<tr><td>04030264T</td><td>Levélpapír szett </td><td>NULL</td></tr>",
                            "<tr><td>04030265T</td><td>Levélpapír szett natur, mintás</td><td>NULL</td></tr>",
                            "<tr><td>04030266T</td><td>Levélpapír szett virágos</td><td>NULL</td></tr>",
                            "<tr><td>04030285T</td><td>Mikulás zacskó</td><td>NULL</td></tr>",
                            "<tr><td>04030286T</td><td>Műanyag állatok</td><td>NULL</td></tr>",
                            "<tr><td>04030287T</td><td>Műanyag foszforeszkáló állat</td><td>NULL</td></tr>",
                            "<tr><td>04030288T</td><td>Műanyag pohár 1 dl-es</td><td>NULL</td></tr>",
                            "<tr><td>04030289T</td><td>Műanyag pohár 5 cl-es</td><td>NULL</td></tr>",
                            "<tr><td>04040090T</td><td>Emlékkönyv</td><td>NULL</td></tr>",
                            "<tr><td>04040387T</td><td>Tenisz labda</td><td>NULL</td></tr>",
                            "<tr><td>04050022T</td><td>Álarc</td><td>NULL</td></tr>",
                            "<tr><td>04050023T</td><td>Álarc fejdísz</td><td>NULL</td></tr>",
                            "<tr><td>04050024T</td><td>Álarc szemüveg</td><td>NULL</td></tr>",
                            "<tr><td>04050035T</td><td>Bérlet tok</td><td>NULL</td></tr>",
                            "<tr><td>04050073T</td><td>Díszdoboz kar.</td><td>NULL</td></tr>",
                            "<tr><td>04050074T</td><td>Díszdoboz tollnak 2 db-os</td><td>NULL</td></tr>",
                            "<tr><td>04050075T</td><td>Díszdoboz tollnak 2 db-os keskeny</td><td>NULL</td></tr>",
                            "<tr><td>04050171T</td><td>Gumilabda közepes</td><td>NULL</td></tr>",
                            "<tr><td>04050187T</td><td>Hajgumi macis</td><td>NULL</td></tr>",
                            "<tr><td>04050203T</td><td>Hűtőmágnes</td><td>NULL</td></tr>",
                            "<tr><td>04050204T</td><td>Hűtőmágnes WD</td><td>NULL</td></tr>",
                            "<tr><td>04050220T</td><td>Játék autó</td><td>NULL</td></tr>",
                            "<tr><td>04050221T</td><td>Játékautó Blisteres</td><td>NULL</td></tr>",
                            "<tr><td>04050222T</td><td>Játékautó elemes</td><td>NULL</td></tr>",
                            "<tr><td>04050223T</td><td>Játékautó mini</td><td>NULL</td></tr>",
                            "<tr><td>04050224T</td><td>Jelzőkréta</td><td>NULL</td></tr>",
                            "<tr><td>04050225T</td><td>Kártya mini Magyar</td><td>NULL</td></tr>",
                            "<tr><td>04050250T</td><td>Kulcstartó autós</td><td>NULL</td></tr>",
                            "<tr><td>04050251T</td><td>Kulcstartó billiárd golyós</td><td>NULL</td></tr>",
                            "<tr><td>04050252T</td><td>Kulcstartó Csőrikés</td><td>NULL</td></tr>",
                            "<tr><td>04050253T</td><td>Kulcstartó figurás</td><td>NULL</td></tr>",
                            "<tr><td>04050254T</td><td>Kulcstartó intarziás állatos</td><td>NULL</td></tr>",
                            "<tr><td>04050255T</td><td>Kulcstartó mesefigurás</td><td>NULL</td></tr>",
                            "<tr><td>04050256T</td><td>Kulcstartó nagyítós</td><td>NULL</td></tr>",
                            "<tr><td>04050267T</td><td>Logikai készlet</td><td>NULL</td></tr>",
                            "<tr><td>04050268T</td><td>Lufi formázható</td><td>NULL</td></tr>",
                            "<tr><td>04050269T</td><td>Lufi hullámos</td><td>NULL</td></tr>",
                            "<tr><td>04050320T</td><td>Plüss  QX állatok</td><td>NULL</td></tr>",
                            "<tr><td>04050321T</td><td>Plüss kicsi</td><td>NULL</td></tr>",
                            "<tr><td>04050322T</td><td>Plüss sárkány</td><td>NULL</td></tr>",
                            "<tr><td>04050358T</td><td>Strandlabda </td><td>NULL</td></tr>",
                            "<tr><td>04080270T</td><td>Mappa bőr A5</td><td>NULL</td></tr>",
                            "<tr><td>04080271T</td><td>Mappa PVC villámzáras</td><td>NULL</td></tr>",
                            "<tr><td>04080272T</td><td>Mappa PVC villámzáras  képes</td><td>NULL</td></tr>",
                            "<tr><td>04080442T</td><td>Emlékkönyv</td><td>NULL</td></tr>",
                            "<tr><td>04080443T</td><td>Emlékkönyv lakatos</td><td>NULL</td></tr>",
                            "<tr><td>04110066T</td><td>Címke 8 db-os</td><td>NULL</td></tr>",
                            "<tr><td>04110067T</td><td>Címke WD. állat</td><td>NULL</td></tr>",
                            "<tr><td>04110068T</td><td>Címke egyszínű</td><td>NULL</td></tr>",
                            "<tr><td>04110227T</td><td>Képeslap  borítékos</td><td>NULL</td></tr>",
                            "<tr><td>04110228T</td><td>Képeslap &quot;Nászajándék&quot;</td><td>NULL</td></tr>",
                            "<tr><td>04110229T</td><td>Képeslap &quot;Részvét&quot;</td><td>NULL</td></tr>",
                            "<tr><td>04110230T</td><td>Képeslap humoros </td><td>NULL</td></tr>",
                            "<tr><td>04110231T</td><td>Képeslap humoros borítékos</td><td>NULL</td></tr>",
                            "<tr><td>04110232T</td><td>Képeslap humoros kaparós</td><td>NULL</td></tr>",
                            "<tr><td>04110233T</td><td>Képeslap humoros</td><td>NULL</td></tr>",
                            "<tr><td>04110258T</td><td>Lampion</td><td>NULL</td></tr>",
                            "<tr><td>04110273T</td><td>Matrica állatos</td><td>NULL</td></tr>",
                            "<tr><td>04110274T</td><td>Matrica autóra H</td><td>NULL</td></tr>",
                            "<tr><td>04110275T</td><td>Matrica motoros kicsi</td><td>NULL</td></tr>",
                            "<tr><td>04110276T</td><td>Matrica Stickers nagy állatos</td><td>NULL</td></tr>",
                            "<tr><td>04110277T</td><td>Matrica Stickers szíves</td><td>NULL</td></tr>",
                            "<tr><td>04110278T</td><td>Matrica Test ékszer tattoo</td><td>NULL</td></tr>",
                            "<tr><td>04110279T</td><td>Matrica tetoválás</td><td>NULL</td></tr>",
                            "<tr><td>04110280T</td><td>Matrica tetoválós kicsi</td><td>NULL</td></tr>",
                            "<tr><td>04110281T</td><td>Matrica világítós </td><td>NULL</td></tr>",
                            "<tr><td>04110282T</td><td>Matrica WD kicsi</td><td>NULL</td></tr>",
                            "<tr><td>04110283T</td><td>Meghívó állatos</td><td>NULL</td></tr>",
                            "<tr><td>04110284T</td><td>Meghívó borítékos</td><td>NULL</td></tr>",
                            "<tr><td>04110362T</td><td>Szalvéta gyűjtőknek</td><td>NULL</td></tr>",
                            "<tr><td>05010026T</td><td>Alufólia 10 m-es</td><td>NULL</td></tr>",
                            "<tr><td>05010027T</td><td>Alufólia 20 m-es</td><td>NULL</td></tr>",
                            "<tr><td>05010306T</td><td>Papízsebkendő,10db Szindy</td><td>NULL</td></tr>",
                            "<tr><td>05010369T</td><td>Szemetes zsák 60 literes</td><td>NULL</td></tr>",
                            "<tr><td>05010370T</td><td>Szilvia csomagoló</td><td>NULL</td></tr>",
                            "<tr><td>05040310T</td><td>Pill.ragasztó</td><td>NULL</td></tr>",
                            "<tr><td>05040348T</td><td>Rajzszeg színes</td><td>NULL</td></tr>",
                            "<tr><td>05040349T</td><td>Rajzszeg</td><td>NULL</td></tr>",
                            "<tr><td>05050045T</td><td>Celofán</td><td>NULL</td></tr>",
                            "<tr><td>05050046T</td><td>Celofán 50 db-os</td><td>NULL</td></tr>",
                            "<tr><td>05050170T</td><td>Gumigyűrű</td><td>NULL</td></tr>",
                            "<tr><td>05050346T</td><td>Rágógumi Orbit</td><td>NULL</td></tr>",
                            "<tr><td>05050465T</td><td>Tapétavágó kés</td><td>NULL</td></tr>",
                            "<tr><td>05080340T</td><td>Ragasztó, Technokol 35g kék</td><td>NULL</td></tr>",
                            "<tr><td>05080341T</td><td>Ragasztó, Technokol 35g piros</td><td>NULL</td></tr>",
                            "<tr><td>05110359T</td><td>Szalvéta </td><td>NULL</td></tr>",
                            "<tr><td>05110360T</td><td>Szalvéta egyszínű</td><td>NULL</td></tr>",
                            "<tr><td>05110361T</td><td>Szalvéta Goma húsvéti</td><td>NULL</td></tr>",
                            "<tr><td>05110363T</td><td>Szalvéta dekor</td><td>NULL</td></tr>",
                            "<tr><td>05110364T</td><td>Szalvéta kicsi virágos</td><td>NULL</td></tr>",
                            "<tr><td>06010036T</td><td>Betűtartó sin</td><td>NULL</td></tr>",
                            "<tr><td>06010082T</td><td>Ecset Centrum 10,11,12</td><td>NULL</td></tr>",
                            "<tr><td>06010083T</td><td>Ecset Centrum 7,8,9</td><td>NULL</td></tr>",
                            "<tr><td>06010084T</td><td>Ecset Deák 2-es</td><td>NULL</td></tr>",
                            "<tr><td>06010085T</td><td>Ecset Lizzy 10-es</td><td>NULL</td></tr>",
                            "<tr><td>06010086T</td><td>Ecset Nebulo 4-es</td><td>NULL</td></tr>",
                            "<tr><td>06010111T</td><td>Füzet  A/4 </td><td>NULL</td></tr>",
                            "<tr><td>06010112T</td><td>Füzet  A4 mintás</td><td>NULL</td></tr>",
                            "<tr><td>06010113T</td><td>Füzet 31-32 szótár</td><td>NULL</td></tr>",
                            "<tr><td>06010114T</td><td>Füzet A/5 hangjegy 36/16</td><td>NULL</td></tr>",
                            "<tr><td>06010115T</td><td>Füzet A/5, mintás</td><td>NULL</td></tr>",
                            "<tr><td>06010201T</td><td>Hőmérő, műa.</td><td>NULL</td></tr>",
                            "<tr><td>06010202T</td><td>Hurkapálca 10 db-os</td><td>NULL</td></tr>",
                            "<tr><td>06010305T</td><td>Papírcenti 100 cm-es</td><td>NULL</td></tr>",
                            "<tr><td>06010343T</td><td>Ragasztószalag 19 mm-es SCOTCH+ tépő</td><td>NULL</td></tr>",
                            "<tr><td>06010365T</td><td>Számegyenes</td><td>NULL</td></tr>",
                            "<tr><td>06010366T</td><td>Számológép Roxin</td><td>NULL</td></tr>",
                            "<tr><td>06010367T</td><td>Számolókorong</td><td>NULL</td></tr>",
                            "<tr><td>06010368T</td><td>Számolópálca</td><td>NULL</td></tr>",
                            "<tr><td>06010373T</td><td>Színes papír I.II-IV.V-VIII-ig</td><td>NULL</td></tr>",
                            "<tr><td>06010374T</td><td>Szorzótábla műanyag</td><td>NULL</td></tr>",
                            "<tr><td>06010375T</td><td>Szögmérő 180 fokos műa.</td><td>NULL</td></tr>",
                            "<tr><td>06010376T</td><td>Szögmérő papír</td><td>NULL</td></tr>",
                            "<tr><td>06010377T</td><td>Szögmérő színes</td><td>NULL</td></tr>",
                            "<tr><td>06040087T</td><td>Ecset Nebuló 10-es</td><td>NULL</td></tr>",
                            "<tr><td>06040088T</td><td>Egészségügyi könyv</td><td>NULL</td></tr>",
                            "<tr><td>06040089T</td><td>Ellenőrzőborító</td><td>NULL</td></tr>",
                            "<tr><td>06040172T</td><td>Gumis mappa csomagolt</td><td>NULL</td></tr>",
                            "<tr><td>06040173T</td><td>Gumis mappa fóliázott állatos</td><td>NULL</td></tr>",
                            "<tr><td>06040174T</td><td>Gumis mappa </td><td>NULL</td></tr>",
                            "<tr><td>06040175T</td><td>Gumis mappa Köbüki</td><td>NULL</td></tr>",
                            "<tr><td>06040179T</td><td>Gyurma színes 200 g-os</td><td>NULL</td></tr>",
                            "<tr><td>06040180T</td><td>Gyurma színes natúr</td><td>NULL</td></tr>",
                            "<tr><td>06040181T</td><td>Gyűjtőlap A/4</td><td>NULL</td></tr>",
                            "<tr><td>06040182T</td><td>Gyűrűskönyv bet. A/4</td><td>NULL</td></tr>",
                            "<tr><td>06040183T</td><td>Gyűrűskönyv bet. A/5</td><td>NULL</td></tr>",
                            "<tr><td>06040184T</td><td>Gyűrűskönyv betét A/5</td><td>NULL</td></tr>",
                            "<tr><td>06040185T</td><td>Gyűrűskönyv</td><td>NULL</td></tr>",
                            "<tr><td>06040186T</td><td>Gyűrűskönyv színes</td><td>NULL</td></tr>",
                            "<tr><td>06040205T</td><td>Indigó Pelikán</td><td>NULL</td></tr>",
                            "<tr><td>06040206T</td><td>kék indigó</td><td>NULL</td></tr>",
                            "<tr><td>06040212T</td><td>Írólap 10-50 ffam.</td><td>NULL</td></tr>",
                            "<tr><td>06040213T</td><td>Írólap 20-50 </td><td>NULL</td></tr>",
                            "<tr><td>06040246T</td><td>Körző</td><td>NULL</td></tr>",
                            "<tr><td>06040247T</td><td>Körzőhegy grafit</td><td>NULL</td></tr>",
                            "<tr><td>06040248T</td><td>Körző maped</td><td>NULL</td></tr>",
                            "<tr><td>06040323T</td><td>Post-it 51×38 100 lapos</td><td>NULL</td></tr>",
                            "<tr><td>06040324T</td><td>Post-it 75×75 100 lapos</td><td>NULL</td></tr>",
                            "<tr><td>06040325T</td><td>Radír gyümölcsös</td><td>NULL</td></tr>",
                            "<tr><td>06040326T</td><td>Radír KOH-I-NOR 80</td><td>NULL</td></tr>",
                            "<tr><td>06040327T</td><td>Radír Koh-i-nor 40</td><td>NULL</td></tr>",
                            "<tr><td>06040328T</td><td>Radír Maped</td><td>NULL</td></tr>",
                            "<tr><td>06040329T</td><td>Radír stabilo</td><td>NULL</td></tr>",
                            "<tr><td>06040330T</td><td>Radír Tikky 30 </td><td>NULL</td></tr>",
                            "<tr><td>06040331T</td><td>Radír Tikky 40 </td><td>NULL</td></tr>",
                            "<tr><td>06040347T</td><td>Rajzlap A/4 10db ffam.</td><td>NULL</td></tr>",
                            "<tr><td>06040350T</td><td>Regiszteres füzet A4</td><td>NULL</td></tr>",
                            "<tr><td>06040351T</td><td>Regiszteres füzet A5 Hightech</td><td>NULL</td></tr>",
                            "<tr><td>06040352T</td><td>Rovatolt papír 20 íves</td><td>NULL</td></tr>",
                            "<tr><td>06040353T</td><td>Sorvezető</td><td>NULL</td></tr>",
                            "<tr><td>06040354T</td><td>Sp.Füzet A/4  perforált, lyuk.</td><td>NULL</td></tr>",
                            "<tr><td>06040355T</td><td>Sp.Füzet A/4 70-as</td><td>NULL</td></tr>",
                            "<tr><td>06040356T</td><td>Sp.Füzet A/4  70es</td><td>NULL</td></tr>",
                            "<tr><td>06040357T</td><td>Sp.Füzet A/5 70-es</td><td>NULL</td></tr>",
                            "<tr><td>06040378T</td><td>Szövegkiemelő vékony</td><td>NULL</td></tr>",
                            "<tr><td>06040379T</td><td>Szövegkiemelő </td><td>NULL</td></tr>",
                            "<tr><td>06040380T</td><td>Szövegkiemelő</td><td>NULL</td></tr>",
                            "<tr><td>06040381T</td><td>Szövegkiemelő Videotip</td><td>NULL</td></tr>",
                            "<tr><td>06040382T</td><td>Táblafilc</td><td>NULL</td></tr>",
                            "<tr><td>06040383T</td><td>Taffet papír</td><td>NULL</td></tr>",
                            "<tr><td>06040384T</td><td>Technika cs. I-II-III-IV</td><td>NULL</td></tr>",
                            "<tr><td>06040385T</td><td>Tempera szóló ezüst</td><td>NULL</td></tr>",
                            "<tr><td>06040386T</td><td>Tempera szóló színes</td><td>NULL</td></tr>",
                            "<tr><td>06040392T</td><td>Tolltartó 1 zipzáros</td><td>NULL</td></tr>",
                            "<tr><td>06040393T</td><td>Tolltartó 2 részes NG.</td><td>NULL</td></tr>",
                            "<tr><td>06040394T</td><td>Tolltartó zipzáras</td><td>NULL</td></tr>",
                            "<tr><td>06040395T</td><td>Tolltartó 2 zipzáros töltött</td><td>NULL</td></tr>",
                            "<tr><td>06040396T</td><td>Tolltartó Garfield</td><td>NULL</td></tr>",
                            "<tr><td>06040397T</td><td>Tolltartó asztali</td><td>NULL</td></tr>",
                            "<tr><td>06040398T</td><td>Tolltartó hengeres </td><td>NULL</td></tr>",
                            "<tr><td>06040399T</td><td>Tombola tömb</td><td>NULL</td></tr>",
                            "<tr><td>06040400T</td><td>Tornazsák</td><td>NULL</td></tr>",
                            "<tr><td>06040446T</td><td>Számológép tudományos</td><td>NULL</td></tr>",
                            "<tr><td>06050249T</td><td>Krepp papír</td><td>NULL</td></tr>",
                            "<tr><td>06050301T</td><td>Olló gyerek </td><td>NULL</td></tr>",
                            "<tr><td>06050302T</td><td>Olló Tagit 18 cm-es</td><td>NULL</td></tr>",
                            "<tr><td>06050303T</td><td>Olló, iskolai</td><td>NULL</td></tr>",
                            "<tr><td>06080116T</td><td>Füzet A5 1-8 osz.-ig</td><td>NULL</td></tr>",
                            "<tr><td>06080117T</td><td>Füzetborító A/4 átlátszó</td><td>NULL</td></tr>",
                            "<tr><td>06080118T</td><td>Füzetborító átlátszó A5</td><td>NULL</td></tr>",
                            "<tr><td>06080119T</td><td>Füzetborító mesefig.</td><td>NULL</td></tr>",
                            "<tr><td>06080120T</td><td>Füzetborító öntapadó kicsi</td><td>NULL</td></tr>",
                            "<tr><td>06080121T</td><td>Füzetborító öntapadó tekercses</td><td>NULL</td></tr>",
                            "<tr><td>06080122T</td><td>Füzetborító öntapadós nagy</td><td>NULL</td></tr>",
                            "<tr><td>06080123T</td><td>Füzettartó A/4 keménytáblás</td><td>NULL</td></tr>",
                            "<tr><td>06080124T</td><td>Füzettartó A/4 keménytáblás</td><td>NULL</td></tr>",
                            "<tr><td>06080125T</td><td>Füzettartó A/5 vastag</td><td>NULL</td></tr>",
                            "<tr><td>06080126T</td><td>Füzettartó A/5  </td><td>NULL</td></tr>",
                            "<tr><td>06080188T</td><td>Hegyező gép</td><td>NULL</td></tr>",
                            "<tr><td>06080189T</td><td>Hegyező műanyag dupla</td><td>NULL</td></tr>",
                            "<tr><td>06080190T</td><td>Hegyező műanyag egyes</td><td>NULL</td></tr>",
                            "<tr><td>06080191T</td><td>Hegyező tartályos egyes</td><td>NULL</td></tr>",
                            "<tr><td>06080192T</td><td>Hegyző fém 1 lyukú</td><td>NULL</td></tr>",
                            "<tr><td>06080193T</td><td>Hegyző fém 2 lyukú</td><td>NULL</td></tr>",
                            "<tr><td>06080259T</td><td>Leckefüzet</td><td>NULL</td></tr>",
                            "<tr><td>06080332T</td><td>Radírtoll betét ER100</td><td>NULL</td></tr>",
                            "<tr><td>06080333T</td><td>Radírtoll betét vastag</td><td>NULL</td></tr>",
                            "<tr><td>06080334T</td><td>Ragasztó szalag KORES </td><td>NULL</td></tr>",
                            "<tr><td>06080335T</td><td>Ragasztó 9 g Pax</td><td>NULL</td></tr>",
                            "<tr><td>06080336T</td><td>Ragasztó 8 g Pritt</td><td>NULL</td></tr>",
                            "<tr><td>06080337T</td><td>Ragasztó Gyurma</td><td>NULL</td></tr>",
                            "<tr><td>06080338T</td><td>Ragasztó kenőfejes Nebuló</td><td>NULL</td></tr>",
                            "<tr><td>06080339T</td><td>Ragasztó kores</td><td>NULL</td></tr>",
                            "<tr><td>06080407T</td><td>Vízfesték  12 színű nagy</td><td>NULL</td></tr>",
                            "<tr><td>06080408T</td><td>Vízfesték 12 db-os </td><td>NULL</td></tr>",
                            "<tr><td>06080409T</td><td>Vízfesték 12 színű kerek</td><td>NULL</td></tr>",
                            "<tr><td>06080410T</td><td>Vízfesték 12db-os kínai</td><td>NULL</td></tr>",
                            "<tr><td>06080411T</td><td>Vonalzó 15 cm-es ESSELTE</td><td>NULL</td></tr>",
                            "<tr><td>06080412T</td><td>Vonalzó 16 cm-es LIZZY</td><td>NULL</td></tr>",
                            "<tr><td>06080413T</td><td>Vonalzó 30 cm</td><td>NULL</td></tr>",
                            "<tr><td>06080414T</td><td>Vonalzó 20 cm-es </td><td>NULL</td></tr>",
                            "<tr><td>06080415T</td><td>Vonalzó 45 fokos</td><td>NULL</td></tr>",
                            "<tr><td>06080416T</td><td>Vonalzó 60 fokos</td><td>NULL</td></tr>",
                            "<tr><td>06080417T</td><td>Zászló papír</td><td>NULL</td></tr>",
                            "<tr><td>06080422T</td><td>Füzettartó A/4</td><td>NULL</td></tr>",
                            "<tr><td>06080423T</td><td>Beíró A/5 kockás</td><td>NULL</td></tr>",
                            "<tr><td>06080424T</td><td>Füzetborító A/4 mintás</td><td>NULL</td></tr>",
                            "<tr><td>06080425T</td><td>Miliméterpapír</td><td>NULL</td></tr>",
                            "<tr><td>06080426T</td><td>Szótárfüzet Lizzy</td><td>NULL</td></tr>",
                            "<tr><td>06080427T</td><td>Ablakkréta</td><td>NULL</td></tr>",
                            "<tr><td>06080428T</td><td>Ecsetkészlet</td><td>NULL</td></tr>",
                            "<tr><td>06080429T</td><td>Meghívó ballagási</td><td>NULL</td></tr>",
                            "<tr><td>06080430T</td><td>Öntapadős betűk</td><td>NULL</td></tr>",
                            "<tr><td>06080440T</td><td>Gyurma 12 szinű</td><td>NULL</td></tr>",
                            "<tr><td>06080441T</td><td>Gyurmakés</td><td>NULL</td></tr>",
                            "<tr><td>07010136T</td><td>G.toll betét PAX</td><td>NULL</td></tr>",
                            "<tr><td>07010137T</td><td>G.toll betét PAX tip.</td><td>NULL</td></tr>",
                            "<tr><td>07010138T</td><td>G.toll betét jumbo</td><td>NULL</td></tr>",
                            "<tr><td>07010139T</td><td>G.toll betét S7L </td><td>NULL</td></tr>",
                            "<tr><td>07010140T</td><td>G.toll betét Stabilo</td><td>NULL</td></tr>",
                            "<tr><td>07010141T</td><td>G.toll betét X20</td><td>NULL</td></tr>",
                            "<tr><td>07010142T</td><td>G.toll betét Zebra F-0.7</td><td>NULL</td></tr>",
                            "<tr><td>07010143T</td><td>G.toll betét Zebra H-0,7</td><td>NULL</td></tr>",
                            "<tr><td>07010144T</td><td>G.toll betét Zebra K-0,7</td><td>NULL</td></tr>",
                            "<tr><td>07010244T</td><td>Kerámiatoll</td><td>NULL</td></tr>",
                            "<tr><td>07010371T</td><td>Színes ceruza 6-os</td><td>NULL</td></tr>",
                            "<tr><td>07010372T</td><td>Színes ceruza 12 szín</td><td>NULL</td></tr>",
                            "<tr><td>07030103T</td><td>Filctoll TINTEN PEN</td><td>NULL</td></tr>",
                            "<tr><td>07030104T</td><td>Filctoll vastag ARTIP</td><td>NULL</td></tr>",
                            "<tr><td>07030105T</td><td>Filctoll, alkoholos Centropen</td><td>NULL</td></tr>",
                            "<tr><td>07030106T</td><td>Filctoll, alkoholosOHP F-M-C</td><td>NULL</td></tr>",
                            "<tr><td>07030107T</td><td>Filctoll, textil Edding 4500</td><td>NULL</td></tr>",
                            "<tr><td>07030108T</td><td>Filctoll CD író</td><td>NULL</td></tr>",
                            "<tr><td>07040047T</td><td>Ceruza 2H-4B</td><td>NULL</td></tr>",
                            "<tr><td>07040048T</td><td>Ceruza arany, ezüst</td><td>NULL</td></tr>",
                            "<tr><td>07040049T</td><td>Ceruza Conté zöld</td><td>NULL</td></tr>",
                            "<tr><td>07040050T</td><td>Ceruza Cseh</td><td>NULL</td></tr>",
                            "<tr><td>07040051T</td><td>Ceruza háromszög </td><td>NULL</td></tr>",
                            "<tr><td>07040052T</td><td>Ceruza 2H-3B Koh-i-nor</td><td>NULL</td></tr>",
                            "<tr><td>07040053T</td><td>Ceruza HB radiros</td><td>NULL</td></tr>",
                            "<tr><td>07040054T</td><td>Ceruza kártyás</td><td>NULL</td></tr>",
                            "<tr><td>07040055T</td><td>Ceruza piros-kék</td><td>NULL</td></tr>",
                            "<tr><td>07040056T</td><td>Ceruza piros-kék vékony</td><td>NULL</td></tr>",
                            "<tr><td>07040057T</td><td>Ceruza Progresso</td><td>NULL</td></tr>",
                            "<tr><td>07040058T</td><td>Ceruza radíros kínai</td><td>NULL</td></tr>",
                            "<tr><td>07040059T</td><td>Ceruza smaragd</td><td>NULL</td></tr>",
                            "<tr><td>07040060T</td><td>Ceruza stabilo swano</td><td>NULL</td></tr>",
                            "<tr><td>07040061T</td><td>Ceruza stabilo opera</td><td>NULL</td></tr>",
                            "<tr><td>07040097T</td><td>Filctoll </td><td>NULL</td></tr>",
                            "<tr><td>07040098T</td><td>Filctoll document pen</td><td>NULL</td></tr>",
                            "<tr><td>07040099T</td><td>Filctoll Edding 750</td><td>NULL</td></tr>",
                            "<tr><td>07040100T</td><td>Filctoll Marvy alkoholos</td><td>NULL</td></tr>",
                            "<tr><td>07040101T</td><td>Filctoll permanent vastag</td><td>NULL</td></tr>",
                            "<tr><td>07040102T</td><td>Filctoll supra fine</td><td>NULL</td></tr>",
                            "<tr><td>07040127T</td><td>G. toll betét mini</td><td>NULL</td></tr>",
                            "<tr><td>07040128T</td><td>G. toll betét mini fém</td><td>NULL</td></tr>",
                            "<tr><td>07040129T</td><td>G. toll betét réz</td><td>NULL</td></tr>",
                            "<tr><td>07040130T</td><td>G. toll betét S7S</td><td>NULL</td></tr>",
                            "<tr><td>07040131T</td><td>G. toll betét UNI lachnok Fine SA-7C</td><td>NULL</td></tr>",
                            "<tr><td>07040132T</td><td>G.toll betét csavaros</td><td>NULL</td></tr>",
                            "<tr><td>07040133T</td><td>G.toll betét görbe hegyű</td><td>NULL</td></tr>",
                            "<tr><td>07040134T</td><td>G.toll betét illatos</td><td>NULL</td></tr>",
                            "<tr><td>07040135T</td><td>G.toll betét Parker </td><td>NULL</td></tr>",
                            "<tr><td>07040165T</td><td>Golyóstoll UNI laknock</td><td>NULL</td></tr>",
                            "<tr><td>07040166T</td><td>Golyóstoll Zebra 301</td><td>NULL</td></tr>",
                            "<tr><td>07040167T</td><td>Golyóstoll Zebra mini</td><td>NULL</td></tr>",
                            "<tr><td>07040168T</td><td>Golyóstoll Zebra new hard</td><td>NULL</td></tr>",
                            "<tr><td>07040169T</td><td>Golyóstoll Zodiák</td><td>NULL</td></tr>",
                            "<tr><td>07040215T</td><td>Ironbél  2B ICO</td><td>NULL</td></tr>",
                            "<tr><td>07040216T</td><td>Ironbél B 0,5</td><td>NULL</td></tr>",
                            "<tr><td>07040217T</td><td>Ironbél H 0,5</td><td>NULL</td></tr>",
                            "<tr><td>07040218T</td><td>Ironbél HB 0,5</td><td>NULL</td></tr>",
                            "<tr><td>07040219T</td><td>Ironbél HI-POLIMER HB 0,7</td><td>NULL</td></tr>",
                            "<tr><td>07040257T</td><td>Lakk filc Edding 750</td><td>NULL</td></tr>",
                            "<tr><td>07040388T</td><td>Tintapatron /kék/</td><td>NULL</td></tr>",
                            "<tr><td>07040389T</td><td>Tintapatron 30 db-os kék</td><td>NULL</td></tr>",
                            "<tr><td>07040390T</td><td>Tintapatron színes</td><td>NULL</td></tr>",
                            "<tr><td>07040391T</td><td>Toll Centropen roller</td><td>NULL</td></tr>",
                            "<tr><td>07050462T</td><td>Töltőtoll tinta </td><td>NULL</td></tr>",
                            "<tr><td>07050463T</td><td>Ceruzafogó</td><td>NULL</td></tr>",
                            "<tr><td>07050464T</td><td>Szövegkiemelő Staedtler</td><td>NULL</td></tr>",
                            "<tr><td>07080062T</td><td>Ceruza szén</td><td>NULL</td></tr>",
                            "<tr><td>07080063T</td><td>Ceruza szorzótáblás</td><td>NULL</td></tr>",
                            "<tr><td>07080064T</td><td>Ceruza zöld színű</td><td>NULL</td></tr>",
                            "<tr><td>07080065T</td><td>Ceruza kínai</td><td>NULL</td></tr>",
                            "<tr><td>07080150T</td><td>Golyóstoll</td><td>NULL</td></tr>",
                            "<tr><td>07080151T</td><td>Golyóstoll + ceruza Twister 2in1</td><td>NULL</td></tr>",
                            "<tr><td>07080152T</td><td>Golyóstoll 3 funkciós </td><td>NULL</td></tr>",
                            "<tr><td>07080153T</td><td>Golyóstoll illatos ICO</td><td>NULL</td></tr>",
                            "<tr><td>07080154T</td><td>Golyóstoll INOXCROM</td><td>NULL</td></tr>",
                            "<tr><td>07080155T</td><td>Golyóstoll</td><td>NULL</td></tr>",
                            "<tr><td>07080156T</td><td>Golyóstoll kupakos piros</td><td>NULL</td></tr>",
                            "<tr><td>07080157T</td><td>Golyóstoll Montex Hytone</td><td>NULL</td></tr>",
                            "<tr><td>07080158T</td><td>Golyóstoll Parker tokban</td><td>NULL</td></tr>",
                            "<tr><td>07080159T</td><td>Golyóstoll Pax tip.</td><td>NULL</td></tr>",
                            "<tr><td>07080160T</td><td>Golyóstoll penac</td><td>NULL</td></tr>",
                            "<tr><td>07080161T</td><td>Golyóstoll kétszínű</td><td>NULL</td></tr>",
                            "<tr><td>07080162T</td><td>Golyóstoll Stabilo piros</td><td>NULL</td></tr>",
                            "<tr><td>07080163T</td><td>Golyóstoll UNI átlátszó</td><td>NULL</td></tr>",
                            "<tr><td>07080164T</td><td>Golyóstoll UNI gumis</td><td>NULL</td></tr>",
                            "<tr><td>07080311T</td><td>Pixiron  UNI</td><td>NULL</td></tr>",
                            "<tr><td>07080312T</td><td>Pixiron 0,7 Handy</td><td>NULL</td></tr>",
                            "<tr><td>07080313T</td><td>Pixiron Centrum</td><td>NULL</td></tr>",
                            "<tr><td>07080314T</td><td>Pixiron Handy fém</td><td>NULL</td></tr>",
                            "<tr><td>07080315T</td><td>Pixiron Handy műanyag</td><td>NULL</td></tr>",
                            "<tr><td>07080316T</td><td>Pixiron KOH-I-NOOR</td><td>NULL</td></tr>",
                            "<tr><td>07080317T</td><td>Pixiron mini </td><td>NULL</td></tr>",
                            "<tr><td>07080318T</td><td>Pixiron Penac</td><td>NULL</td></tr>",
                            "<tr><td>07080319T</td><td>Pixiron Pentel színes</td><td>NULL</td></tr>",
                            "<tr><td>07080418T</td><td>Zselés toll </td><td>NULL</td></tr>",
                            "<tr><td>07080419T</td><td>Zselés toll MICRO</td><td>NULL</td></tr>",
                            "<tr><td>07080420T</td><td>Zselés toll Muhnwa</td><td>NULL</td></tr>",
                            "<tr><td>07080421T</td><td>Zseléstoll Lizzy Card</td><td>NULL</td></tr>",
                            "<tr><td>07080466T</td><td>Golyóstoll Stabiló 308</td><td>NULL</td></tr>",
                            "<tr><td>07080467T</td><td>Golyóstoll kétfunkciós ICO</td><td>NULL</td></tr>",
                            "<tr><td>07080468T</td><td>Golyóstoll háromfunkciós</td><td>NULL</td></tr>",
                            "<tr><td>07080469T</td><td>Golyóstoll UNIBALL 07</td><td>NULL</td></tr>",
                            "<tr><td>07080470T</td><td>Golyóstoll háromszög</td><td>NULL</td></tr>",
                            "<tr><td>07080471T</td><td>Golyóstoll levélbontós</td><td>NULL</td></tr>",
                            "<tr><td>08070472T</td><td>A föld amelyen élünk - Európa földrajza</td><td>NULL</td></tr>",
                            "<tr><td>08070473T</td><td>A föld amelyen élünk - Távoli földrészek</td><td>NULL</td></tr>",
                            "<tr><td>08070474T</td><td>A föld amelyen élünk - Hazánk földrajza</td><td>NULL</td></tr>",
                            "<tr><td>08070475T</td><td>A föld amelyen élünk - munkafüzet</td><td>NULL</td></tr>",
                            "<tr><td>08070476T</td><td>Anyanyelvi gyakorló 2</td><td>NULL</td></tr>",
                            "<tr><td>08070477T</td><td>Anyanyelvi gyakorló 3</td><td>NULL</td></tr>",
                            "<tr><td>08070478T</td><td>Összefoglaló feladatgyüjtemény számtech.</td><td>NULL</td></tr>",
                            "<tr><td>08070479T</td><td>Fizika</td><td>NULL</td></tr>",
                            "<tr><td>08070480T</td><td>Fizika 13 éveseknek</td><td>NULL</td></tr>",
                            "<tr><td>08070481T</td><td>Fizika munkafüzet 13 év.</td><td>NULL</td></tr>",
                            "<tr><td>08070482T</td><td>Fizika munkafüzet 14 év.</td><td>NULL</td></tr>",
                            "<tr><td>08070483T</td><td>Fizikai feladatok és tévedések</td><td>NULL</td></tr>",
                            "<tr><td>08070484T</td><td>Fogalmazás lépésről lépésre</td><td>NULL</td></tr>",
                            "<tr><td>08070485T</td><td>Jól felkészültem-e - Fizika</td><td>NULL</td></tr>",
                            "<tr><td>08070486T</td><td>Matematika gyakorló 2</td><td>NULL</td></tr>",
                            "<tr><td>08070487T</td><td>Matematika gyakorló 3</td><td>NULL</td></tr>",
                            "<tr><td>08070488T</td><td>Matematika gyakorló 4</td><td>NULL</td></tr>",
                            "<tr><td>08070489T</td><td>RAMba zárt világ</td><td>NULL</td></tr>",
                            "<tr><td>08070490T</td><td>Szövegszerkesztés</td><td>NULL</td></tr>",
                            "<tr><td>08070491T</td><td>Szám.tech. kicsiknek</td><td>NULL</td></tr>",
                            "<tr><td>08070492T</td><td>Informatika</td><td>NULL</td></tr>",
                            "<tr><td>08070493T</td><td>Érettségi felv. fel. Matematika</td><td>NULL</td></tr>",
                            "<tr><td>08070494T</td><td>Érettségi felv. fel. Fizika</td><td>NULL</td></tr>",
                            "<tr><td>08070495T</td><td>Érettségi felv. fel. Biológia</td><td>NULL</td></tr>",
                            "<tr><td>G001-KB101</td><td>gyermek kabát (fiú)</td><td>NULL</td></tr>",
                            "<tr><td>G041-AL211</td><td>fiú ünneplős ruha</td><td>NULL</td></tr>",
                            "<tr><td>G064-CI401</td><td>gyermek szandál (fiú)</td><td>NULL</td></tr>",
                            "<tr><td>G073-CI410</td><td>gyermek cipő (fiú)</td><td>NULL</td></tr>",
                            "<tr><td>G082-CI419</td><td>gyermek csizma (fiú)</td><td>NULL</td></tr>",
                            "<tr><td>L041-AL211</td><td>lány ünneplős ruha</td><td>NULL</td></tr>",
                            "<tr><td>L064-CI401</td><td>gyermek szandál (lány)</td><td>NULL</td></tr>",
                            "<tr><td>L073-CI410</td><td>gyermek cipő (lány)</td><td>NULL</td></tr>",
                            "<tr><td>L082-CI419</td><td>gyermek csizma (lány)</td><td>NULL</td></tr>",
                            "</table>"
                        ]
                    }
                }
            ],
            "execution_count": 2
        },
        {
            "cell_type": "markdown",
            "source": [
                "3 legdrágább termék"
            ],
            "metadata": {
                "azdata_cell_guid": "93f3845b-d73c-4631-8159-f9924878995b"
            },
            "attachments": {}
        },
        {
            "cell_type": "code",
            "source": [
                "SELECT TOP 3 TERMEKKOD AS 'Termékkód',\r\n",
                "    MEGNEVEZES AS 'Megnevezés',\r\n",
                "    LISTAAR AS 'Listaár'\r\n",
                "FROM Termek\r\n",
                "ORDER BY LISTAAR DESC"
            ],
            "metadata": {
                "azdata_cell_guid": "78d43063-c146-4b60-8456-587dd4bf2f33",
                "language": "sql"
            },
            "outputs": [
                {
                    "output_type": "display_data",
                    "data": {
                        "text/html": "(3 rows affected)"
                    },
                    "metadata": {}
                },
                {
                    "output_type": "display_data",
                    "data": {
                        "text/html": "Total execution time: 00:00:00.035"
                    },
                    "metadata": {}
                },
                {
                    "output_type": "execute_result",
                    "execution_count": 43,
                    "data": {
                        "application/vnd.dataresource+json": {
                            "schema": {
                                "fields": [
                                    {
                                        "name": "Termékkód"
                                    },
                                    {
                                        "name": "Megnevezés"
                                    },
                                    {
                                        "name": "Listaár"
                                    }
                                ]
                            },
                            "data": [
                                {
                                    "Termékkód": "N039-AL222",
                                    "Megnevezés": "kosztüm (hosszú)",
                                    "Listaár": "46000"
                                },
                                {
                                    "Termékkód": "N035-AL218",
                                    "Megnevezés": "kosztüm (rövid)",
                                    "Listaár": "39000"
                                },
                                {
                                    "Termékkód": "N029-AL212",
                                    "Megnevezés": "női koktélruha",
                                    "Listaár": "32000"
                                }
                            ]
                        },
                        "text/html": "<table><tr><th>Termékkód</th><th>Megnevezés</th><th>Listaár</th></tr><tr><td>N039-AL222</td><td>kosztüm (hosszú)</td><td>46000</td></tr><tr><td>N035-AL218</td><td>kosztüm (rövid)</td><td>39000</td></tr><tr><td>N029-AL212</td><td>női koktélruha</td><td>32000</td></tr></table>"
                    },
                    "metadata": {}
                }
            ],
            "execution_count": 43
        },
        {
            "cell_type": "markdown",
            "source": [
                "Személyenként felvitt termékek mennyisége"
            ],
            "metadata": {
                "azdata_cell_guid": "7ed3fc5d-3105-4806-bbf4-3cd75d1e3e0f"
            },
            "attachments": {}
        },
        {
            "cell_type": "code",
            "source": [
                "SELECT FELVITTE AS 'Felvivő',\r\n",
                "       COUNT(TERMEKKOD) AS 'Felvitt termék mennyisége'\r\n",
                "FROM Termek\r\n",
                "GROUP BY FELVITTE"
            ],
            "metadata": {
                "azdata_cell_guid": "6c59c711-5092-447b-bef2-c2df67655633",
                "language": "sql"
            },
            "outputs": [
                {
                    "output_type": "display_data",
                    "data": {
                        "text/html": "(3 rows affected)"
                    },
                    "metadata": {}
                },
                {
                    "output_type": "display_data",
                    "data": {
                        "text/html": "Total execution time: 00:00:00.034"
                    },
                    "metadata": {}
                },
                {
                    "output_type": "execute_result",
                    "execution_count": 44,
                    "data": {
                        "application/vnd.dataresource+json": {
                            "schema": {
                                "fields": [
                                    {
                                        "name": "Felvivő"
                                    },
                                    {
                                        "name": "Felvitt termék mennyisége"
                                    }
                                ]
                            },
                            "data": [
                                {
                                    "Felvivő": "Béla",
                                    "Felvitt termék mennyisége": "189"
                                },
                                {
                                    "Felvivő": "Mari",
                                    "Felvitt termék mennyisége": "174"
                                },
                                {
                                    "Felvivő": "Sára",
                                    "Felvitt termék mennyisége": "188"
                                }
                            ]
                        },
                        "text/html": "<table><tr><th>Felvivő</th><th>Felvitt termék mennyisége</th></tr><tr><td>Béla</td><td>189</td></tr><tr><td>Mari</td><td>174</td></tr><tr><td>Sára</td><td>188</td></tr></table>"
                    },
                    "metadata": {}
                }
            ],
            "execution_count": 44
        },
        {
            "cell_type": "markdown",
            "source": [
                "![](data:image/png;base64,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)"
            ],
            "metadata": {
                "azdata_cell_guid": "ac87a475-dd09-49ff-b0e8-8dfc61f6df72"
            },
            "attachments": {}
        },
        {
            "cell_type": "markdown",
            "source": [
                "Havi átlagár"
            ],
            "metadata": {
                "azdata_cell_guid": "4f8835cc-47bd-425d-b4bb-7ad086c40926"
            },
            "attachments": {}
        },
        {
            "cell_type": "code",
            "source": [
                "SELECT MONTH(FELVITEL) AS 'Felvitel hónapja',\r\n",
                "       ROUND(AVG(LISTAAR), 0) AS 'Havi átlagár'\r\n",
                "FROM Termek\r\n",
                "GROUP BY MONTH(FELVITEL)"
            ],
            "metadata": {
                "azdata_cell_guid": "33efff04-3f2c-42de-840b-7abfb98c0db4",
                "language": "sql",
                "tags": []
            },
            "outputs": [
                {
                    "output_type": "display_data",
                    "data": {
                        "text/html": "(4 rows affected)"
                    },
                    "metadata": {}
                },
                {
                    "output_type": "display_data",
                    "data": {
                        "text/html": "Total execution time: 00:00:00.041"
                    },
                    "metadata": {}
                },
                {
                    "output_type": "execute_result",
                    "metadata": {},
                    "execution_count": 6,
                    "data": {
                        "application/vnd.dataresource+json": {
                            "schema": {
                                "fields": [
                                    {
                                        "name": "Felvitel hónapja"
                                    },
                                    {
                                        "name": "Havi átlagár"
                                    }
                                ]
                            },
                            "data": [
                                {
                                    "Felvitel hónapja": "7",
                                    "Havi átlagár": "773"
                                },
                                {
                                    "Felvitel hónapja": "8",
                                    "Havi átlagár": "816"
                                },
                                {
                                    "Felvitel hónapja": "9",
                                    "Havi átlagár": "353"
                                },
                                {
                                    "Felvitel hónapja": "12",
                                    "Havi átlagár": "12"
                                }
                            ]
                        },
                        "text/html": [
                            "<table>",
                            "<tr><th>Felvitel hónapja</th><th>Havi átlagár</th></tr>",
                            "<tr><td>7</td><td>773</td></tr>",
                            "<tr><td>8</td><td>816</td></tr>",
                            "<tr><td>9</td><td>353</td></tr>",
                            "<tr><td>12</td><td>12</td></tr>",
                            "</table>"
                        ]
                    }
                }
            ],
            "execution_count": 6
        },
        {
            "cell_type": "markdown",
            "source": [
                "![](data:image/png;base64,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)"
            ],
            "metadata": {
                "azdata_cell_guid": "9c1612ee-6d98-4633-a6ce-3a621ee2f8fe"
            },
            "attachments": {}
        },
        {
            "cell_type": "markdown",
            "source": [
                "Készlethiányos termékek"
            ],
            "metadata": {
                "azdata_cell_guid": "21a89b43-985f-45ce-8b77-8c0629ea8d92"
            },
            "attachments": {}
        },
        {
            "cell_type": "code",
            "source": [
                "SELECT TERMEKKOD AS 'Termékkód',\r\n",
                "       MEGNEVEZES AS 'Megnevezés'\r\n",
                "FROM Termek\r\n",
                "WHERE KESZLET = 0"
            ],
            "metadata": {
                "azdata_cell_guid": "150bcea3-a123-47a7-938e-d6cbd8776855",
                "language": "sql",
                "tags": []
            },
            "outputs": [
                {
                    "output_type": "display_data",
                    "data": {
                        "text/html": "(2 rows affected)"
                    },
                    "metadata": {}
                },
                {
                    "output_type": "display_data",
                    "data": {
                        "text/html": "Total execution time: 00:00:00.038"
                    },
                    "metadata": {}
                },
                {
                    "output_type": "execute_result",
                    "execution_count": 45,
                    "data": {
                        "application/vnd.dataresource+json": {
                            "schema": {
                                "fields": [
                                    {
                                        "name": "Termékkód"
                                    },
                                    {
                                        "name": "Megnevezés"
                                    }
                                ]
                            },
                            "data": [
                                {
                                    "Termékkód": "06040352T",
                                    "Megnevezés": "Rovatolt papír 20 íves"
                                },
                                {
                                    "Termékkód": "06080259T",
                                    "Megnevezés": "Leckefüzet"
                                }
                            ]
                        },
                        "text/html": "<table><tr><th>Termékkód</th><th>Megnevezés</th></tr><tr><td>06040352T</td><td>Rovatolt papír 20 íves</td></tr><tr><td>06080259T</td><td>Leckefüzet</td></tr></table>"
                    },
                    "metadata": {}
                }
            ],
            "execution_count": 45
        }
    ]
}