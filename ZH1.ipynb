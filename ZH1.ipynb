{
    "metadata": {
        "kernelspec": {
            "name": "SQL",
            "display_name": "SQL",
            "language": "sql"
        },
        "language_info": {
            "name": "sql",
            "version": ""
        }
    },
    "nbformat_minor": 2,
    "nbformat": 4,
    "cells": [
        {
            "cell_type": "code",
            "source": [
                "SELECT szh.SZALLAS_ID, \r\n",
                "        szh.SZALLAS_NEV,\r\n",
                "        COUNT(sz.KLIMAS) AS 'Klímás szobák száma'\r\n",
                "FROM Szallashely szh JOIN Szoba sz ON szh.SZALLAS_ID = sz.SZALLAS_FK\r\n",
                "WHERE sz.KLIMAS = 'i'\r\n",
                "GROUP BY szh.SZALLAS_ID, \r\n",
                "        szh.SZALLAS_NEV\r\n",
                ""
            ],
            "metadata": {
                "azdata_cell_guid": "f0dba605-0bc8-439e-9241-aa25c1ed613c",
                "language": "sql"
            },
            "outputs": [
                {
                    "output_type": "display_data",
                    "data": {
                        "text/html": "(20 rows affected)"
                    },
                    "metadata": {}
                },
                {
                    "output_type": "display_data",
                    "data": {
                        "text/html": "Total execution time: 00:00:00.005"
                    },
                    "metadata": {}
                },
                {
                    "output_type": "execute_result",
                    "metadata": {},
                    "execution_count": 24,
                    "data": {
                        "application/vnd.dataresource+json": {
                            "schema": {
                                "fields": [
                                    {
                                        "name": "SZALLAS_ID"
                                    },
                                    {
                                        "name": "SZALLAS_NEV"
                                    },
                                    {
                                        "name": "Klímás szobák száma"
                                    }
                                ]
                            },
                            "data": [
                                {
                                    "SZALLAS_ID": "1",
                                    "SZALLAS_NEV": "Sába-Ház",
                                    "Klímás szobák száma": "10"
                                },
                                {
                                    "SZALLAS_ID": "2",
                                    "SZALLAS_NEV": "Családi Ház",
                                    "Klímás szobák száma": "4"
                                },
                                {
                                    "SZALLAS_ID": "3",
                                    "SZALLAS_NEV": "Fortuna Apartman",
                                    "Klímás szobák száma": "5"
                                },
                                {
                                    "SZALLAS_ID": "4",
                                    "SZALLAS_NEV": "Fortuna panzió",
                                    "Klímás szobák száma": "12"
                                },
                                {
                                    "SZALLAS_ID": "5",
                                    "SZALLAS_NEV": "Fortuna Panzió",
                                    "Klímás szobák száma": "8"
                                },
                                {
                                    "SZALLAS_ID": "6",
                                    "SZALLAS_NEV": "Kentaur Hotel",
                                    "Klímás szobák száma": "22"
                                },
                                {
                                    "SZALLAS_ID": "7",
                                    "SZALLAS_NEV": "Szieszta Apartmanház",
                                    "Klímás szobák száma": "4"
                                },
                                {
                                    "SZALLAS_ID": "8",
                                    "SZALLAS_NEV": "Hotel Három Hattyú",
                                    "Klímás szobák száma": "28"
                                },
                                {
                                    "SZALLAS_ID": "9",
                                    "SZALLAS_NEV": "Jáde panzió",
                                    "Klímás szobák száma": "2"
                                },
                                {
                                    "SZALLAS_ID": "10",
                                    "SZALLAS_NEV": "Lagúna Hotel",
                                    "Klímás szobák száma": "15"
                                },
                                {
                                    "SZALLAS_ID": "11",
                                    "SZALLAS_NEV": "Partiszél Vendégház",
                                    "Klímás szobák száma": "4"
                                },
                                {
                                    "SZALLAS_ID": "12",
                                    "SZALLAS_NEV": "Gold Hotel",
                                    "Klímás szobák száma": "42"
                                },
                                {
                                    "SZALLAS_ID": "13",
                                    "SZALLAS_NEV": "Riviéra Panzió",
                                    "Klímás szobák száma": "8"
                                },
                                {
                                    "SZALLAS_ID": "14",
                                    "SZALLAS_NEV": "Nyárfás Vendégház",
                                    "Klímás szobák száma": "4"
                                },
                                {
                                    "SZALLAS_ID": "15",
                                    "SZALLAS_NEV": "Tímárház Panzió",
                                    "Klímás szobák száma": "9"
                                },
                                {
                                    "SZALLAS_ID": "16",
                                    "SZALLAS_NEV": "Bagoly Hotel",
                                    "Klímás szobák száma": "14"
                                },
                                {
                                    "SZALLAS_ID": "17",
                                    "SZALLAS_NEV": "Szarvas Hotel",
                                    "Klímás szobák száma": "11"
                                },
                                {
                                    "SZALLAS_ID": "18",
                                    "SZALLAS_NEV": "Fortuna Apartman",
                                    "Klímás szobák száma": "2"
                                },
                                {
                                    "SZALLAS_ID": "19",
                                    "SZALLAS_NEV": "Nyárfás Vendégház",
                                    "Klímás szobák száma": "2"
                                },
                                {
                                    "SZALLAS_ID": "20",
                                    "SZALLAS_NEV": "Kollégium",
                                    "Klímás szobák száma": "9"
                                }
                            ]
                        },
                        "text/html": [
                            "<table>",
                            "<tr><th>SZALLAS_ID</th><th>SZALLAS_NEV</th><th>Klímás szobák száma</th></tr>",
                            "<tr><td>1</td><td>Sába-Ház</td><td>10</td></tr>",
                            "<tr><td>2</td><td>Családi Ház</td><td>4</td></tr>",
                            "<tr><td>3</td><td>Fortuna Apartman</td><td>5</td></tr>",
                            "<tr><td>4</td><td>Fortuna panzió</td><td>12</td></tr>",
                            "<tr><td>5</td><td>Fortuna Panzió</td><td>8</td></tr>",
                            "<tr><td>6</td><td>Kentaur Hotel</td><td>22</td></tr>",
                            "<tr><td>7</td><td>Szieszta Apartmanház</td><td>4</td></tr>",
                            "<tr><td>8</td><td>Hotel Három Hattyú</td><td>28</td></tr>",
                            "<tr><td>9</td><td>Jáde panzió</td><td>2</td></tr>",
                            "<tr><td>10</td><td>Lagúna Hotel</td><td>15</td></tr>",
                            "<tr><td>11</td><td>Partiszél Vendégház</td><td>4</td></tr>",
                            "<tr><td>12</td><td>Gold Hotel</td><td>42</td></tr>",
                            "<tr><td>13</td><td>Riviéra Panzió</td><td>8</td></tr>",
                            "<tr><td>14</td><td>Nyárfás Vendégház</td><td>4</td></tr>",
                            "<tr><td>15</td><td>Tímárház Panzió</td><td>9</td></tr>",
                            "<tr><td>16</td><td>Bagoly Hotel</td><td>14</td></tr>",
                            "<tr><td>17</td><td>Szarvas Hotel</td><td>11</td></tr>",
                            "<tr><td>18</td><td>Fortuna Apartman</td><td>2</td></tr>",
                            "<tr><td>19</td><td>Nyárfás Vendégház</td><td>2</td></tr>",
                            "<tr><td>20</td><td>Kollégium</td><td>9</td></tr>",
                            "</table>"
                        ]
                    }
                }
            ],
            "execution_count": 24
        },
        {
            "cell_type": "code",
            "source": [
                "SELECT szh.SZALLAS_NEV,\r\n",
                "       sz.SZOBA_SZAMA,\r\n",
                "        COUNT(f.FOGLALAS_PK) AS 'Foglalások száma'\r\n",
                "FROM Szoba sz JOIN szallashely szh ON sz.SZALLAS_FK = szh.SZALLAS_ID\r\n",
                "              LEFT JOIN Foglalas f ON sz.SZOBA_ID = f.SZOBA_FK\r\n",
                "WHERE f.FOGLALAS_PK IS NOT NULL\r\n",
                "GROUP BY szh.SZALLAS_NEV, sz.SZOBA_SZAMA"
            ],
            "metadata": {
                "azdata_cell_guid": "535686bf-09a3-488f-9006-11fc29558934",
                "language": "sql",
                "tags": []
            },
            "outputs": [
                {
                    "output_type": "display_data",
                    "data": {
                        "text/html": "(187 rows affected)"
                    },
                    "metadata": {}
                },
                {
                    "output_type": "display_data",
                    "data": {
                        "text/html": "Total execution time: 00:00:00.022"
                    },
                    "metadata": {}
                },
                {
                    "output_type": "execute_result",
                    "metadata": {},
                    "execution_count": 17,
                    "data": {
                        "application/vnd.dataresource+json": {
                            "schema": {
                                "fields": [
                                    {
                                        "name": "SZALLAS_NEV"
                                    },
                                    {
                                        "name": "SZOBA_SZAMA"
                                    },
                                    {
                                        "name": "Foglalások száma"
                                    }
                                ]
                            },
                            "data": [
                                {
                                    "SZALLAS_NEV": "Családi Ház",
                                    "SZOBA_SZAMA": "1",
                                    "Foglalások száma": "4"
                                },
                                {
                                    "SZALLAS_NEV": "Fortuna Apartman",
                                    "SZOBA_SZAMA": "1",
                                    "Foglalások száma": "6"
                                },
                                {
                                    "SZALLAS_NEV": "Fortuna Panzió",
                                    "SZOBA_SZAMA": "1",
                                    "Foglalások száma": "6"
                                },
                                {
                                    "SZALLAS_NEV": "Gold Hotel",
                                    "SZOBA_SZAMA": "1",
                                    "Foglalások száma": "7"
                                },
                                {
                                    "SZALLAS_NEV": "Hotel Három Hattyú",
                                    "SZOBA_SZAMA": "1",
                                    "Foglalások száma": "4"
                                },
                                {
                                    "SZALLAS_NEV": "Jáde panzió",
                                    "SZOBA_SZAMA": "1",
                                    "Foglalások száma": "6"
                                },
                                {
                                    "SZALLAS_NEV": "Kentaur Hotel",
                                    "SZOBA_SZAMA": "1",
                                    "Foglalások száma": "4"
                                },
                                {
                                    "SZALLAS_NEV": "Lagúna Hotel",
                                    "SZOBA_SZAMA": "1",
                                    "Foglalások száma": "3"
                                },
                                {
                                    "SZALLAS_NEV": "Partiszél Vendégház",
                                    "SZOBA_SZAMA": "1",
                                    "Foglalások száma": "5"
                                },
                                {
                                    "SZALLAS_NEV": "Sába-Ház",
                                    "SZOBA_SZAMA": "1",
                                    "Foglalások száma": "8"
                                },
                                {
                                    "SZALLAS_NEV": "Szieszta Apartmanház",
                                    "SZOBA_SZAMA": "1",
                                    "Foglalások száma": "4"
                                },
                                {
                                    "SZALLAS_NEV": "Fortuna Panzió",
                                    "SZOBA_SZAMA": "10",
                                    "Foglalások száma": "11"
                                },
                                {
                                    "SZALLAS_NEV": "Gold Hotel",
                                    "SZOBA_SZAMA": "10",
                                    "Foglalások száma": "4"
                                },
                                {
                                    "SZALLAS_NEV": "Hotel Három Hattyú",
                                    "SZOBA_SZAMA": "10",
                                    "Foglalások száma": "4"
                                },
                                {
                                    "SZALLAS_NEV": "Kentaur Hotel",
                                    "SZOBA_SZAMA": "10",
                                    "Foglalások száma": "7"
                                },
                                {
                                    "SZALLAS_NEV": "Lagúna Hotel",
                                    "SZOBA_SZAMA": "10",
                                    "Foglalások száma": "5"
                                },
                                {
                                    "SZALLAS_NEV": "Sába-Ház",
                                    "SZOBA_SZAMA": "10",
                                    "Foglalások száma": "4"
                                },
                                {
                                    "SZALLAS_NEV": "Fortuna panzió",
                                    "SZOBA_SZAMA": "11",
                                    "Foglalások száma": "9"
                                },
                                {
                                    "SZALLAS_NEV": "Gold Hotel",
                                    "SZOBA_SZAMA": "11",
                                    "Foglalások száma": "5"
                                },
                                {
                                    "SZALLAS_NEV": "Hotel Három Hattyú",
                                    "SZOBA_SZAMA": "11",
                                    "Foglalások száma": "3"
                                },
                                {
                                    "SZALLAS_NEV": "Kentaur Hotel",
                                    "SZOBA_SZAMA": "11",
                                    "Foglalások száma": "1"
                                },
                                {
                                    "SZALLAS_NEV": "Lagúna Hotel",
                                    "SZOBA_SZAMA": "11",
                                    "Foglalások száma": "6"
                                },
                                {
                                    "SZALLAS_NEV": "Sába-Ház",
                                    "SZOBA_SZAMA": "11",
                                    "Foglalások száma": "4"
                                },
                                {
                                    "SZALLAS_NEV": "Fortuna panzió",
                                    "SZOBA_SZAMA": "12",
                                    "Foglalások száma": "6"
                                },
                                {
                                    "SZALLAS_NEV": "Gold Hotel",
                                    "SZOBA_SZAMA": "12",
                                    "Foglalások száma": "6"
                                },
                                {
                                    "SZALLAS_NEV": "Hotel Három Hattyú",
                                    "SZOBA_SZAMA": "12",
                                    "Foglalások száma": "2"
                                },
                                {
                                    "SZALLAS_NEV": "Kentaur Hotel",
                                    "SZOBA_SZAMA": "12",
                                    "Foglalások száma": "5"
                                },
                                {
                                    "SZALLAS_NEV": "Lagúna Hotel",
                                    "SZOBA_SZAMA": "12",
                                    "Foglalások száma": "6"
                                },
                                {
                                    "SZALLAS_NEV": "Sába-Ház",
                                    "SZOBA_SZAMA": "12",
                                    "Foglalások száma": "9"
                                },
                                {
                                    "SZALLAS_NEV": "Fortuna panzió",
                                    "SZOBA_SZAMA": "13",
                                    "Foglalások száma": "3"
                                },
                                {
                                    "SZALLAS_NEV": "Gold Hotel",
                                    "SZOBA_SZAMA": "13",
                                    "Foglalások száma": "4"
                                },
                                {
                                    "SZALLAS_NEV": "Hotel Három Hattyú",
                                    "SZOBA_SZAMA": "13",
                                    "Foglalások száma": "4"
                                },
                                {
                                    "SZALLAS_NEV": "Kentaur Hotel",
                                    "SZOBA_SZAMA": "13",
                                    "Foglalások száma": "5"
                                },
                                {
                                    "SZALLAS_NEV": "Lagúna Hotel",
                                    "SZOBA_SZAMA": "13",
                                    "Foglalások száma": "1"
                                },
                                {
                                    "SZALLAS_NEV": "Fortuna panzió",
                                    "SZOBA_SZAMA": "14",
                                    "Foglalások száma": "8"
                                },
                                {
                                    "SZALLAS_NEV": "Gold Hotel",
                                    "SZOBA_SZAMA": "14",
                                    "Foglalások száma": "4"
                                },
                                {
                                    "SZALLAS_NEV": "Hotel Három Hattyú",
                                    "SZOBA_SZAMA": "14",
                                    "Foglalások száma": "4"
                                },
                                {
                                    "SZALLAS_NEV": "Kentaur Hotel",
                                    "SZOBA_SZAMA": "14",
                                    "Foglalások száma": "4"
                                },
                                {
                                    "SZALLAS_NEV": "Lagúna Hotel",
                                    "SZOBA_SZAMA": "14",
                                    "Foglalások száma": "6"
                                },
                                {
                                    "SZALLAS_NEV": "Fortuna panzió",
                                    "SZOBA_SZAMA": "15",
                                    "Foglalások száma": "7"
                                },
                                {
                                    "SZALLAS_NEV": "Gold Hotel",
                                    "SZOBA_SZAMA": "15",
                                    "Foglalások száma": "3"
                                },
                                {
                                    "SZALLAS_NEV": "Hotel Három Hattyú",
                                    "SZOBA_SZAMA": "15",
                                    "Foglalások száma": "2"
                                },
                                {
                                    "SZALLAS_NEV": "Kentaur Hotel",
                                    "SZOBA_SZAMA": "15",
                                    "Foglalások száma": "6"
                                },
                                {
                                    "SZALLAS_NEV": "Lagúna Hotel",
                                    "SZOBA_SZAMA": "15",
                                    "Foglalások száma": "7"
                                },
                                {
                                    "SZALLAS_NEV": "Gold Hotel",
                                    "SZOBA_SZAMA": "16",
                                    "Foglalások száma": "3"
                                },
                                {
                                    "SZALLAS_NEV": "Hotel Három Hattyú",
                                    "SZOBA_SZAMA": "16",
                                    "Foglalások száma": "6"
                                },
                                {
                                    "SZALLAS_NEV": "Kentaur Hotel",
                                    "SZOBA_SZAMA": "16",
                                    "Foglalások száma": "1"
                                },
                                {
                                    "SZALLAS_NEV": "Lagúna Hotel",
                                    "SZOBA_SZAMA": "16",
                                    "Foglalások száma": "6"
                                },
                                {
                                    "SZALLAS_NEV": "Gold Hotel",
                                    "SZOBA_SZAMA": "17",
                                    "Foglalások száma": "6"
                                },
                                {
                                    "SZALLAS_NEV": "Hotel Három Hattyú",
                                    "SZOBA_SZAMA": "17",
                                    "Foglalások száma": "5"
                                },
                                {
                                    "SZALLAS_NEV": "Kentaur Hotel",
                                    "SZOBA_SZAMA": "17",
                                    "Foglalások száma": "4"
                                },
                                {
                                    "SZALLAS_NEV": "Lagúna Hotel",
                                    "SZOBA_SZAMA": "17",
                                    "Foglalások száma": "3"
                                },
                                {
                                    "SZALLAS_NEV": "Gold Hotel",
                                    "SZOBA_SZAMA": "18",
                                    "Foglalások száma": "12"
                                },
                                {
                                    "SZALLAS_NEV": "Hotel Három Hattyú",
                                    "SZOBA_SZAMA": "18",
                                    "Foglalások száma": "2"
                                },
                                {
                                    "SZALLAS_NEV": "Kentaur Hotel",
                                    "SZOBA_SZAMA": "18",
                                    "Foglalások száma": "6"
                                },
                                {
                                    "SZALLAS_NEV": "Lagúna Hotel",
                                    "SZOBA_SZAMA": "18",
                                    "Foglalások száma": "4"
                                },
                                {
                                    "SZALLAS_NEV": "Gold Hotel",
                                    "SZOBA_SZAMA": "19",
                                    "Foglalások száma": "4"
                                },
                                {
                                    "SZALLAS_NEV": "Hotel Három Hattyú",
                                    "SZOBA_SZAMA": "19",
                                    "Foglalások száma": "7"
                                },
                                {
                                    "SZALLAS_NEV": "Kentaur Hotel",
                                    "SZOBA_SZAMA": "19",
                                    "Foglalások száma": "3"
                                },
                                {
                                    "SZALLAS_NEV": "Lagúna Hotel",
                                    "SZOBA_SZAMA": "19",
                                    "Foglalások száma": "5"
                                },
                                {
                                    "SZALLAS_NEV": "Családi Ház",
                                    "SZOBA_SZAMA": "2",
                                    "Foglalások száma": "3"
                                },
                                {
                                    "SZALLAS_NEV": "Fortuna Apartman",
                                    "SZOBA_SZAMA": "2",
                                    "Foglalások száma": "6"
                                },
                                {
                                    "SZALLAS_NEV": "Fortuna Panzió",
                                    "SZOBA_SZAMA": "2",
                                    "Foglalások száma": "4"
                                },
                                {
                                    "SZALLAS_NEV": "Gold Hotel",
                                    "SZOBA_SZAMA": "2",
                                    "Foglalások száma": "3"
                                },
                                {
                                    "SZALLAS_NEV": "Hotel Három Hattyú",
                                    "SZOBA_SZAMA": "2",
                                    "Foglalások száma": "6"
                                },
                                {
                                    "SZALLAS_NEV": "Jáde panzió",
                                    "SZOBA_SZAMA": "2",
                                    "Foglalások száma": "5"
                                },
                                {
                                    "SZALLAS_NEV": "Kentaur Hotel",
                                    "SZOBA_SZAMA": "2",
                                    "Foglalások száma": "5"
                                },
                                {
                                    "SZALLAS_NEV": "Lagúna Hotel",
                                    "SZOBA_SZAMA": "2",
                                    "Foglalások száma": "3"
                                },
                                {
                                    "SZALLAS_NEV": "Partiszél Vendégház",
                                    "SZOBA_SZAMA": "2",
                                    "Foglalások száma": "6"
                                },
                                {
                                    "SZALLAS_NEV": "Sába-Ház",
                                    "SZOBA_SZAMA": "2",
                                    "Foglalások száma": "4"
                                },
                                {
                                    "SZALLAS_NEV": "Szieszta Apartmanház",
                                    "SZOBA_SZAMA": "2",
                                    "Foglalások száma": "5"
                                },
                                {
                                    "SZALLAS_NEV": "Gold Hotel",
                                    "SZOBA_SZAMA": "20",
                                    "Foglalások száma": "4"
                                },
                                {
                                    "SZALLAS_NEV": "Hotel Három Hattyú",
                                    "SZOBA_SZAMA": "20",
                                    "Foglalások száma": "8"
                                },
                                {
                                    "SZALLAS_NEV": "Kentaur Hotel",
                                    "SZOBA_SZAMA": "20",
                                    "Foglalások száma": "4"
                                },
                                {
                                    "SZALLAS_NEV": "Lagúna Hotel",
                                    "SZOBA_SZAMA": "20",
                                    "Foglalások száma": "5"
                                },
                                {
                                    "SZALLAS_NEV": "Gold Hotel",
                                    "SZOBA_SZAMA": "21",
                                    "Foglalások száma": "12"
                                },
                                {
                                    "SZALLAS_NEV": "Hotel Három Hattyú",
                                    "SZOBA_SZAMA": "21",
                                    "Foglalások száma": "5"
                                },
                                {
                                    "SZALLAS_NEV": "Kentaur Hotel",
                                    "SZOBA_SZAMA": "21",
                                    "Foglalások száma": "11"
                                },
                                {
                                    "SZALLAS_NEV": "Lagúna Hotel",
                                    "SZOBA_SZAMA": "21",
                                    "Foglalások száma": "5"
                                },
                                {
                                    "SZALLAS_NEV": "Gold Hotel",
                                    "SZOBA_SZAMA": "22",
                                    "Foglalások száma": "4"
                                },
                                {
                                    "SZALLAS_NEV": "Hotel Három Hattyú",
                                    "SZOBA_SZAMA": "22",
                                    "Foglalások száma": "5"
                                },
                                {
                                    "SZALLAS_NEV": "Kentaur Hotel",
                                    "SZOBA_SZAMA": "22",
                                    "Foglalások száma": "3"
                                },
                                {
                                    "SZALLAS_NEV": "Lagúna Hotel",
                                    "SZOBA_SZAMA": "22",
                                    "Foglalások száma": "7"
                                },
                                {
                                    "SZALLAS_NEV": "Gold Hotel",
                                    "SZOBA_SZAMA": "23",
                                    "Foglalások száma": "7"
                                },
                                {
                                    "SZALLAS_NEV": "Hotel Három Hattyú",
                                    "SZOBA_SZAMA": "23",
                                    "Foglalások száma": "5"
                                },
                                {
                                    "SZALLAS_NEV": "Kentaur Hotel",
                                    "SZOBA_SZAMA": "23",
                                    "Foglalások száma": "4"
                                },
                                {
                                    "SZALLAS_NEV": "Lagúna Hotel",
                                    "SZOBA_SZAMA": "23",
                                    "Foglalások száma": "5"
                                },
                                {
                                    "SZALLAS_NEV": "Gold Hotel",
                                    "SZOBA_SZAMA": "24",
                                    "Foglalások száma": "6"
                                },
                                {
                                    "SZALLAS_NEV": "Hotel Három Hattyú",
                                    "SZOBA_SZAMA": "24",
                                    "Foglalások száma": "4"
                                },
                                {
                                    "SZALLAS_NEV": "Kentaur Hotel",
                                    "SZOBA_SZAMA": "24",
                                    "Foglalások száma": "4"
                                },
                                {
                                    "SZALLAS_NEV": "Lagúna Hotel",
                                    "SZOBA_SZAMA": "24",
                                    "Foglalások száma": "3"
                                },
                                {
                                    "SZALLAS_NEV": "Gold Hotel",
                                    "SZOBA_SZAMA": "25",
                                    "Foglalások száma": "5"
                                },
                                {
                                    "SZALLAS_NEV": "Hotel Három Hattyú",
                                    "SZOBA_SZAMA": "25",
                                    "Foglalások száma": "7"
                                },
                                {
                                    "SZALLAS_NEV": "Kentaur Hotel",
                                    "SZOBA_SZAMA": "25",
                                    "Foglalások száma": "9"
                                },
                                {
                                    "SZALLAS_NEV": "Gold Hotel",
                                    "SZOBA_SZAMA": "26",
                                    "Foglalások száma": "5"
                                },
                                {
                                    "SZALLAS_NEV": "Hotel Három Hattyú",
                                    "SZOBA_SZAMA": "26",
                                    "Foglalások száma": "2"
                                },
                                {
                                    "SZALLAS_NEV": "Kentaur Hotel",
                                    "SZOBA_SZAMA": "26",
                                    "Foglalások száma": "3"
                                },
                                {
                                    "SZALLAS_NEV": "Gold Hotel",
                                    "SZOBA_SZAMA": "27",
                                    "Foglalások száma": "5"
                                },
                                {
                                    "SZALLAS_NEV": "Hotel Három Hattyú",
                                    "SZOBA_SZAMA": "27",
                                    "Foglalások száma": "8"
                                },
                                {
                                    "SZALLAS_NEV": "Kentaur Hotel",
                                    "SZOBA_SZAMA": "27",
                                    "Foglalások száma": "3"
                                },
                                {
                                    "SZALLAS_NEV": "Gold Hotel",
                                    "SZOBA_SZAMA": "28",
                                    "Foglalások száma": "2"
                                },
                                {
                                    "SZALLAS_NEV": "Hotel Három Hattyú",
                                    "SZOBA_SZAMA": "28",
                                    "Foglalások száma": "7"
                                },
                                {
                                    "SZALLAS_NEV": "Kentaur Hotel",
                                    "SZOBA_SZAMA": "28",
                                    "Foglalások száma": "6"
                                },
                                {
                                    "SZALLAS_NEV": "Gold Hotel",
                                    "SZOBA_SZAMA": "29",
                                    "Foglalások száma": "7"
                                },
                                {
                                    "SZALLAS_NEV": "Hotel Három Hattyú",
                                    "SZOBA_SZAMA": "29",
                                    "Foglalások száma": "5"
                                },
                                {
                                    "SZALLAS_NEV": "Kentaur Hotel",
                                    "SZOBA_SZAMA": "29",
                                    "Foglalások száma": "6"
                                },
                                {
                                    "SZALLAS_NEV": "Családi Ház",
                                    "SZOBA_SZAMA": "3",
                                    "Foglalások száma": "6"
                                },
                                {
                                    "SZALLAS_NEV": "Fortuna Apartman",
                                    "SZOBA_SZAMA": "3",
                                    "Foglalások száma": "6"
                                },
                                {
                                    "SZALLAS_NEV": "Fortuna panzió",
                                    "SZOBA_SZAMA": "3",
                                    "Foglalások száma": "13"
                                },
                                {
                                    "SZALLAS_NEV": "Gold Hotel",
                                    "SZOBA_SZAMA": "3",
                                    "Foglalások száma": "2"
                                },
                                {
                                    "SZALLAS_NEV": "Hotel Három Hattyú",
                                    "SZOBA_SZAMA": "3",
                                    "Foglalások száma": "5"
                                },
                                {
                                    "SZALLAS_NEV": "Jáde panzió",
                                    "SZOBA_SZAMA": "3",
                                    "Foglalások száma": "6"
                                },
                                {
                                    "SZALLAS_NEV": "Kentaur Hotel",
                                    "SZOBA_SZAMA": "3",
                                    "Foglalások száma": "5"
                                },
                                {
                                    "SZALLAS_NEV": "Lagúna Hotel",
                                    "SZOBA_SZAMA": "3",
                                    "Foglalások száma": "6"
                                },
                                {
                                    "SZALLAS_NEV": "Partiszél Vendégház",
                                    "SZOBA_SZAMA": "3",
                                    "Foglalások száma": "3"
                                },
                                {
                                    "SZALLAS_NEV": "Sába-Ház",
                                    "SZOBA_SZAMA": "3",
                                    "Foglalások száma": "8"
                                },
                                {
                                    "SZALLAS_NEV": "Szieszta Apartmanház",
                                    "SZOBA_SZAMA": "3",
                                    "Foglalások száma": "5"
                                },
                                {
                                    "SZALLAS_NEV": "Gold Hotel",
                                    "SZOBA_SZAMA": "30",
                                    "Foglalások száma": "1"
                                },
                                {
                                    "SZALLAS_NEV": "Hotel Három Hattyú",
                                    "SZOBA_SZAMA": "30",
                                    "Foglalások száma": "6"
                                },
                                {
                                    "SZALLAS_NEV": "Kentaur Hotel",
                                    "SZOBA_SZAMA": "30",
                                    "Foglalások száma": "5"
                                },
                                {
                                    "SZALLAS_NEV": "Gold Hotel",
                                    "SZOBA_SZAMA": "31",
                                    "Foglalások száma": "6"
                                },
                                {
                                    "SZALLAS_NEV": "Hotel Három Hattyú",
                                    "SZOBA_SZAMA": "31",
                                    "Foglalások száma": "8"
                                },
                                {
                                    "SZALLAS_NEV": "Kentaur Hotel",
                                    "SZOBA_SZAMA": "31",
                                    "Foglalások száma": "7"
                                },
                                {
                                    "SZALLAS_NEV": "Gold Hotel",
                                    "SZOBA_SZAMA": "32",
                                    "Foglalások száma": "4"
                                },
                                {
                                    "SZALLAS_NEV": "Hotel Három Hattyú",
                                    "SZOBA_SZAMA": "32",
                                    "Foglalások száma": "9"
                                },
                                {
                                    "SZALLAS_NEV": "Kentaur Hotel",
                                    "SZOBA_SZAMA": "32",
                                    "Foglalások száma": "5"
                                },
                                {
                                    "SZALLAS_NEV": "Gold Hotel",
                                    "SZOBA_SZAMA": "33",
                                    "Foglalások száma": "6"
                                },
                                {
                                    "SZALLAS_NEV": "Hotel Három Hattyú",
                                    "SZOBA_SZAMA": "33",
                                    "Foglalások száma": "5"
                                },
                                {
                                    "SZALLAS_NEV": "Kentaur Hotel",
                                    "SZOBA_SZAMA": "33",
                                    "Foglalások száma": "6"
                                },
                                {
                                    "SZALLAS_NEV": "Gold Hotel",
                                    "SZOBA_SZAMA": "34",
                                    "Foglalások száma": "8"
                                },
                                {
                                    "SZALLAS_NEV": "Hotel Három Hattyú",
                                    "SZOBA_SZAMA": "34",
                                    "Foglalások száma": "6"
                                },
                                {
                                    "SZALLAS_NEV": "Kentaur Hotel",
                                    "SZOBA_SZAMA": "34",
                                    "Foglalások száma": "8"
                                },
                                {
                                    "SZALLAS_NEV": "Hotel Három Hattyú",
                                    "SZOBA_SZAMA": "35",
                                    "Foglalások száma": "1"
                                },
                                {
                                    "SZALLAS_NEV": "Kentaur Hotel",
                                    "SZOBA_SZAMA": "35",
                                    "Foglalások száma": "4"
                                },
                                {
                                    "SZALLAS_NEV": "Hotel Három Hattyú",
                                    "SZOBA_SZAMA": "36",
                                    "Foglalások száma": "6"
                                },
                                {
                                    "SZALLAS_NEV": "Hotel Három Hattyú",
                                    "SZOBA_SZAMA": "37",
                                    "Foglalások száma": "7"
                                },
                                {
                                    "SZALLAS_NEV": "Hotel Három Hattyú",
                                    "SZOBA_SZAMA": "38",
                                    "Foglalások száma": "5"
                                },
                                {
                                    "SZALLAS_NEV": "Hotel Három Hattyú",
                                    "SZOBA_SZAMA": "39",
                                    "Foglalások száma": "4"
                                },
                                {
                                    "SZALLAS_NEV": "Családi Ház",
                                    "SZOBA_SZAMA": "4",
                                    "Foglalások száma": "5"
                                },
                                {
                                    "SZALLAS_NEV": "Fortuna Apartman",
                                    "SZOBA_SZAMA": "4",
                                    "Foglalások száma": "5"
                                },
                                {
                                    "SZALLAS_NEV": "Fortuna panzió",
                                    "SZOBA_SZAMA": "4",
                                    "Foglalások száma": "14"
                                },
                                {
                                    "SZALLAS_NEV": "Gold Hotel",
                                    "SZOBA_SZAMA": "4",
                                    "Foglalások száma": "5"
                                },
                                {
                                    "SZALLAS_NEV": "Hotel Három Hattyú",
                                    "SZOBA_SZAMA": "4",
                                    "Foglalások száma": "10"
                                },
                                {
                                    "SZALLAS_NEV": "Jáde panzió",
                                    "SZOBA_SZAMA": "4",
                                    "Foglalások száma": "6"
                                },
                                {
                                    "SZALLAS_NEV": "Kentaur Hotel",
                                    "SZOBA_SZAMA": "4",
                                    "Foglalások száma": "2"
                                },
                                {
                                    "SZALLAS_NEV": "Lagúna Hotel",
                                    "SZOBA_SZAMA": "4",
                                    "Foglalások száma": "7"
                                },
                                {
                                    "SZALLAS_NEV": "Partiszél Vendégház",
                                    "SZOBA_SZAMA": "4",
                                    "Foglalások száma": "7"
                                },
                                {
                                    "SZALLAS_NEV": "Sába-Ház",
                                    "SZOBA_SZAMA": "4",
                                    "Foglalások száma": "6"
                                },
                                {
                                    "SZALLAS_NEV": "Szieszta Apartmanház",
                                    "SZOBA_SZAMA": "4",
                                    "Foglalások száma": "8"
                                },
                                {
                                    "SZALLAS_NEV": "Fortuna Apartman",
                                    "SZOBA_SZAMA": "5",
                                    "Foglalások száma": "4"
                                },
                                {
                                    "SZALLAS_NEV": "Fortuna panzió",
                                    "SZOBA_SZAMA": "5",
                                    "Foglalások száma": "12"
                                },
                                {
                                    "SZALLAS_NEV": "Gold Hotel",
                                    "SZOBA_SZAMA": "5",
                                    "Foglalások száma": "6"
                                },
                                {
                                    "SZALLAS_NEV": "Hotel Három Hattyú",
                                    "SZOBA_SZAMA": "5",
                                    "Foglalások száma": "4"
                                },
                                {
                                    "SZALLAS_NEV": "Jáde panzió",
                                    "SZOBA_SZAMA": "5",
                                    "Foglalások száma": "6"
                                },
                                {
                                    "SZALLAS_NEV": "Kentaur Hotel",
                                    "SZOBA_SZAMA": "5",
                                    "Foglalások száma": "6"
                                },
                                {
                                    "SZALLAS_NEV": "Lagúna Hotel",
                                    "SZOBA_SZAMA": "5",
                                    "Foglalások száma": "7"
                                },
                                {
                                    "SZALLAS_NEV": "Partiszél Vendégház",
                                    "SZOBA_SZAMA": "5",
                                    "Foglalások száma": "5"
                                },
                                {
                                    "SZALLAS_NEV": "Sába-Ház",
                                    "SZOBA_SZAMA": "5",
                                    "Foglalások száma": "4"
                                },
                                {
                                    "SZALLAS_NEV": "Szieszta Apartmanház",
                                    "SZOBA_SZAMA": "5",
                                    "Foglalások száma": "8"
                                },
                                {
                                    "SZALLAS_NEV": "Fortuna Apartman",
                                    "SZOBA_SZAMA": "6",
                                    "Foglalások száma": "6"
                                },
                                {
                                    "SZALLAS_NEV": "Fortuna Panzió",
                                    "SZOBA_SZAMA": "6",
                                    "Foglalások száma": "8"
                                },
                                {
                                    "SZALLAS_NEV": "Gold Hotel",
                                    "SZOBA_SZAMA": "6",
                                    "Foglalások száma": "5"
                                },
                                {
                                    "SZALLAS_NEV": "Hotel Három Hattyú",
                                    "SZOBA_SZAMA": "6",
                                    "Foglalások száma": "7"
                                },
                                {
                                    "SZALLAS_NEV": "Kentaur Hotel",
                                    "SZOBA_SZAMA": "6",
                                    "Foglalások száma": "8"
                                },
                                {
                                    "SZALLAS_NEV": "Lagúna Hotel",
                                    "SZOBA_SZAMA": "6",
                                    "Foglalások száma": "8"
                                },
                                {
                                    "SZALLAS_NEV": "Sába-Ház",
                                    "SZOBA_SZAMA": "6",
                                    "Foglalások száma": "6"
                                },
                                {
                                    "SZALLAS_NEV": "Szieszta Apartmanház",
                                    "SZOBA_SZAMA": "6",
                                    "Foglalások száma": "4"
                                },
                                {
                                    "SZALLAS_NEV": "Fortuna Apartman",
                                    "SZOBA_SZAMA": "7",
                                    "Foglalások száma": "3"
                                },
                                {
                                    "SZALLAS_NEV": "Fortuna panzió",
                                    "SZOBA_SZAMA": "7",
                                    "Foglalások száma": "7"
                                },
                                {
                                    "SZALLAS_NEV": "Gold Hotel",
                                    "SZOBA_SZAMA": "7",
                                    "Foglalások száma": "5"
                                },
                                {
                                    "SZALLAS_NEV": "Hotel Három Hattyú",
                                    "SZOBA_SZAMA": "7",
                                    "Foglalások száma": "7"
                                },
                                {
                                    "SZALLAS_NEV": "Kentaur Hotel",
                                    "SZOBA_SZAMA": "7",
                                    "Foglalások száma": "2"
                                },
                                {
                                    "SZALLAS_NEV": "Lagúna Hotel",
                                    "SZOBA_SZAMA": "7",
                                    "Foglalások száma": "6"
                                },
                                {
                                    "SZALLAS_NEV": "Sába-Ház",
                                    "SZOBA_SZAMA": "7",
                                    "Foglalások száma": "6"
                                },
                                {
                                    "SZALLAS_NEV": "Fortuna Apartman",
                                    "SZOBA_SZAMA": "8",
                                    "Foglalások száma": "3"
                                },
                                {
                                    "SZALLAS_NEV": "Fortuna panzió",
                                    "SZOBA_SZAMA": "8",
                                    "Foglalások száma": "3"
                                },
                                {
                                    "SZALLAS_NEV": "Gold Hotel",
                                    "SZOBA_SZAMA": "8",
                                    "Foglalások száma": "9"
                                },
                                {
                                    "SZALLAS_NEV": "Hotel Három Hattyú",
                                    "SZOBA_SZAMA": "8",
                                    "Foglalások száma": "4"
                                },
                                {
                                    "SZALLAS_NEV": "Kentaur Hotel",
                                    "SZOBA_SZAMA": "8",
                                    "Foglalások száma": "4"
                                },
                                {
                                    "SZALLAS_NEV": "Lagúna Hotel",
                                    "SZOBA_SZAMA": "8",
                                    "Foglalások száma": "2"
                                },
                                {
                                    "SZALLAS_NEV": "Sába-Ház",
                                    "SZOBA_SZAMA": "8",
                                    "Foglalások száma": "5"
                                },
                                {
                                    "SZALLAS_NEV": "Fortuna Panzió",
                                    "SZOBA_SZAMA": "9",
                                    "Foglalások száma": "15"
                                },
                                {
                                    "SZALLAS_NEV": "Gold Hotel",
                                    "SZOBA_SZAMA": "9",
                                    "Foglalások száma": "4"
                                },
                                {
                                    "SZALLAS_NEV": "Hotel Három Hattyú",
                                    "SZOBA_SZAMA": "9",
                                    "Foglalások száma": "5"
                                },
                                {
                                    "SZALLAS_NEV": "Kentaur Hotel",
                                    "SZOBA_SZAMA": "9",
                                    "Foglalások száma": "13"
                                },
                                {
                                    "SZALLAS_NEV": "Lagúna Hotel",
                                    "SZOBA_SZAMA": "9",
                                    "Foglalások száma": "7"
                                },
                                {
                                    "SZALLAS_NEV": "Sába-Ház",
                                    "SZOBA_SZAMA": "9",
                                    "Foglalások száma": "6"
                                }
                            ]
                        },
                        "text/html": [
                            "<table>",
                            "<tr><th>SZALLAS_NEV</th><th>SZOBA_SZAMA</th><th>Foglalások száma</th></tr>",
                            "<tr><td>Családi Ház</td><td>1</td><td>4</td></tr>",
                            "<tr><td>Fortuna Apartman</td><td>1</td><td>6</td></tr>",
                            "<tr><td>Fortuna Panzió</td><td>1</td><td>6</td></tr>",
                            "<tr><td>Gold Hotel</td><td>1</td><td>7</td></tr>",
                            "<tr><td>Hotel Három Hattyú</td><td>1</td><td>4</td></tr>",
                            "<tr><td>Jáde panzió</td><td>1</td><td>6</td></tr>",
                            "<tr><td>Kentaur Hotel</td><td>1</td><td>4</td></tr>",
                            "<tr><td>Lagúna Hotel</td><td>1</td><td>3</td></tr>",
                            "<tr><td>Partiszél Vendégház</td><td>1</td><td>5</td></tr>",
                            "<tr><td>Sába-Ház</td><td>1</td><td>8</td></tr>",
                            "<tr><td>Szieszta Apartmanház</td><td>1</td><td>4</td></tr>",
                            "<tr><td>Fortuna Panzió</td><td>10</td><td>11</td></tr>",
                            "<tr><td>Gold Hotel</td><td>10</td><td>4</td></tr>",
                            "<tr><td>Hotel Három Hattyú</td><td>10</td><td>4</td></tr>",
                            "<tr><td>Kentaur Hotel</td><td>10</td><td>7</td></tr>",
                            "<tr><td>Lagúna Hotel</td><td>10</td><td>5</td></tr>",
                            "<tr><td>Sába-Ház</td><td>10</td><td>4</td></tr>",
                            "<tr><td>Fortuna panzió</td><td>11</td><td>9</td></tr>",
                            "<tr><td>Gold Hotel</td><td>11</td><td>5</td></tr>",
                            "<tr><td>Hotel Három Hattyú</td><td>11</td><td>3</td></tr>",
                            "<tr><td>Kentaur Hotel</td><td>11</td><td>1</td></tr>",
                            "<tr><td>Lagúna Hotel</td><td>11</td><td>6</td></tr>",
                            "<tr><td>Sába-Ház</td><td>11</td><td>4</td></tr>",
                            "<tr><td>Fortuna panzió</td><td>12</td><td>6</td></tr>",
                            "<tr><td>Gold Hotel</td><td>12</td><td>6</td></tr>",
                            "<tr><td>Hotel Három Hattyú</td><td>12</td><td>2</td></tr>",
                            "<tr><td>Kentaur Hotel</td><td>12</td><td>5</td></tr>",
                            "<tr><td>Lagúna Hotel</td><td>12</td><td>6</td></tr>",
                            "<tr><td>Sába-Ház</td><td>12</td><td>9</td></tr>",
                            "<tr><td>Fortuna panzió</td><td>13</td><td>3</td></tr>",
                            "<tr><td>Gold Hotel</td><td>13</td><td>4</td></tr>",
                            "<tr><td>Hotel Három Hattyú</td><td>13</td><td>4</td></tr>",
                            "<tr><td>Kentaur Hotel</td><td>13</td><td>5</td></tr>",
                            "<tr><td>Lagúna Hotel</td><td>13</td><td>1</td></tr>",
                            "<tr><td>Fortuna panzió</td><td>14</td><td>8</td></tr>",
                            "<tr><td>Gold Hotel</td><td>14</td><td>4</td></tr>",
                            "<tr><td>Hotel Három Hattyú</td><td>14</td><td>4</td></tr>",
                            "<tr><td>Kentaur Hotel</td><td>14</td><td>4</td></tr>",
                            "<tr><td>Lagúna Hotel</td><td>14</td><td>6</td></tr>",
                            "<tr><td>Fortuna panzió</td><td>15</td><td>7</td></tr>",
                            "<tr><td>Gold Hotel</td><td>15</td><td>3</td></tr>",
                            "<tr><td>Hotel Három Hattyú</td><td>15</td><td>2</td></tr>",
                            "<tr><td>Kentaur Hotel</td><td>15</td><td>6</td></tr>",
                            "<tr><td>Lagúna Hotel</td><td>15</td><td>7</td></tr>",
                            "<tr><td>Gold Hotel</td><td>16</td><td>3</td></tr>",
                            "<tr><td>Hotel Három Hattyú</td><td>16</td><td>6</td></tr>",
                            "<tr><td>Kentaur Hotel</td><td>16</td><td>1</td></tr>",
                            "<tr><td>Lagúna Hotel</td><td>16</td><td>6</td></tr>",
                            "<tr><td>Gold Hotel</td><td>17</td><td>6</td></tr>",
                            "<tr><td>Hotel Három Hattyú</td><td>17</td><td>5</td></tr>",
                            "<tr><td>Kentaur Hotel</td><td>17</td><td>4</td></tr>",
                            "<tr><td>Lagúna Hotel</td><td>17</td><td>3</td></tr>",
                            "<tr><td>Gold Hotel</td><td>18</td><td>12</td></tr>",
                            "<tr><td>Hotel Három Hattyú</td><td>18</td><td>2</td></tr>",
                            "<tr><td>Kentaur Hotel</td><td>18</td><td>6</td></tr>",
                            "<tr><td>Lagúna Hotel</td><td>18</td><td>4</td></tr>",
                            "<tr><td>Gold Hotel</td><td>19</td><td>4</td></tr>",
                            "<tr><td>Hotel Három Hattyú</td><td>19</td><td>7</td></tr>",
                            "<tr><td>Kentaur Hotel</td><td>19</td><td>3</td></tr>",
                            "<tr><td>Lagúna Hotel</td><td>19</td><td>5</td></tr>",
                            "<tr><td>Családi Ház</td><td>2</td><td>3</td></tr>",
                            "<tr><td>Fortuna Apartman</td><td>2</td><td>6</td></tr>",
                            "<tr><td>Fortuna Panzió</td><td>2</td><td>4</td></tr>",
                            "<tr><td>Gold Hotel</td><td>2</td><td>3</td></tr>",
                            "<tr><td>Hotel Három Hattyú</td><td>2</td><td>6</td></tr>",
                            "<tr><td>Jáde panzió</td><td>2</td><td>5</td></tr>",
                            "<tr><td>Kentaur Hotel</td><td>2</td><td>5</td></tr>",
                            "<tr><td>Lagúna Hotel</td><td>2</td><td>3</td></tr>",
                            "<tr><td>Partiszél Vendégház</td><td>2</td><td>6</td></tr>",
                            "<tr><td>Sába-Ház</td><td>2</td><td>4</td></tr>",
                            "<tr><td>Szieszta Apartmanház</td><td>2</td><td>5</td></tr>",
                            "<tr><td>Gold Hotel</td><td>20</td><td>4</td></tr>",
                            "<tr><td>Hotel Három Hattyú</td><td>20</td><td>8</td></tr>",
                            "<tr><td>Kentaur Hotel</td><td>20</td><td>4</td></tr>",
                            "<tr><td>Lagúna Hotel</td><td>20</td><td>5</td></tr>",
                            "<tr><td>Gold Hotel</td><td>21</td><td>12</td></tr>",
                            "<tr><td>Hotel Három Hattyú</td><td>21</td><td>5</td></tr>",
                            "<tr><td>Kentaur Hotel</td><td>21</td><td>11</td></tr>",
                            "<tr><td>Lagúna Hotel</td><td>21</td><td>5</td></tr>",
                            "<tr><td>Gold Hotel</td><td>22</td><td>4</td></tr>",
                            "<tr><td>Hotel Három Hattyú</td><td>22</td><td>5</td></tr>",
                            "<tr><td>Kentaur Hotel</td><td>22</td><td>3</td></tr>",
                            "<tr><td>Lagúna Hotel</td><td>22</td><td>7</td></tr>",
                            "<tr><td>Gold Hotel</td><td>23</td><td>7</td></tr>",
                            "<tr><td>Hotel Három Hattyú</td><td>23</td><td>5</td></tr>",
                            "<tr><td>Kentaur Hotel</td><td>23</td><td>4</td></tr>",
                            "<tr><td>Lagúna Hotel</td><td>23</td><td>5</td></tr>",
                            "<tr><td>Gold Hotel</td><td>24</td><td>6</td></tr>",
                            "<tr><td>Hotel Három Hattyú</td><td>24</td><td>4</td></tr>",
                            "<tr><td>Kentaur Hotel</td><td>24</td><td>4</td></tr>",
                            "<tr><td>Lagúna Hotel</td><td>24</td><td>3</td></tr>",
                            "<tr><td>Gold Hotel</td><td>25</td><td>5</td></tr>",
                            "<tr><td>Hotel Három Hattyú</td><td>25</td><td>7</td></tr>",
                            "<tr><td>Kentaur Hotel</td><td>25</td><td>9</td></tr>",
                            "<tr><td>Gold Hotel</td><td>26</td><td>5</td></tr>",
                            "<tr><td>Hotel Három Hattyú</td><td>26</td><td>2</td></tr>",
                            "<tr><td>Kentaur Hotel</td><td>26</td><td>3</td></tr>",
                            "<tr><td>Gold Hotel</td><td>27</td><td>5</td></tr>",
                            "<tr><td>Hotel Három Hattyú</td><td>27</td><td>8</td></tr>",
                            "<tr><td>Kentaur Hotel</td><td>27</td><td>3</td></tr>",
                            "<tr><td>Gold Hotel</td><td>28</td><td>2</td></tr>",
                            "<tr><td>Hotel Három Hattyú</td><td>28</td><td>7</td></tr>",
                            "<tr><td>Kentaur Hotel</td><td>28</td><td>6</td></tr>",
                            "<tr><td>Gold Hotel</td><td>29</td><td>7</td></tr>",
                            "<tr><td>Hotel Három Hattyú</td><td>29</td><td>5</td></tr>",
                            "<tr><td>Kentaur Hotel</td><td>29</td><td>6</td></tr>",
                            "<tr><td>Családi Ház</td><td>3</td><td>6</td></tr>",
                            "<tr><td>Fortuna Apartman</td><td>3</td><td>6</td></tr>",
                            "<tr><td>Fortuna panzió</td><td>3</td><td>13</td></tr>",
                            "<tr><td>Gold Hotel</td><td>3</td><td>2</td></tr>",
                            "<tr><td>Hotel Három Hattyú</td><td>3</td><td>5</td></tr>",
                            "<tr><td>Jáde panzió</td><td>3</td><td>6</td></tr>",
                            "<tr><td>Kentaur Hotel</td><td>3</td><td>5</td></tr>",
                            "<tr><td>Lagúna Hotel</td><td>3</td><td>6</td></tr>",
                            "<tr><td>Partiszél Vendégház</td><td>3</td><td>3</td></tr>",
                            "<tr><td>Sába-Ház</td><td>3</td><td>8</td></tr>",
                            "<tr><td>Szieszta Apartmanház</td><td>3</td><td>5</td></tr>",
                            "<tr><td>Gold Hotel</td><td>30</td><td>1</td></tr>",
                            "<tr><td>Hotel Három Hattyú</td><td>30</td><td>6</td></tr>",
                            "<tr><td>Kentaur Hotel</td><td>30</td><td>5</td></tr>",
                            "<tr><td>Gold Hotel</td><td>31</td><td>6</td></tr>",
                            "<tr><td>Hotel Három Hattyú</td><td>31</td><td>8</td></tr>",
                            "<tr><td>Kentaur Hotel</td><td>31</td><td>7</td></tr>",
                            "<tr><td>Gold Hotel</td><td>32</td><td>4</td></tr>",
                            "<tr><td>Hotel Három Hattyú</td><td>32</td><td>9</td></tr>",
                            "<tr><td>Kentaur Hotel</td><td>32</td><td>5</td></tr>",
                            "<tr><td>Gold Hotel</td><td>33</td><td>6</td></tr>",
                            "<tr><td>Hotel Három Hattyú</td><td>33</td><td>5</td></tr>",
                            "<tr><td>Kentaur Hotel</td><td>33</td><td>6</td></tr>",
                            "<tr><td>Gold Hotel</td><td>34</td><td>8</td></tr>",
                            "<tr><td>Hotel Három Hattyú</td><td>34</td><td>6</td></tr>",
                            "<tr><td>Kentaur Hotel</td><td>34</td><td>8</td></tr>",
                            "<tr><td>Hotel Három Hattyú</td><td>35</td><td>1</td></tr>",
                            "<tr><td>Kentaur Hotel</td><td>35</td><td>4</td></tr>",
                            "<tr><td>Hotel Három Hattyú</td><td>36</td><td>6</td></tr>",
                            "<tr><td>Hotel Három Hattyú</td><td>37</td><td>7</td></tr>",
                            "<tr><td>Hotel Három Hattyú</td><td>38</td><td>5</td></tr>",
                            "<tr><td>Hotel Három Hattyú</td><td>39</td><td>4</td></tr>",
                            "<tr><td>Családi Ház</td><td>4</td><td>5</td></tr>",
                            "<tr><td>Fortuna Apartman</td><td>4</td><td>5</td></tr>",
                            "<tr><td>Fortuna panzió</td><td>4</td><td>14</td></tr>",
                            "<tr><td>Gold Hotel</td><td>4</td><td>5</td></tr>",
                            "<tr><td>Hotel Három Hattyú</td><td>4</td><td>10</td></tr>",
                            "<tr><td>Jáde panzió</td><td>4</td><td>6</td></tr>",
                            "<tr><td>Kentaur Hotel</td><td>4</td><td>2</td></tr>",
                            "<tr><td>Lagúna Hotel</td><td>4</td><td>7</td></tr>",
                            "<tr><td>Partiszél Vendégház</td><td>4</td><td>7</td></tr>",
                            "<tr><td>Sába-Ház</td><td>4</td><td>6</td></tr>",
                            "<tr><td>Szieszta Apartmanház</td><td>4</td><td>8</td></tr>",
                            "<tr><td>Fortuna Apartman</td><td>5</td><td>4</td></tr>",
                            "<tr><td>Fortuna panzió</td><td>5</td><td>12</td></tr>",
                            "<tr><td>Gold Hotel</td><td>5</td><td>6</td></tr>",
                            "<tr><td>Hotel Három Hattyú</td><td>5</td><td>4</td></tr>",
                            "<tr><td>Jáde panzió</td><td>5</td><td>6</td></tr>",
                            "<tr><td>Kentaur Hotel</td><td>5</td><td>6</td></tr>",
                            "<tr><td>Lagúna Hotel</td><td>5</td><td>7</td></tr>",
                            "<tr><td>Partiszél Vendégház</td><td>5</td><td>5</td></tr>",
                            "<tr><td>Sába-Ház</td><td>5</td><td>4</td></tr>",
                            "<tr><td>Szieszta Apartmanház</td><td>5</td><td>8</td></tr>",
                            "<tr><td>Fortuna Apartman</td><td>6</td><td>6</td></tr>",
                            "<tr><td>Fortuna Panzió</td><td>6</td><td>8</td></tr>",
                            "<tr><td>Gold Hotel</td><td>6</td><td>5</td></tr>",
                            "<tr><td>Hotel Három Hattyú</td><td>6</td><td>7</td></tr>",
                            "<tr><td>Kentaur Hotel</td><td>6</td><td>8</td></tr>",
                            "<tr><td>Lagúna Hotel</td><td>6</td><td>8</td></tr>",
                            "<tr><td>Sába-Ház</td><td>6</td><td>6</td></tr>",
                            "<tr><td>Szieszta Apartmanház</td><td>6</td><td>4</td></tr>",
                            "<tr><td>Fortuna Apartman</td><td>7</td><td>3</td></tr>",
                            "<tr><td>Fortuna panzió</td><td>7</td><td>7</td></tr>",
                            "<tr><td>Gold Hotel</td><td>7</td><td>5</td></tr>",
                            "<tr><td>Hotel Három Hattyú</td><td>7</td><td>7</td></tr>",
                            "<tr><td>Kentaur Hotel</td><td>7</td><td>2</td></tr>",
                            "<tr><td>Lagúna Hotel</td><td>7</td><td>6</td></tr>",
                            "<tr><td>Sába-Ház</td><td>7</td><td>6</td></tr>",
                            "<tr><td>Fortuna Apartman</td><td>8</td><td>3</td></tr>",
                            "<tr><td>Fortuna panzió</td><td>8</td><td>3</td></tr>",
                            "<tr><td>Gold Hotel</td><td>8</td><td>9</td></tr>",
                            "<tr><td>Hotel Három Hattyú</td><td>8</td><td>4</td></tr>",
                            "<tr><td>Kentaur Hotel</td><td>8</td><td>4</td></tr>",
                            "<tr><td>Lagúna Hotel</td><td>8</td><td>2</td></tr>",
                            "<tr><td>Sába-Ház</td><td>8</td><td>5</td></tr>",
                            "<tr><td>Fortuna Panzió</td><td>9</td><td>15</td></tr>",
                            "<tr><td>Gold Hotel</td><td>9</td><td>4</td></tr>",
                            "<tr><td>Hotel Három Hattyú</td><td>9</td><td>5</td></tr>",
                            "<tr><td>Kentaur Hotel</td><td>9</td><td>13</td></tr>",
                            "<tr><td>Lagúna Hotel</td><td>9</td><td>7</td></tr>",
                            "<tr><td>Sába-Ház</td><td>9</td><td>6</td></tr>",
                            "</table>"
                        ]
                    }
                }
            ],
            "execution_count": 17
        }
    ]
}